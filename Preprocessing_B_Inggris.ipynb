{
  "nbformat": 4,
  "nbformat_minor": 0,
  "metadata": {
    "colab": {
      "name": "Preprocessing B. Inggris.ipynb",
      "provenance": [],
      "authorship_tag": "ABX9TyPBmRBnVkdNt1gd1wo8GDi/",
      "include_colab_link": true
    },
    "kernelspec": {
      "name": "python3",
      "display_name": "Python 3"
    },
    "language_info": {
      "name": "python"
    }
  },
  "cells": [
    {
      "cell_type": "markdown",
      "metadata": {
        "id": "view-in-github",
        "colab_type": "text"
      },
      "source": [
        "<a href=\"https://colab.research.google.com/github/auliaaaz/-NLP-Natural-Language-Processing/blob/main/Preprocessing_B_Inggris.ipynb\" target=\"_parent\"><img src=\"https://colab.research.google.com/assets/colab-badge.svg\" alt=\"Open In Colab\"/></a>"
      ]
    },
    {
      "cell_type": "markdown",
      "metadata": {
        "id": "3-rtNVhxkVqC"
      },
      "source": [
        "Mengimpor teks dari web\n"
      ]
    },
    {
      "cell_type": "code",
      "metadata": {
        "id": "GZio5-OEkfzc"
      },
      "source": [
        "import requests\n",
        "from bs4 import BeautifulSoup"
      ],
      "execution_count": 12,
      "outputs": []
    },
    {
      "cell_type": "code",
      "metadata": {
        "colab": {
          "base_uri": "https://localhost:8080/",
          "height": 178
        },
        "id": "dh89WONghgwD",
        "outputId": "1fc970d5-8735-4cb1-9b5d-e46913c8399e"
      },
      "source": [
        "results = requests.get('https://webscraper.io/blog/frequently-asked-questions')\n",
        "results.text"
      ],
      "execution_count": 13,
      "outputs": [
        {
          "output_type": "execute_result",
          "data": {
            "application/vnd.google.colaboratory.intrinsic+json": {
              "type": "string"
            },
            "text/plain": [
              "'<!DOCTYPE html>\\n<html lang=\"en\">\\n<head>\\n\\n\\t\\t\\t<!-- Anti-flicker snippet (recommended)  -->\\n<style>.async-hide {\\n\\t\\topacity: 0 !important\\n\\t} </style>\\n<script>(function (a, s, y, n, c, h, i, d, e) {\\n\\t\\ts.className += \\' \\' + y;\\n\\t\\th.start = 1 * new Date;\\n\\t\\th.end = i = function () {\\n\\t\\t\\ts.className = s.className.replace(RegExp(\\' ?\\' + y), \\'\\')\\n\\t\\t};\\n\\t\\t(a[n] = a[n] || []).hide = h;\\n\\t\\tsetTimeout(function () {\\n\\t\\t\\ti();\\n\\t\\t\\th.end = null\\n\\t\\t}, c);\\n\\t\\th.timeout = c;\\n\\t})(window, document.documentElement, \\'async-hide\\', \\'dataLayer\\', 4000,\\n\\t\\t{\\'GTM-NVFPDWB\\': true});</script>\\n\\t\\n\\t<!-- Google Tag Manager -->\\n<script>(function (w, d, s, l, i) {\\n\\t\\tw[l] = w[l] || [];\\n\\t\\tw[l].push({\\n\\t\\t\\t\\'gtm.start\\':\\n\\t\\t\\t\\tnew Date().getTime(), event: \\'gtm.js\\'\\n\\t\\t});\\n\\t\\tvar f = d.getElementsByTagName(s)[0],\\n\\t\\t\\tj = d.createElement(s), dl = l != \\'dataLayer\\' ? \\'&l=\\' + l : \\'\\';\\n\\t\\tj.async = true;\\n\\t\\tj.src =\\n\\t\\t\\t\\'https://www.googletagmanager.com/gtm.js?id=\\' + i + dl;\\n\\t\\tf.parentNode.insertBefore(j, f);\\n\\t})(window, document, \\'script\\', \\'dataLayer\\', \\'GTM-NVFPDWB\\');</script>\\n<!-- End Google Tag Manager -->\\n\\t<title>Most Frequently Asked Questions Answered.</title>\\n\\t<meta charset=\"utf-8\">\\n\\t<meta http-equiv=\"X-UA-Compatible\" content=\"IE=edge,chrome=1\">\\n\\n\\t<meta name=\"keywords\"\\n\\t      content=\"Guide\"/>\\n\\t<meta name=\"description\"\\n\\t      content=\"The most popular web scraping extension. Start scraping in minutes. Automate your tasks with our Cloud Scraper. No software to download, no coding needed.\"/>\\n\\t<link rel=\"icon\" sizes=\"128x128\" href=\"/favicon.png\">\\n\\n\\t<meta name=\"viewport\" content=\"width=device-width, initial-scale=1.0\">\\n\\t\\n\\t<link rel=\"stylesheet\" href=\"/css/app.css?id=e4de8db16b64e604046e\">\\n\\n\\t<link rel=\"canonical\" href=\"https://webscraper.io/blog/frequently-asked-questions\">\\n\\t<link rel=\"apple-touch-icon\" href=\"/img/logo-icon.png\">\\n\\n\\t\\t<script defer src=\"/js/app.js?id=e64f07a3ce1d466cf04c\"></script>\\n\\n\\t\\t\\n\\t\\n\\t\\t\\t<meta property=\"og:image\" content=\"https://blog-images.webscraper.io/images/thpVCGtfuAf2PLx5bl2ZYRdHqvYcc9UMRgsC2m8g.png\"/>\\n\\t\\n\\t<meta name=\"twitter:card\" content=\"summary\"/>\\n\\n\\t\\n\\t\\n</head>\\n<body>\\n<!-- Google Tag Manager (noscript) -->\\n<noscript>\\n\\t<iframe src=\"https://www.googletagmanager.com/ns.html?id=GTM-NVFPDWB\"\\n\\t        height=\"0\" width=\"0\" style=\"display:none;visibility:hidden\"></iframe>\\n</noscript>\\n<!-- End Google Tag Manager (noscript) -->\\n<header role=\"banner\" class=\"navbar navbar-fixed-top navbar-static\">\\n\\t<div class=\"container\">\\n\\n\\t\\t<div class=\"navbar-header\">\\n\\n\\t\\t\\t<a data-toggle=\"collapse-side\" data-target=\".side-collapse\" data-target-2=\".side-collapse-container\">\\n\\t\\t\\t\\t<button type=\"button\" class=\"navbar-toggle pull-right collapsed\" data-toggle=\"collapse\"\\n\\t\\t\\t\\t        data-target=\"#navbar\" data-target-2=\".side-collapse-container\" data-target-3=\".side-collapse\"\\n\\t\\t\\t\\t        aria-expanded=\"false\" aria-controls=\"navbar\">\\n\\n\\t\\t\\t\\t\\t<span class=\"sr-only\">Toggle navigation</span>\\n\\t\\t\\t\\t\\t<span class=\"icon-bar top-bar\"></span>\\n\\t\\t\\t\\t\\t<span class=\"icon-bar middle-bar\"></span>\\n\\t\\t\\t\\t\\t<span class=\"icon-bar bottom-bar\"></span>\\n\\n\\t\\t\\t\\t</button>\\n\\t\\t\\t</a>\\n\\t\\t\\t<div class=\"navbar-brand\">\\n\\t\\t\\t\\t<a href=\"/\"><img src=\"/img/logo_white.svg\" alt=\"Web Scraper\"></a>\\n\\t\\t\\t</div>\\n\\t\\t</div>\\n\\n\\t\\t<div class=\"side-collapse in\">\\n\\t\\t\\t<nav id=\"navbar\" role=\"navigation\" class=\"navbar-collapse collapse\">\\n\\t\\t\\t\\t<ul class=\"nav navbar-nav navbar-right\">\\n\\t\\t\\t\\t\\t<li class=\"hidden\">\\n\\t\\t\\t\\t\\t\\t<a href=\"#page-top\"></a>\\n\\t\\t\\t\\t\\t</li>\\n\\t\\t\\t\\t\\t\\n\\t\\t\\t\\t\\t\\n\\t\\t\\t\\t\\t\\n\\t\\t\\t\\t\\t\\n\\t\\t\\t\\t\\t\\n\\t\\t\\t\\t\\t\\n\\t\\t\\t\\t\\t\\n\\t\\t\\t\\t\\t<li>\\n\\t\\t\\t\\t\\t\\t<a href=\"/\" class=\"menuitm\">\\n\\t\\t\\t\\t\\t\\t\\t<p>Web Scraper</p>\\n\\t\\t\\t\\t\\t\\t\\t<div class=\"crta\"></div>\\n\\t\\t\\t\\t\\t\\t</a>\\n\\t\\t\\t\\t\\t</li>\\n\\t\\t\\t\\t\\t<li>\\n\\t\\t\\t\\t\\t\\t<a href=\"/cloud-scraper\" class=\"menuitm\">\\n\\t\\t\\t\\t\\t\\t\\t<p>Cloud Scraper</p>\\n\\t\\t\\t\\t\\t\\t\\t<div class=\"crta\"></div>\\n\\t\\t\\t\\t\\t\\t</a>\\n\\t\\t\\t\\t\\t</li>\\n\\t\\t\\t\\t\\t<li>\\n\\t\\t\\t\\t\\t\\t<a href=\"/pricing\" class=\"menuitm\">\\n\\t\\t\\t\\t\\t\\t\\t<p>Pricing</p>\\n\\t\\t\\t\\t\\t\\t\\t<div class=\"crta\"></div>\\n\\t\\t\\t\\t\\t\\t</a>\\n\\t\\t\\t\\t\\t</li>\\n\\t\\t\\t\\t\\t\\n\\t\\t\\t\\t\\t\\n\\t\\t\\t\\t\\t\\n\\t\\t\\t\\t\\t\\n\\t\\t\\t\\t\\t\\n\\t\\t\\t\\t\\t\\n\\t\\t\\t\\t\\t\\n\\t\\t\\t\\t\\t\\n\\t\\t\\t\\t\\t\\n\\t\\t\\t\\t\\t\\n\\t\\t\\t\\t\\t<li class=\"dropdown\">\\n\\t\\t\\t\\t\\t\\t<a href=\"#section3\" class=\"menuitm dropdown-toggle\" data-toggle=\"dropdown\">\\n\\t\\t\\t\\t\\t\\t\\t<p>Learn</p>\\n\\t\\t\\t\\t\\t\\t\\t<div class=\"crta\"></div>\\n\\t\\t\\t\\t\\t\\t</a>\\n\\t\\t\\t\\t\\t\\t<ul class=\"dropdown-menu\">\\n\\t\\t\\t\\t\\t\\t\\t<li>\\n\\t\\t\\t\\t\\t\\t\\t\\t<a href=\"/documentation\">Documentation</a>\\n\\t\\t\\t\\t\\t\\t\\t</li>\\n\\t\\t\\t\\t\\t\\t\\t<li>\\n\\t\\t\\t\\t\\t\\t\\t\\t<a href=\"/tutorials\">Video Tutorials</a>\\n\\t\\t\\t\\t\\t\\t\\t</li>\\n\\t\\t\\t\\t\\t\\t\\t<li>\\n\\t\\t\\t\\t\\t\\t\\t\\t<a href=\"/how-to-videos\">How to</a>\\n\\t\\t\\t\\t\\t\\t\\t</li>\\n\\t\\t\\t\\t\\t\\t\\t<li>\\n\\t\\t\\t\\t\\t\\t\\t\\t<a href=\"/test-sites\">Test Sites</a>\\n\\t\\t\\t\\t\\t\\t\\t</li>\\n\\t\\t\\t\\t\\t\\t\\t<li>\\n\\t\\t\\t\\t\\t\\t\\t\\t<a href=\"https://forum.webscraper.io/\" target=\"_blank\" rel=\"noopener\">Forum</a>\\n\\t\\t\\t\\t\\t\\t\\t</li>\\n\\t\\t\\t\\t\\t\\t</ul>\\n\\t\\t\\t\\t\\t</li>\\n\\t\\t\\t\\t\\t<li>\\n\\t\\t\\t\\t\\t\\t<a target=\"_blank\" href=\"https://chrome.google.com/webstore/detail/web-scraper/jnhgnonknehpejjnehehllkliplmbmhn?hl=en\" class=\"btn-menu1 install-extension\" rel=\"noopener\">Install</a>\\n\\t\\t\\t\\t\\t</li>\\n\\t\\t\\t\\t\\t<li>\\n\\t\\t\\t\\t\\t\\t<a href=\"https://cloud.webscraper.io/\" class=\"btn-menu2\">Login</a>\\n\\t\\t\\t\\t\\t</li>\\n\\t\\t\\t\\t</ul>\\n\\t\\t\\t</nav>\\n\\t\\t</div>\\n\\t</div>\\n</header>\\n\\n<div class=\"wrapper\">\\n\\t\\t<div class=\"formenu-here container-fluid\">\\n\\n\\t</div>\\n\\n\\t\\t<div class=\"container-fluid blog-page\">\\n\\t\\t<div class=\"container blog-content-container\">\\n\\t\\t\\t<div class=\"row\">\\n\\t\\t\\t\\t<div class=\"col-md-12\">\\n\\t\\t\\t\\t\\t<div class=\"bloginside\" itemscope itemtype=\"https://schema.org/Blog\">\\n\\t\\t\\t\\t\\t\\t<h1 itemprop=\"headline\">Most Frequently Asked Questions Answered.</h1>\\n\\t\\t\\t\\t\\t\\t<p class=\"date\" itemprop=\"datePublished\">August 02, 2021</p>\\n\\t\\t\\t\\t\\t\\t<p class=\"category\" itemprop=\"keywords\">Guide</p>\\n\\n\\t\\t\\t\\t\\t\\t<ul class=\"share-buttons\">\\n\\t<li class=\"share-on-social facebook\">\\n\\t\\t<a class=\"share-button\" id=\"fbShareBtn\">\\n\\t\\t\\t<i class=\"fa fa-facebook\"></i>\\n\\t\\t</a>\\n\\t\\t<script>\\n\\t\\t\\tdocument.getElementById(\\'fbShareBtn\\').onclick = function () {\\n\\t\\t\\t\\twindow.open(\"https://www.facebook.com/sharer/sharer.php?u=\" + window.location.href, \"pop\", \"width=800, height=600, scrollbars=no\");\\n\\t\\t\\t};\\n\\t\\t</script>\\n\\t</li>\\n\\n\\t<li class=\"share-on-social twitter\">\\n\\t\\t<a class=\"share-button\" id=\"twitterShareBtn\">\\n\\t\\t\\t<i class=\"fa fa-twitter\"></i>\\n\\t\\t</a>\\n\\t\\t<script>\\n\\t\\t\\tdocument.getElementById(\\'twitterShareBtn\\').onclick = function () {\\n\\t\\t\\t\\twindow.open(\"https://twitter.com/intent/tweet?url=\" + encodeURIComponent(window.location.href), \"pop\", \"width=800, height=600, scrollbars=no\");\\n\\t\\t\\t};\\n\\t\\t</script>\\n\\t</li>\\n\\n\\t<li class=\"share-on-social linkedin\">\\n\\t\\t<a class=\"share-button\" id=\"linkedinShareBtn\">\\n\\t\\t\\t<i class=\"fa fa-linkedin\"></i>\\n\\t\\t</a>\\n\\t\\t<script>\\n\\t\\t\\tdocument.getElementById(\\'linkedinShareBtn\\').onclick = function () {\\n\\t\\t\\t\\twindow.open(\"https://www.linkedin.com/shareArticle?mini=true&url=\" + window.location.href, \"pop\", \"width=800, height=600, scrollbars=no\");\\n\\t\\t\\t};\\n\\t\\t</script>\\n\\t</li>\\n\\n\\t<li class=\"share-on-social reddit\">\\n\\t\\t<a class=\"share-button\" id=\"redditShareBtn\">\\n\\t\\t\\t<i class=\"fa fa-reddit\"></i>\\n\\t\\t</a>\\n\\t\\t<script>\\n\\t\\t\\tdocument.getElementById(\\'redditShareBtn\\').onclick = function () {\\n\\t\\t\\t\\twindow.open(\"http://www.reddit.com/submit?url=\" + window.location.href, \"pop\", \"width=800, height=600, scrollbars=no\");\\n\\t\\t\\t};\\n\\t\\t</script>\\n\\t</li>\\n\\n\\t<li class=\"share-on-social whatsapp\">\\n\\t\\t<a class=\"share-button\" id=\"whatsappShareBtn\">\\n\\t\\t\\t<i class=\"fa fa-whatsapp\"></i>\\n\\t\\t</a>\\n\\t\\t<script>\\n\\t\\t\\tdocument.getElementById(\\'whatsappShareBtn\\').onclick = function () {\\n\\t\\t\\t\\twindow.open(\"https://wa.me/?text=\" + encodeURIComponent(window.location.href), \"pop\", \"width=800, height=600, scrollbars=no\");\\n\\t\\t\\t};\\n\\t\\t</script>\\n\\t</li>\\n\\n\\t<li class=\"share-on-social telegram\">\\n\\t\\t<a class=\"share-button\" id=\"telegramShareBtn\">\\n\\t\\t\\t<i class=\"fa fa-send\"></i>\\n\\t\\t</a>\\n\\t\\t<script>\\n\\t\\t\\tdocument.getElementById(\\'telegramShareBtn\\').onclick = function () {\\n\\t\\t\\t\\twindow.open(\"https://t.me/share/url?url=\" + encodeURIComponent(window.location.href), \"pop\", \"width=800, height=600, scrollbars=no\");\\n\\t\\t\\t};\\n\\t\\t</script>\\n\\t</li>\\n</ul>\\n\\n\\t\\t\\t\\t\\t\\t<div class=\"image-container\">\\n\\t\\t\\t\\t\\t\\t\\t<img class=\"img-responsive\" src=\"https://blog-images.webscraper.io/images/thpVCGtfuAf2PLx5bl2ZYRdHqvYcc9UMRgsC2m8g.png\" itemprop=\"image\" alt=web-scraping-data-science-questions-answered-blog-post-image>\\n\\t\\t\\t\\t\\t\\t</div>\\n\\n\\t\\t\\t\\t\\t\\t<div itemprop=\"text\">\\n\\t\\t\\t\\t\\t\\t\\t<p>For discovery and greater understanding, questions are a must. Therefore, we have collected the most frequently asked questions by the public about different web scraping topics.</p><hr><h2>What does web scraping mean?</h2><p>Web scraping or web data extraction is the process of retrieving web data. It is meant that with the help of web scraping tools and/or software’s one can easily gather bulks of the necessary information from the data available on the internet. A great deal of web data extraction is that it replaces the very time-consuming and tiring work of copy-pasting whatever information from the websites. And since data nowadays frequently is basically related to the word “power”, web scraping has become widely popular and increasingly getting developed to become solely automatized.</p><h2>How does web scraping work?</h2><p>Nowadays, there are various tools and software that are widely accessible to anyone for gathering web content. Even if each differs in one way or another, the main principle stays the same. For web data extraction two main aspects have to be decided upon - the URL form which to gather the information, and the type of data that is necessary to collect. It is because web scraping takes the URL and renders the whole website for the information necessary. To simply put it, each and every website is built upon code, a united language. The web scraping programs and software are built to read and recognize parts of that code and, with certain features, designate the specific parts to be retrieved.&nbsp;</p><h2>Is web scraping legal?</h2><p>Yes and no. Mainly it is based on what kind of information is scraped and what is published. To make sure that the scraping process is legal one must check the Terms and Conditions of the website. Also, in cases when scraping personal information, the collection of sensitive data is a question of legality. Sensitive data refers to any person’s ethnic, racial, sexual orientation, health, biometric data, etc. For this specific subject, we will present a full separate article explaining more precisely. However, for the long run, when scraping data that will be published in one way or another, make sure that it is according to the website’s T&amp;C, and that you do not obtain any sensitive data.</p><h2>Which websites allow web scraping?</h2><p>The allowance of the process is a question of the specific website you are looking to scrape. Most websites are scrapable; however, to make sure if it is allowed - you have to look for the Terms and Conditions of the specific website. With a simple CTRL + F and keywords, it is possible to quickly see if there are any restrictions or not. This is a large step to make sure that the web scraping is legal and that data gathering goes smoothly without any unfortunate consequences.</p><h2>Can web scraping be detected?</h2><p>Yes, web scraping can be detectable by the owners of the websites in one sense or another, although, not always this is the case. The detection can be minimized by applying various techniques when extracting data, but the most frequent ways that it can be detected are quite simple - for example, once a web page is opened, from whoever, the website detects various types of data,&nbsp;such as IP addresses, page request rate, number of requests in any given time span, location, etc. Therefore, once a web scraper is run, for example, using a 0.5-second page request interval, the website detects that most likely, it is not human that is traversing the web page, as this is not in line with behavior you expect from a real visitor, consuming the content of the page.</p><h2>Why is web scraping used?</h2><p>For many reasons. The primary reason is to avoid manually copy-paste information. But if we look at different industries - each has its own need for using web scraping. For example, in marketing, the most popular use of web scraping is collecting leads. For e-commerce, it is scraping other e-commerce sites. Researchers gather the data necessary for their analysis. And for almost any business - data for price and customer analysis is gathered. Since the volume of data available on the internet is expanding by 2.5 quintillion bytes of data each day at our current pace, the need to gather data evolves; therefore, the usage of web scraping varies.</p><h2>How is web scraping applied in data science?</h2><p>A few of the top trends in data science are machine learning, IoT, edge computing, artificial intelligence, and others. It might come as a surprise for some, but web scraping can be applied to the aforementioned trends in various ways. For example, for real-time analysis providing insights without any delay, predictive analysis for working out patterns in data and predicting future outcomes or trends, natural language processing for gathering data that allows machines to learn natural languages, and many more.</p><h2>Can I make money using web scraping?</h2><p>To make money with web scraping, think of the question “Who needs data?”. The answer is - almost everyone. Therefore, seeking the best options and creating your own vision of entrepreneurship with web scraping is a very possible case. Creativity is the limit. Nowadays, one of the most popular ways of leveraging web scraping for monetary gain is by aggregating large amounts of useful data. Whether this is business, real estate, product, or any other type of data.&nbsp;</p><p>A common application of this would be to create your own Shopify store. We have covered this topic in one of our previous blogs, which you can find <a href=\"https://webscraper.io/blog/webscraper-shopify-import\\\\\" rel=\"noopener noreferrer\" target=\"_blank\">here</a>.</p><p><br></p><p>Great! Hope that these answers showcased a few insights into the importance and usage of web scraping. If there are more specifics that you want us to cover - do not hesitate to contact us!</p><p>Happy web scraping!</p><p><br></p>\\n\\t\\t\\t\\t\\t\\t</div>\\n\\n\\t\\t\\t\\t\\t\\t<div class=\"crta\"></div>\\n\\n\\t\\t\\t\\t\\t\\t<a class=\"linkforback\" href=\"/blog\"><i class=\"fa fa-angle-left\"></i> Go\\n\\t\\t\\t\\t\\t\\t\\tback to blog page</a>\\n\\t\\t\\t\\t\\t</div>\\n\\t\\t\\t\\t</div>\\n\\t\\t\\t\\t\\n\\t\\t\\t</div>\\n\\t\\t</div>\\n\\t</div>\\n\\t<div class=\"clearfix\"></div>\\n\\t<div class=\"push\"></div>\\n</div>\\n\\n<div class=\"container-fluid footer\" id=\"layout-footer\">\\n\\t<div class=\"container\">\\n\\t\\t<div class=\"row\">\\n\\t\\t\\t<div class=\"col-md-3\">\\n\\t\\t\\t\\t<ul>\\n\\t\\t\\t\\t\\t<li><p>Products</p></li>\\n\\t\\t\\t\\t\\t<li>\\n\\t\\t\\t\\t\\t\\t<a href=\"/\">Web Scraper browser extension</a>\\n\\t\\t\\t\\t\\t</li>\\n\\t\\t\\t\\t\\t<li>\\n\\t\\t\\t\\t\\t\\t<a href=\"/pricing\">Web Scraper Cloud</a>\\n\\t\\t\\t\\t\\t</li>\\n\\t\\t\\t\\t\\t\\t\\t\\t\\t\\t\\n\\t\\t\\t\\t\\t\\n\\t\\t\\t\\t</ul>\\n\\t\\t\\t</div>\\n\\t\\t\\t<div class=\"col-md-3\">\\n\\t\\t\\t\\t<ul>\\n\\t\\t\\t\\t\\t<li><p>Company</p></li>\\n\\t\\t\\t\\t\\t\\n\\t\\t\\t\\t\\t<li><a href=\"/contact\">Contact</a>\\n\\t\\t\\t\\t\\t</li>\\n\\t\\t\\t\\t\\t\\n\\t\\t\\t\\t\\t<li>\\n\\t\\t\\t\\t\\t\\t<a href=\"/privacy-policy\">Website Privacy Policy</a>\\n\\t\\t\\t\\t\\t</li>\\n\\t\\t\\t\\t\\t<li>\\n\\t\\t\\t\\t\\t\\t<a href=\"/extension-privacy-policy\">Browser Extension Privacy Policy</a>\\n\\t\\t\\t\\t\\t</li>\\n\\t\\t\\t\\t\\t<li>\\n\\t\\t\\t\\t\\t\\t<a href=\"http://webscraperio.us-east-1.elasticbeanstalk.com/downloads/Web_Scraper_Media_Kit.zip\">Media kit</a>\\n\\t\\t\\t\\t\\t</li>\\n\\t\\t\\t\\t\\t\\n\\t\\t\\t\\t\\t<li><a href=\"/jobs\">Jobs</a></li>\\n\\t\\t\\t\\t</ul>\\n\\t\\t\\t</div>\\n\\t\\t\\t<div class=\"col-md-3\">\\n\\t\\t\\t\\t<ul>\\n\\t\\t\\t\\t\\t<li><p>Resources</p></li>\\n\\t\\t\\t\\t\\t<li><a href=\"/blog\">Blog</a></li>\\n\\t\\t\\t\\t\\t<li>\\n\\t\\t\\t\\t\\t\\t<a href=\"/documentation\">Documentation</a>\\n\\t\\t\\t\\t\\t</li>\\n\\t\\t\\t\\t\\t<li>\\n\\t\\t\\t\\t\\t\\t<a href=\"/tutorials\">Video Tutorials</a>\\n\\t\\t\\t\\t\\t</li>\\n\\t\\t\\t\\t\\t<li>\\n\\t\\t\\t\\t\\t\\t<a href=\"/screenshots\">Screenshots</a>\\n\\t\\t\\t\\t\\t</li>\\n\\t\\t\\t\\t\\t<li>\\n\\t\\t\\t\\t\\t\\t<a href=\"/test-sites\">Test Sites</a>\\n\\t\\t\\t\\t\\t</li>\\n\\t\\t\\t\\t\\t<li>\\n\\t\\t\\t\\t\\t\\t<a target=\"_blank\" href=\"https://forum.webscraper.io/\" rel=\"noopener\">Forum</a>\\n\\t\\t\\t\\t\\t</li>\\n\\t\\t\\t\\t</ul>\\n\\t\\t\\t</div>\\n\\t\\t\\t<div class=\"col-md-3\">\\n\\t\\t\\t\\t<ul>\\n\\t\\t\\t\\t\\t<li><p>CONTACT US</p></li>\\n\\t\\t\\t\\t\\t<li>\\n\\t\\t\\t\\t\\t\\t<a href=\"mailto:info@webscraper.io\">info@webscraper.io</a>\\n\\t\\t\\t\\t\\t</li>\\n\\t\\t\\t\\t\\t\\n\\t\\t\\t\\t\\t<li>Rupniecibas iela 30,<br> Riga, Latvia, LV-1045</li>\\n\\t\\t\\t\\t</ul>\\n\\t\\t\\t\\t<ul class=\"smedia\">\\n\\t\\t\\t\\t\\t<li>\\n\\t\\t\\t\\t\\t\\t<a href=\"https://www.facebook.com/webscraperio/\" target=\"_blank\" rel=\"noopener\"><img src=\"/img/fbicon.png\" alt=\"Web Scraper on Facebook\"></a>\\n\\t\\t\\t\\t\\t</li>\\n\\t\\t\\t\\t\\t<li>\\n\\t\\t\\t\\t\\t\\t<a href=\"https://twitter.com/webscraperio\" target=\"_blank\" rel=\"noopener\"><img src=\"/img/twicon.png\" alt=\"Web Scraper on Twitter\"></a>\\n\\t\\t\\t\\t\\t</li>\\n\\t\\t\\t\\t\\t\\n\\n\\t\\t\\t\\t</ul>\\n\\t\\t\\t</div>\\n\\t\\t</div>\\n\\t\\t<div class=\"row\">\\n\\t\\t\\t<div class=\"col-md-12\">\\n\\t\\t\\t\\t<p class=\"copyright\">Copyright &copy 2021\\n\\t\\t\\t\\t\\t<a href=\"#\">Web Scraper</a> | All rights\\n\\t\\t\\t\\t\\treserved | Made by zoom59</p>\\n\\t\\t\\t</div>\\n\\t\\t</div>\\n\\t</div>\\n</div>\\n\\n\\n</body>\\n</html>\\n'"
            ]
          },
          "metadata": {},
          "execution_count": 13
        }
      ]
    },
    {
      "cell_type": "code",
      "metadata": {
        "colab": {
          "base_uri": "https://localhost:8080/",
          "height": 36
        },
        "id": "woY85DrmiALC",
        "outputId": "9408697c-3956-4bd3-c8a7-b4c5ed85b6fe"
      },
      "source": [
        "# Encoding\n",
        "results.encoding = results.apparent_encoding\n",
        "results.encoding"
      ],
      "execution_count": 14,
      "outputs": [
        {
          "output_type": "execute_result",
          "data": {
            "application/vnd.google.colaboratory.intrinsic+json": {
              "type": "string"
            },
            "text/plain": [
              "'utf-8'"
            ]
          },
          "metadata": {},
          "execution_count": 14
        }
      ]
    },
    {
      "cell_type": "code",
      "metadata": {
        "id": "BogYUsiriEe8"
      },
      "source": [
        "WP = BeautifulSoup(results.text, 'html.parser')"
      ],
      "execution_count": 16,
      "outputs": []
    },
    {
      "cell_type": "code",
      "metadata": {
        "colab": {
          "base_uri": "https://localhost:8080/"
        },
        "id": "m9xgCljAi73P",
        "outputId": "2aca3b0e-badd-422a-86ca-a2bc6e78c458"
      },
      "source": [
        "fullteks = []\n",
        "\n",
        "for paragraf in WP.find_all('p'):\n",
        "    fullteks.append(paragraf.getText())\n",
        "    \n",
        "fullteks"
      ],
      "execution_count": 15,
      "outputs": [
        {
          "output_type": "execute_result",
          "data": {
            "text/plain": [
              "['Web Scraper',\n",
              " 'Cloud Scraper',\n",
              " 'Pricing',\n",
              " 'Learn',\n",
              " 'August 02, 2021',\n",
              " 'Guide',\n",
              " 'For discovery and greater understanding, questions are a must. Therefore, we have collected the most frequently asked questions by the public about different web scraping topics.',\n",
              " 'Web scraping or web data extraction is the process of retrieving web data. It is meant that with the help of web scraping tools and/or software’s one can easily gather bulks of the necessary information from the data available on the internet. A great deal of web data extraction is that it replaces the very time-consuming and tiring work of copy-pasting whatever information from the websites. And since data nowadays frequently is basically related to the word “power”, web scraping has become widely popular and increasingly getting developed to become solely automatized.',\n",
              " 'Nowadays, there are various tools and software that are widely accessible to anyone for gathering web content. Even if each differs in one way or another, the main principle stays the same. For web data extraction two main aspects have to be decided upon - the URL form which to gather the information, and the type of data that is necessary to collect. It is because web scraping takes the URL and renders the whole website for the information necessary. To simply put it, each and every website is built upon code, a united language. The web scraping programs and software are built to read and recognize parts of that code and, with certain features, designate the specific parts to be retrieved.\\xa0',\n",
              " 'Yes and no. Mainly it is based on what kind of information is scraped and what is published. To make sure that the scraping process is legal one must check the Terms and Conditions of the website. Also, in cases when scraping personal information, the collection of sensitive data is a question of legality. Sensitive data refers to any person’s ethnic, racial, sexual orientation, health, biometric data, etc. For this specific subject, we will present a full separate article explaining more precisely. However, for the long run, when scraping data that will be published in one way or another, make sure that it is according to the website’s T&C, and that you do not obtain any sensitive data.',\n",
              " 'The allowance of the process is a question of the specific website you are looking to scrape. Most websites are scrapable; however, to make sure if it is allowed - you have to look for the Terms and Conditions of the specific website. With a simple CTRL + F and keywords, it is possible to quickly see if there are any restrictions or not. This is a large step to make sure that the web scraping is legal and that data gathering goes smoothly without any unfortunate consequences.',\n",
              " 'Yes, web scraping can be detectable by the owners of the websites in one sense or another, although, not always this is the case. The detection can be minimized by applying various techniques when extracting data, but the most frequent ways that it can be detected are quite simple - for example, once a web page is opened, from whoever, the website detects various types of data,\\xa0such as IP addresses, page request rate, number of requests in any given time span, location, etc. Therefore, once a web scraper is run, for example, using a 0.5-second page request interval, the website detects that most likely, it is not human that is traversing the web page, as this is not in line with behavior you expect from a real visitor, consuming the content of the page.',\n",
              " 'For many reasons. The primary reason is to avoid manually copy-paste information. But if we look at different industries - each has its own need for using web scraping. For example, in marketing, the most popular use of web scraping is collecting leads. For e-commerce, it is scraping other e-commerce sites. Researchers gather the data necessary for their analysis. And for almost any business - data for price and customer analysis is gathered. Since the volume of data available on the internet is expanding by 2.5 quintillion bytes of data each day at our current pace, the need to gather data evolves; therefore, the usage of web scraping varies.',\n",
              " 'A few of the top trends in data science are machine learning, IoT, edge computing, artificial intelligence, and others. It might come as a surprise for some, but web scraping can be applied to the aforementioned trends in various ways. For example, for real-time analysis providing insights without any delay, predictive analysis for working out patterns in data and predicting future outcomes or trends, natural language processing for gathering data that allows machines to learn natural languages, and many more.',\n",
              " 'To make money with web scraping, think of the question “Who needs data?”. The answer is - almost everyone. Therefore, seeking the best options and creating your own vision of entrepreneurship with web scraping is a very possible case. Creativity is the limit. Nowadays, one of the most popular ways of leveraging web scraping for monetary gain is by aggregating large amounts of useful data. Whether this is business, real estate, product, or any other type of data.\\xa0',\n",
              " 'A common application of this would be to create your own Shopify store. We have covered this topic in one of our previous blogs, which you can find here.',\n",
              " '',\n",
              " 'Great! Hope that these answers showcased a few insights into the importance and usage of web scraping. If there are more specifics that you want us to cover - do not hesitate to contact us!',\n",
              " 'Happy web scraping!',\n",
              " '',\n",
              " 'Products',\n",
              " 'Company',\n",
              " 'Resources',\n",
              " 'CONTACT US',\n",
              " 'Copyright © 2021\\n\\t\\t\\t\\t\\tWeb Scraper | All rights\\n\\t\\t\\t\\t\\treserved | Made by zoom59']"
            ]
          },
          "metadata": {},
          "execution_count": 15
        }
      ]
    },
    {
      "cell_type": "code",
      "metadata": {
        "colab": {
          "base_uri": "https://localhost:8080/"
        },
        "id": "JGc8t8WQjWy5",
        "outputId": "4d0435c6-a1d4-45fa-af3f-0b610f03a4a6"
      },
      "source": [
        "### Menghilangkan White Space\n",
        "fullteks = [paragraf.strip() for paragraf in fullteks if paragraf != '']\n",
        "fullteks"
      ],
      "execution_count": 17,
      "outputs": [
        {
          "output_type": "execute_result",
          "data": {
            "text/plain": [
              "['Web Scraper',\n",
              " 'Cloud Scraper',\n",
              " 'Pricing',\n",
              " 'Learn',\n",
              " 'August 02, 2021',\n",
              " 'Guide',\n",
              " 'For discovery and greater understanding, questions are a must. Therefore, we have collected the most frequently asked questions by the public about different web scraping topics.',\n",
              " 'Web scraping or web data extraction is the process of retrieving web data. It is meant that with the help of web scraping tools and/or software’s one can easily gather bulks of the necessary information from the data available on the internet. A great deal of web data extraction is that it replaces the very time-consuming and tiring work of copy-pasting whatever information from the websites. And since data nowadays frequently is basically related to the word “power”, web scraping has become widely popular and increasingly getting developed to become solely automatized.',\n",
              " 'Nowadays, there are various tools and software that are widely accessible to anyone for gathering web content. Even if each differs in one way or another, the main principle stays the same. For web data extraction two main aspects have to be decided upon - the URL form which to gather the information, and the type of data that is necessary to collect. It is because web scraping takes the URL and renders the whole website for the information necessary. To simply put it, each and every website is built upon code, a united language. The web scraping programs and software are built to read and recognize parts of that code and, with certain features, designate the specific parts to be retrieved.',\n",
              " 'Yes and no. Mainly it is based on what kind of information is scraped and what is published. To make sure that the scraping process is legal one must check the Terms and Conditions of the website. Also, in cases when scraping personal information, the collection of sensitive data is a question of legality. Sensitive data refers to any person’s ethnic, racial, sexual orientation, health, biometric data, etc. For this specific subject, we will present a full separate article explaining more precisely. However, for the long run, when scraping data that will be published in one way or another, make sure that it is according to the website’s T&C, and that you do not obtain any sensitive data.',\n",
              " 'The allowance of the process is a question of the specific website you are looking to scrape. Most websites are scrapable; however, to make sure if it is allowed - you have to look for the Terms and Conditions of the specific website. With a simple CTRL + F and keywords, it is possible to quickly see if there are any restrictions or not. This is a large step to make sure that the web scraping is legal and that data gathering goes smoothly without any unfortunate consequences.',\n",
              " 'Yes, web scraping can be detectable by the owners of the websites in one sense or another, although, not always this is the case. The detection can be minimized by applying various techniques when extracting data, but the most frequent ways that it can be detected are quite simple - for example, once a web page is opened, from whoever, the website detects various types of data,\\xa0such as IP addresses, page request rate, number of requests in any given time span, location, etc. Therefore, once a web scraper is run, for example, using a 0.5-second page request interval, the website detects that most likely, it is not human that is traversing the web page, as this is not in line with behavior you expect from a real visitor, consuming the content of the page.',\n",
              " 'For many reasons. The primary reason is to avoid manually copy-paste information. But if we look at different industries - each has its own need for using web scraping. For example, in marketing, the most popular use of web scraping is collecting leads. For e-commerce, it is scraping other e-commerce sites. Researchers gather the data necessary for their analysis. And for almost any business - data for price and customer analysis is gathered. Since the volume of data available on the internet is expanding by 2.5 quintillion bytes of data each day at our current pace, the need to gather data evolves; therefore, the usage of web scraping varies.',\n",
              " 'A few of the top trends in data science are machine learning, IoT, edge computing, artificial intelligence, and others. It might come as a surprise for some, but web scraping can be applied to the aforementioned trends in various ways. For example, for real-time analysis providing insights without any delay, predictive analysis for working out patterns in data and predicting future outcomes or trends, natural language processing for gathering data that allows machines to learn natural languages, and many more.',\n",
              " 'To make money with web scraping, think of the question “Who needs data?”. The answer is - almost everyone. Therefore, seeking the best options and creating your own vision of entrepreneurship with web scraping is a very possible case. Creativity is the limit. Nowadays, one of the most popular ways of leveraging web scraping for monetary gain is by aggregating large amounts of useful data. Whether this is business, real estate, product, or any other type of data.',\n",
              " 'A common application of this would be to create your own Shopify store. We have covered this topic in one of our previous blogs, which you can find here.',\n",
              " 'Great! Hope that these answers showcased a few insights into the importance and usage of web scraping. If there are more specifics that you want us to cover - do not hesitate to contact us!',\n",
              " 'Happy web scraping!',\n",
              " 'Products',\n",
              " 'Company',\n",
              " 'Resources',\n",
              " 'CONTACT US',\n",
              " 'Copyright © 2021\\n\\t\\t\\t\\t\\tWeb Scraper | All rights\\n\\t\\t\\t\\t\\treserved | Made by zoom59']"
            ]
          },
          "metadata": {},
          "execution_count": 17
        }
      ]
    },
    {
      "cell_type": "code",
      "metadata": {
        "colab": {
          "base_uri": "https://localhost:8080/",
          "height": 160
        },
        "id": "EnOffYsukKrJ",
        "outputId": "6b892431-0a32-42f9-e50c-f75916944d61"
      },
      "source": [
        "### Menggabungkan Tiap Line\n",
        "fullteks = ' '.join(fullteks)\n",
        "fullteks"
      ],
      "execution_count": 18,
      "outputs": [
        {
          "output_type": "execute_result",
          "data": {
            "application/vnd.google.colaboratory.intrinsic+json": {
              "type": "string"
            },
            "text/plain": [
              "'Web Scraper Cloud Scraper Pricing Learn August 02, 2021 Guide For discovery and greater understanding, questions are a must. Therefore, we have collected the most frequently asked questions by the public about different web scraping topics. Web scraping or web data extraction is the process of retrieving web data. It is meant that with the help of web scraping tools and/or software’s one can easily gather bulks of the necessary information from the data available on the internet. A great deal of web data extraction is that it replaces the very time-consuming and tiring work of copy-pasting whatever information from the websites. And since data nowadays frequently is basically related to the word “power”, web scraping has become widely popular and increasingly getting developed to become solely automatized. Nowadays, there are various tools and software that are widely accessible to anyone for gathering web content. Even if each differs in one way or another, the main principle stays the same. For web data extraction two main aspects have to be decided upon - the URL form which to gather the information, and the type of data that is necessary to collect. It is because web scraping takes the URL and renders the whole website for the information necessary. To simply put it, each and every website is built upon code, a united language. The web scraping programs and software are built to read and recognize parts of that code and, with certain features, designate the specific parts to be retrieved. Yes and no. Mainly it is based on what kind of information is scraped and what is published. To make sure that the scraping process is legal one must check the Terms and Conditions of the website. Also, in cases when scraping personal information, the collection of sensitive data is a question of legality. Sensitive data refers to any person’s ethnic, racial, sexual orientation, health, biometric data, etc. For this specific subject, we will present a full separate article explaining more precisely. However, for the long run, when scraping data that will be published in one way or another, make sure that it is according to the website’s T&C, and that you do not obtain any sensitive data. The allowance of the process is a question of the specific website you are looking to scrape. Most websites are scrapable; however, to make sure if it is allowed - you have to look for the Terms and Conditions of the specific website. With a simple CTRL + F and keywords, it is possible to quickly see if there are any restrictions or not. This is a large step to make sure that the web scraping is legal and that data gathering goes smoothly without any unfortunate consequences. Yes, web scraping can be detectable by the owners of the websites in one sense or another, although, not always this is the case. The detection can be minimized by applying various techniques when extracting data, but the most frequent ways that it can be detected are quite simple - for example, once a web page is opened, from whoever, the website detects various types of data,\\xa0such as IP addresses, page request rate, number of requests in any given time span, location, etc. Therefore, once a web scraper is run, for example, using a 0.5-second page request interval, the website detects that most likely, it is not human that is traversing the web page, as this is not in line with behavior you expect from a real visitor, consuming the content of the page. For many reasons. The primary reason is to avoid manually copy-paste information. But if we look at different industries - each has its own need for using web scraping. For example, in marketing, the most popular use of web scraping is collecting leads. For e-commerce, it is scraping other e-commerce sites. Researchers gather the data necessary for their analysis. And for almost any business - data for price and customer analysis is gathered. Since the volume of data available on the internet is expanding by 2.5 quintillion bytes of data each day at our current pace, the need to gather data evolves; therefore, the usage of web scraping varies. A few of the top trends in data science are machine learning, IoT, edge computing, artificial intelligence, and others. It might come as a surprise for some, but web scraping can be applied to the aforementioned trends in various ways. For example, for real-time analysis providing insights without any delay, predictive analysis for working out patterns in data and predicting future outcomes or trends, natural language processing for gathering data that allows machines to learn natural languages, and many more. To make money with web scraping, think of the question “Who needs data?”. The answer is - almost everyone. Therefore, seeking the best options and creating your own vision of entrepreneurship with web scraping is a very possible case. Creativity is the limit. Nowadays, one of the most popular ways of leveraging web scraping for monetary gain is by aggregating large amounts of useful data. Whether this is business, real estate, product, or any other type of data. A common application of this would be to create your own Shopify store. We have covered this topic in one of our previous blogs, which you can find here. Great! Hope that these answers showcased a few insights into the importance and usage of web scraping. If there are more specifics that you want us to cover - do not hesitate to contact us! Happy web scraping! Products Company Resources CONTACT US Copyright © 2021\\n\\t\\t\\t\\t\\tWeb Scraper | All rights\\n\\t\\t\\t\\t\\treserved | Made by zoom59'"
            ]
          },
          "metadata": {},
          "execution_count": 18
        }
      ]
    },
    {
      "cell_type": "markdown",
      "metadata": {
        "id": "aBAHf270kqt3"
      },
      "source": [
        "Preprocessing Teks Bahasa Inggris"
      ]
    },
    {
      "cell_type": "code",
      "metadata": {
        "id": "pk7aEjSvkwB0"
      },
      "source": [
        "# NLTK, library NLP di bahasa pemrograman python\n",
        "import nltk\n",
        "\n",
        "# Regex (re), library untuk mengenali dan memanipulasi pola text\n",
        "import re\n",
        "\n",
        "from nltk.corpus import stopwords\n",
        "from nltk.stem import SnowballStemmer\n",
        "from nltk.stem import PorterStemmer\n",
        "from nltk.stem import LancasterStemmer\n",
        "from nltk.stem import WordNetLemmatizer\n",
        "from nltk import word_tokenize\n",
        "import requests\n"
      ],
      "execution_count": 19,
      "outputs": []
    },
    {
      "cell_type": "code",
      "metadata": {
        "colab": {
          "base_uri": "https://localhost:8080/"
        },
        "id": "cmB6vOp1k25a",
        "outputId": "1338d369-481c-47b9-bb6f-79276ccbc013"
      },
      "source": [
        "nltk.download('punkt')\n",
        "nltk.download('stopwords')\n",
        "nltk.download('wordnet')"
      ],
      "execution_count": 20,
      "outputs": [
        {
          "output_type": "stream",
          "name": "stdout",
          "text": [
            "[nltk_data] Downloading package punkt to /root/nltk_data...\n",
            "[nltk_data]   Package punkt is already up-to-date!\n",
            "[nltk_data] Downloading package stopwords to /root/nltk_data...\n",
            "[nltk_data]   Package stopwords is already up-to-date!\n",
            "[nltk_data] Downloading package wordnet to /root/nltk_data...\n",
            "[nltk_data]   Package wordnet is already up-to-date!\n"
          ]
        },
        {
          "output_type": "execute_result",
          "data": {
            "text/plain": [
              "True"
            ]
          },
          "metadata": {},
          "execution_count": 20
        }
      ]
    },
    {
      "cell_type": "code",
      "metadata": {
        "id": "xvfLYARIlS-V"
      },
      "source": [
        "text = fullteks"
      ],
      "execution_count": 21,
      "outputs": []
    },
    {
      "cell_type": "code",
      "metadata": {
        "colab": {
          "base_uri": "https://localhost:8080/",
          "height": 160
        },
        "id": "6ZkfzdpMlkDg",
        "outputId": "897aced9-e193-40dc-bbee-43478da0cd3e"
      },
      "source": [
        "#Mengubah semua huruf menjadi lower\n",
        "text = text.lower()\n",
        "text"
      ],
      "execution_count": 23,
      "outputs": [
        {
          "output_type": "execute_result",
          "data": {
            "application/vnd.google.colaboratory.intrinsic+json": {
              "type": "string"
            },
            "text/plain": [
              "'web scraper cloud scraper pricing learn august 02, 2021 guide for discovery and greater understanding, questions are a must. therefore, we have collected the most frequently asked questions by the public about different web scraping topics. web scraping or web data extraction is the process of retrieving web data. it is meant that with the help of web scraping tools and/or software’s one can easily gather bulks of the necessary information from the data available on the internet. a great deal of web data extraction is that it replaces the very time-consuming and tiring work of copy-pasting whatever information from the websites. and since data nowadays frequently is basically related to the word “power”, web scraping has become widely popular and increasingly getting developed to become solely automatized. nowadays, there are various tools and software that are widely accessible to anyone for gathering web content. even if each differs in one way or another, the main principle stays the same. for web data extraction two main aspects have to be decided upon - the url form which to gather the information, and the type of data that is necessary to collect. it is because web scraping takes the url and renders the whole website for the information necessary. to simply put it, each and every website is built upon code, a united language. the web scraping programs and software are built to read and recognize parts of that code and, with certain features, designate the specific parts to be retrieved. yes and no. mainly it is based on what kind of information is scraped and what is published. to make sure that the scraping process is legal one must check the terms and conditions of the website. also, in cases when scraping personal information, the collection of sensitive data is a question of legality. sensitive data refers to any person’s ethnic, racial, sexual orientation, health, biometric data, etc. for this specific subject, we will present a full separate article explaining more precisely. however, for the long run, when scraping data that will be published in one way or another, make sure that it is according to the website’s t&c, and that you do not obtain any sensitive data. the allowance of the process is a question of the specific website you are looking to scrape. most websites are scrapable; however, to make sure if it is allowed - you have to look for the terms and conditions of the specific website. with a simple ctrl + f and keywords, it is possible to quickly see if there are any restrictions or not. this is a large step to make sure that the web scraping is legal and that data gathering goes smoothly without any unfortunate consequences. yes, web scraping can be detectable by the owners of the websites in one sense or another, although, not always this is the case. the detection can be minimized by applying various techniques when extracting data, but the most frequent ways that it can be detected are quite simple - for example, once a web page is opened, from whoever, the website detects various types of data,\\xa0such as ip addresses, page request rate, number of requests in any given time span, location, etc. therefore, once a web scraper is run, for example, using a 0.5-second page request interval, the website detects that most likely, it is not human that is traversing the web page, as this is not in line with behavior you expect from a real visitor, consuming the content of the page. for many reasons. the primary reason is to avoid manually copy-paste information. but if we look at different industries - each has its own need for using web scraping. for example, in marketing, the most popular use of web scraping is collecting leads. for e-commerce, it is scraping other e-commerce sites. researchers gather the data necessary for their analysis. and for almost any business - data for price and customer analysis is gathered. since the volume of data available on the internet is expanding by 2.5 quintillion bytes of data each day at our current pace, the need to gather data evolves; therefore, the usage of web scraping varies. a few of the top trends in data science are machine learning, iot, edge computing, artificial intelligence, and others. it might come as a surprise for some, but web scraping can be applied to the aforementioned trends in various ways. for example, for real-time analysis providing insights without any delay, predictive analysis for working out patterns in data and predicting future outcomes or trends, natural language processing for gathering data that allows machines to learn natural languages, and many more. to make money with web scraping, think of the question “who needs data?”. the answer is - almost everyone. therefore, seeking the best options and creating your own vision of entrepreneurship with web scraping is a very possible case. creativity is the limit. nowadays, one of the most popular ways of leveraging web scraping for monetary gain is by aggregating large amounts of useful data. whether this is business, real estate, product, or any other type of data. a common application of this would be to create your own shopify store. we have covered this topic in one of our previous blogs, which you can find here. great! hope that these answers showcased a few insights into the importance and usage of web scraping. if there are more specifics that you want us to cover - do not hesitate to contact us! happy web scraping! products company resources contact us copyright © 2021\\n\\t\\t\\t\\t\\tweb scraper | all rights\\n\\t\\t\\t\\t\\treserved | made by zoom59'"
            ]
          },
          "metadata": {},
          "execution_count": 23
        }
      ]
    },
    {
      "cell_type": "code",
      "metadata": {
        "colab": {
          "base_uri": "https://localhost:8080/",
          "height": 178
        },
        "id": "Tk45zn7kl0x7",
        "outputId": "d9228b8f-5792-4299-b46b-eb14aa45b372"
      },
      "source": [
        "#Menghapus karakter\n",
        "text = re.sub(r\"[-()\\\"#/@;:<>{}`+=~|.!?,]\", \"\", text)\n",
        "text"
      ],
      "execution_count": 26,
      "outputs": [
        {
          "output_type": "execute_result",
          "data": {
            "application/vnd.google.colaboratory.intrinsic+json": {
              "type": "string"
            },
            "text/plain": [
              "'web scraper cloud scraper pricing learn august 02 2021 guide for discovery and greater understanding questions are a must therefore we have collected the most frequently asked questions by the public about different web scraping topics web scraping or web data extraction is the process of retrieving web data it is meant that with the help of web scraping tools andor software’s one can easily gather bulks of the necessary information from the data available on the internet a great deal of web data extraction is that it replaces the very timeconsuming and tiring work of copypasting whatever information from the websites and since data nowadays frequently is basically related to the word “power” web scraping has become widely popular and increasingly getting developed to become solely automatized nowadays there are various tools and software that are widely accessible to anyone for gathering web content even if each differs in one way or another the main principle stays the same for web data extraction two main aspects have to be decided upon  the url form which to gather the information and the type of data that is necessary to collect it is because web scraping takes the url and renders the whole website for the information necessary to simply put it each and every website is built upon code a united language the web scraping programs and software are built to read and recognize parts of that code and with certain features designate the specific parts to be retrieved yes and no mainly it is based on what kind of information is scraped and what is published to make sure that the scraping process is legal one must check the terms and conditions of the website also in cases when scraping personal information the collection of sensitive data is a question of legality sensitive data refers to any person’s ethnic racial sexual orientation health biometric data etc for this specific subject we will present a full separate article explaining more precisely however for the long run when scraping data that will be published in one way or another make sure that it is according to the website’s t&c and that you do not obtain any sensitive data the allowance of the process is a question of the specific website you are looking to scrape most websites are scrapable however to make sure if it is allowed  you have to look for the terms and conditions of the specific website with a simple ctrl  f and keywords it is possible to quickly see if there are any restrictions or not this is a large step to make sure that the web scraping is legal and that data gathering goes smoothly without any unfortunate consequences yes web scraping can be detectable by the owners of the websites in one sense or another although not always this is the case the detection can be minimized by applying various techniques when extracting data but the most frequent ways that it can be detected are quite simple  for example once a web page is opened from whoever the website detects various types of data\\xa0such as ip addresses page request rate number of requests in any given time span location etc therefore once a web scraper is run for example using a 05second page request interval the website detects that most likely it is not human that is traversing the web page as this is not in line with behavior you expect from a real visitor consuming the content of the page for many reasons the primary reason is to avoid manually copypaste information but if we look at different industries  each has its own need for using web scraping for example in marketing the most popular use of web scraping is collecting leads for ecommerce it is scraping other ecommerce sites researchers gather the data necessary for their analysis and for almost any business  data for price and customer analysis is gathered since the volume of data available on the internet is expanding by 25 quintillion bytes of data each day at our current pace the need to gather data evolves therefore the usage of web scraping varies a few of the top trends in data science are machine learning iot edge computing artificial intelligence and others it might come as a surprise for some but web scraping can be applied to the aforementioned trends in various ways for example for realtime analysis providing insights without any delay predictive analysis for working out patterns in data and predicting future outcomes or trends natural language processing for gathering data that allows machines to learn natural languages and many more to make money with web scraping think of the question “who needs data” the answer is  almost everyone therefore seeking the best options and creating your own vision of entrepreneurship with web scraping is a very possible case creativity is the limit nowadays one of the most popular ways of leveraging web scraping for monetary gain is by aggregating large amounts of useful data whether this is business real estate product or any other type of data a common application of this would be to create your own shopify store we have covered this topic in one of our previous blogs which you can find here great hope that these answers showcased a few insights into the importance and usage of web scraping if there are more specifics that you want us to cover  do not hesitate to contact us happy web scraping products company resources contact us copyright © 2021\\n\\t\\t\\t\\t\\tweb scraper  all rights\\n\\t\\t\\t\\t\\treserved  made by zoom59'"
            ]
          },
          "metadata": {},
          "execution_count": 26
        }
      ]
    },
    {
      "cell_type": "code",
      "metadata": {
        "colab": {
          "base_uri": "https://localhost:8080/"
        },
        "id": "XZTCBhn5mDsb",
        "outputId": "26df4e54-cf08-4413-f4a2-e51b7eaaec2a"
      },
      "source": [
        "# word_tokenize: memisahkan karakter khusus pada kata (,./@#$%&* dll) dan memisahkan kata pada text\n",
        "\n",
        "tokens = word_tokenize(text)\n",
        "print(tokens)"
      ],
      "execution_count": 27,
      "outputs": [
        {
          "output_type": "stream",
          "name": "stdout",
          "text": [
            "['web', 'scraper', 'cloud', 'scraper', 'pricing', 'learn', 'august', '02', '2021', 'guide', 'for', 'discovery', 'and', 'greater', 'understanding', 'questions', 'are', 'a', 'must', 'therefore', 'we', 'have', 'collected', 'the', 'most', 'frequently', 'asked', 'questions', 'by', 'the', 'public', 'about', 'different', 'web', 'scraping', 'topics', 'web', 'scraping', 'or', 'web', 'data', 'extraction', 'is', 'the', 'process', 'of', 'retrieving', 'web', 'data', 'it', 'is', 'meant', 'that', 'with', 'the', 'help', 'of', 'web', 'scraping', 'tools', 'andor', 'software', '’', 's', 'one', 'can', 'easily', 'gather', 'bulks', 'of', 'the', 'necessary', 'information', 'from', 'the', 'data', 'available', 'on', 'the', 'internet', 'a', 'great', 'deal', 'of', 'web', 'data', 'extraction', 'is', 'that', 'it', 'replaces', 'the', 'very', 'timeconsuming', 'and', 'tiring', 'work', 'of', 'copypasting', 'whatever', 'information', 'from', 'the', 'websites', 'and', 'since', 'data', 'nowadays', 'frequently', 'is', 'basically', 'related', 'to', 'the', 'word', '“', 'power', '”', 'web', 'scraping', 'has', 'become', 'widely', 'popular', 'and', 'increasingly', 'getting', 'developed', 'to', 'become', 'solely', 'automatized', 'nowadays', 'there', 'are', 'various', 'tools', 'and', 'software', 'that', 'are', 'widely', 'accessible', 'to', 'anyone', 'for', 'gathering', 'web', 'content', 'even', 'if', 'each', 'differs', 'in', 'one', 'way', 'or', 'another', 'the', 'main', 'principle', 'stays', 'the', 'same', 'for', 'web', 'data', 'extraction', 'two', 'main', 'aspects', 'have', 'to', 'be', 'decided', 'upon', 'the', 'url', 'form', 'which', 'to', 'gather', 'the', 'information', 'and', 'the', 'type', 'of', 'data', 'that', 'is', 'necessary', 'to', 'collect', 'it', 'is', 'because', 'web', 'scraping', 'takes', 'the', 'url', 'and', 'renders', 'the', 'whole', 'website', 'for', 'the', 'information', 'necessary', 'to', 'simply', 'put', 'it', 'each', 'and', 'every', 'website', 'is', 'built', 'upon', 'code', 'a', 'united', 'language', 'the', 'web', 'scraping', 'programs', 'and', 'software', 'are', 'built', 'to', 'read', 'and', 'recognize', 'parts', 'of', 'that', 'code', 'and', 'with', 'certain', 'features', 'designate', 'the', 'specific', 'parts', 'to', 'be', 'retrieved', 'yes', 'and', 'no', 'mainly', 'it', 'is', 'based', 'on', 'what', 'kind', 'of', 'information', 'is', 'scraped', 'and', 'what', 'is', 'published', 'to', 'make', 'sure', 'that', 'the', 'scraping', 'process', 'is', 'legal', 'one', 'must', 'check', 'the', 'terms', 'and', 'conditions', 'of', 'the', 'website', 'also', 'in', 'cases', 'when', 'scraping', 'personal', 'information', 'the', 'collection', 'of', 'sensitive', 'data', 'is', 'a', 'question', 'of', 'legality', 'sensitive', 'data', 'refers', 'to', 'any', 'person', '’', 's', 'ethnic', 'racial', 'sexual', 'orientation', 'health', 'biometric', 'data', 'etc', 'for', 'this', 'specific', 'subject', 'we', 'will', 'present', 'a', 'full', 'separate', 'article', 'explaining', 'more', 'precisely', 'however', 'for', 'the', 'long', 'run', 'when', 'scraping', 'data', 'that', 'will', 'be', 'published', 'in', 'one', 'way', 'or', 'another', 'make', 'sure', 'that', 'it', 'is', 'according', 'to', 'the', 'website', '’', 's', 't', '&', 'c', 'and', 'that', 'you', 'do', 'not', 'obtain', 'any', 'sensitive', 'data', 'the', 'allowance', 'of', 'the', 'process', 'is', 'a', 'question', 'of', 'the', 'specific', 'website', 'you', 'are', 'looking', 'to', 'scrape', 'most', 'websites', 'are', 'scrapable', 'however', 'to', 'make', 'sure', 'if', 'it', 'is', 'allowed', 'you', 'have', 'to', 'look', 'for', 'the', 'terms', 'and', 'conditions', 'of', 'the', 'specific', 'website', 'with', 'a', 'simple', 'ctrl', 'f', 'and', 'keywords', 'it', 'is', 'possible', 'to', 'quickly', 'see', 'if', 'there', 'are', 'any', 'restrictions', 'or', 'not', 'this', 'is', 'a', 'large', 'step', 'to', 'make', 'sure', 'that', 'the', 'web', 'scraping', 'is', 'legal', 'and', 'that', 'data', 'gathering', 'goes', 'smoothly', 'without', 'any', 'unfortunate', 'consequences', 'yes', 'web', 'scraping', 'can', 'be', 'detectable', 'by', 'the', 'owners', 'of', 'the', 'websites', 'in', 'one', 'sense', 'or', 'another', 'although', 'not', 'always', 'this', 'is', 'the', 'case', 'the', 'detection', 'can', 'be', 'minimized', 'by', 'applying', 'various', 'techniques', 'when', 'extracting', 'data', 'but', 'the', 'most', 'frequent', 'ways', 'that', 'it', 'can', 'be', 'detected', 'are', 'quite', 'simple', 'for', 'example', 'once', 'a', 'web', 'page', 'is', 'opened', 'from', 'whoever', 'the', 'website', 'detects', 'various', 'types', 'of', 'data', 'such', 'as', 'ip', 'addresses', 'page', 'request', 'rate', 'number', 'of', 'requests', 'in', 'any', 'given', 'time', 'span', 'location', 'etc', 'therefore', 'once', 'a', 'web', 'scraper', 'is', 'run', 'for', 'example', 'using', 'a', '05second', 'page', 'request', 'interval', 'the', 'website', 'detects', 'that', 'most', 'likely', 'it', 'is', 'not', 'human', 'that', 'is', 'traversing', 'the', 'web', 'page', 'as', 'this', 'is', 'not', 'in', 'line', 'with', 'behavior', 'you', 'expect', 'from', 'a', 'real', 'visitor', 'consuming', 'the', 'content', 'of', 'the', 'page', 'for', 'many', 'reasons', 'the', 'primary', 'reason', 'is', 'to', 'avoid', 'manually', 'copypaste', 'information', 'but', 'if', 'we', 'look', 'at', 'different', 'industries', 'each', 'has', 'its', 'own', 'need', 'for', 'using', 'web', 'scraping', 'for', 'example', 'in', 'marketing', 'the', 'most', 'popular', 'use', 'of', 'web', 'scraping', 'is', 'collecting', 'leads', 'for', 'ecommerce', 'it', 'is', 'scraping', 'other', 'ecommerce', 'sites', 'researchers', 'gather', 'the', 'data', 'necessary', 'for', 'their', 'analysis', 'and', 'for', 'almost', 'any', 'business', 'data', 'for', 'price', 'and', 'customer', 'analysis', 'is', 'gathered', 'since', 'the', 'volume', 'of', 'data', 'available', 'on', 'the', 'internet', 'is', 'expanding', 'by', '25', 'quintillion', 'bytes', 'of', 'data', 'each', 'day', 'at', 'our', 'current', 'pace', 'the', 'need', 'to', 'gather', 'data', 'evolves', 'therefore', 'the', 'usage', 'of', 'web', 'scraping', 'varies', 'a', 'few', 'of', 'the', 'top', 'trends', 'in', 'data', 'science', 'are', 'machine', 'learning', 'iot', 'edge', 'computing', 'artificial', 'intelligence', 'and', 'others', 'it', 'might', 'come', 'as', 'a', 'surprise', 'for', 'some', 'but', 'web', 'scraping', 'can', 'be', 'applied', 'to', 'the', 'aforementioned', 'trends', 'in', 'various', 'ways', 'for', 'example', 'for', 'realtime', 'analysis', 'providing', 'insights', 'without', 'any', 'delay', 'predictive', 'analysis', 'for', 'working', 'out', 'patterns', 'in', 'data', 'and', 'predicting', 'future', 'outcomes', 'or', 'trends', 'natural', 'language', 'processing', 'for', 'gathering', 'data', 'that', 'allows', 'machines', 'to', 'learn', 'natural', 'languages', 'and', 'many', 'more', 'to', 'make', 'money', 'with', 'web', 'scraping', 'think', 'of', 'the', 'question', '“', 'who', 'needs', 'data', '”', 'the', 'answer', 'is', 'almost', 'everyone', 'therefore', 'seeking', 'the', 'best', 'options', 'and', 'creating', 'your', 'own', 'vision', 'of', 'entrepreneurship', 'with', 'web', 'scraping', 'is', 'a', 'very', 'possible', 'case', 'creativity', 'is', 'the', 'limit', 'nowadays', 'one', 'of', 'the', 'most', 'popular', 'ways', 'of', 'leveraging', 'web', 'scraping', 'for', 'monetary', 'gain', 'is', 'by', 'aggregating', 'large', 'amounts', 'of', 'useful', 'data', 'whether', 'this', 'is', 'business', 'real', 'estate', 'product', 'or', 'any', 'other', 'type', 'of', 'data', 'a', 'common', 'application', 'of', 'this', 'would', 'be', 'to', 'create', 'your', 'own', 'shopify', 'store', 'we', 'have', 'covered', 'this', 'topic', 'in', 'one', 'of', 'our', 'previous', 'blogs', 'which', 'you', 'can', 'find', 'here', 'great', 'hope', 'that', 'these', 'answers', 'showcased', 'a', 'few', 'insights', 'into', 'the', 'importance', 'and', 'usage', 'of', 'web', 'scraping', 'if', 'there', 'are', 'more', 'specifics', 'that', 'you', 'want', 'us', 'to', 'cover', 'do', 'not', 'hesitate', 'to', 'contact', 'us', 'happy', 'web', 'scraping', 'products', 'company', 'resources', 'contact', 'us', 'copyright', '©', '2021', 'web', 'scraper', 'all', 'rights', 'reserved', 'made', 'by', 'zoom59']\n"
          ]
        }
      ]
    },
    {
      "cell_type": "code",
      "metadata": {
        "colab": {
          "base_uri": "https://localhost:8080/"
        },
        "id": "aJxCkakMmiNb",
        "outputId": "93eef0eb-d3d4-4249-f2f8-85aa350b3aee"
      },
      "source": [
        "# Membuat Bag Of Words\n",
        "frekuensi_kata = {} # dictionary\n",
        "for kata in tokens:\n",
        "  if kata not in frekuensi_kata:\n",
        "    frekuensi_kata[kata] = 1\n",
        "  else:\n",
        "    frekuensi_kata[kata] += 1\n",
        "\n",
        "print(frekuensi_kata)"
      ],
      "execution_count": 28,
      "outputs": [
        {
          "output_type": "stream",
          "name": "stdout",
          "text": [
            "{'web': 27, 'scraper': 4, 'cloud': 1, 'pricing': 1, 'learn': 2, 'august': 1, '02': 1, '2021': 2, 'guide': 1, 'for': 22, 'discovery': 1, 'and': 25, 'greater': 1, 'understanding': 1, 'questions': 2, 'are': 10, 'a': 17, 'must': 2, 'therefore': 4, 'we': 4, 'have': 4, 'collected': 1, 'the': 57, 'most': 6, 'frequently': 2, 'asked': 1, 'by': 6, 'public': 1, 'about': 1, 'different': 2, 'scraping': 21, 'topics': 1, 'or': 7, 'data': 26, 'extraction': 3, 'is': 34, 'process': 3, 'of': 32, 'retrieving': 1, 'it': 12, 'meant': 1, 'that': 17, 'with': 6, 'help': 1, 'tools': 2, 'andor': 1, 'software': 3, '’': 3, 's': 3, 'one': 7, 'can': 6, 'easily': 1, 'gather': 4, 'bulks': 1, 'necessary': 4, 'information': 7, 'from': 4, 'available': 2, 'on': 3, 'internet': 2, 'great': 2, 'deal': 1, 'replaces': 1, 'very': 2, 'timeconsuming': 1, 'tiring': 1, 'work': 1, 'copypasting': 1, 'whatever': 1, 'websites': 3, 'since': 2, 'nowadays': 3, 'basically': 1, 'related': 1, 'to': 25, 'word': 1, '“': 2, 'power': 1, '”': 2, 'has': 2, 'become': 2, 'widely': 2, 'popular': 3, 'increasingly': 1, 'getting': 1, 'developed': 1, 'solely': 1, 'automatized': 1, 'there': 3, 'various': 4, 'accessible': 1, 'anyone': 1, 'gathering': 3, 'content': 2, 'even': 1, 'if': 5, 'each': 4, 'differs': 1, 'in': 11, 'way': 2, 'another': 3, 'main': 2, 'principle': 1, 'stays': 1, 'same': 1, 'two': 1, 'aspects': 1, 'be': 8, 'decided': 1, 'upon': 2, 'url': 2, 'form': 1, 'which': 2, 'type': 2, 'collect': 1, 'because': 1, 'takes': 1, 'renders': 1, 'whole': 1, 'website': 8, 'simply': 1, 'put': 1, 'every': 1, 'built': 2, 'code': 2, 'united': 1, 'language': 2, 'programs': 1, 'read': 1, 'recognize': 1, 'parts': 2, 'certain': 1, 'features': 1, 'designate': 1, 'specific': 4, 'retrieved': 1, 'yes': 2, 'no': 1, 'mainly': 1, 'based': 1, 'what': 2, 'kind': 1, 'scraped': 1, 'published': 2, 'make': 5, 'sure': 4, 'legal': 2, 'check': 1, 'terms': 2, 'conditions': 2, 'also': 1, 'cases': 1, 'when': 3, 'personal': 1, 'collection': 1, 'sensitive': 3, 'question': 3, 'legality': 1, 'refers': 1, 'any': 8, 'person': 1, 'ethnic': 1, 'racial': 1, 'sexual': 1, 'orientation': 1, 'health': 1, 'biometric': 1, 'etc': 2, 'this': 7, 'subject': 1, 'will': 2, 'present': 1, 'full': 1, 'separate': 1, 'article': 1, 'explaining': 1, 'more': 3, 'precisely': 1, 'however': 2, 'long': 1, 'run': 2, 'according': 1, 't': 1, '&': 1, 'c': 1, 'you': 6, 'do': 2, 'not': 6, 'obtain': 1, 'allowance': 1, 'looking': 1, 'scrape': 1, 'scrapable': 1, 'allowed': 1, 'look': 2, 'simple': 2, 'ctrl': 1, 'f': 1, 'keywords': 1, 'possible': 2, 'quickly': 1, 'see': 1, 'restrictions': 1, 'large': 2, 'step': 1, 'goes': 1, 'smoothly': 1, 'without': 2, 'unfortunate': 1, 'consequences': 1, 'detectable': 1, 'owners': 1, 'sense': 1, 'although': 1, 'always': 1, 'case': 2, 'detection': 1, 'minimized': 1, 'applying': 1, 'techniques': 1, 'extracting': 1, 'but': 3, 'frequent': 1, 'ways': 3, 'detected': 1, 'quite': 1, 'example': 4, 'once': 2, 'page': 5, 'opened': 1, 'whoever': 1, 'detects': 2, 'types': 1, 'such': 1, 'as': 3, 'ip': 1, 'addresses': 1, 'request': 2, 'rate': 1, 'number': 1, 'requests': 1, 'given': 1, 'time': 1, 'span': 1, 'location': 1, 'using': 2, '05second': 1, 'interval': 1, 'likely': 1, 'human': 1, 'traversing': 1, 'line': 1, 'behavior': 1, 'expect': 1, 'real': 2, 'visitor': 1, 'consuming': 1, 'many': 2, 'reasons': 1, 'primary': 1, 'reason': 1, 'avoid': 1, 'manually': 1, 'copypaste': 1, 'at': 2, 'industries': 1, 'its': 1, 'own': 3, 'need': 2, 'marketing': 1, 'use': 1, 'collecting': 1, 'leads': 1, 'ecommerce': 2, 'other': 2, 'sites': 1, 'researchers': 1, 'their': 1, 'analysis': 4, 'almost': 2, 'business': 2, 'price': 1, 'customer': 1, 'gathered': 1, 'volume': 1, 'expanding': 1, '25': 1, 'quintillion': 1, 'bytes': 1, 'day': 1, 'our': 2, 'current': 1, 'pace': 1, 'evolves': 1, 'usage': 2, 'varies': 1, 'few': 2, 'top': 1, 'trends': 3, 'science': 1, 'machine': 1, 'learning': 1, 'iot': 1, 'edge': 1, 'computing': 1, 'artificial': 1, 'intelligence': 1, 'others': 1, 'might': 1, 'come': 1, 'surprise': 1, 'some': 1, 'applied': 1, 'aforementioned': 1, 'realtime': 1, 'providing': 1, 'insights': 2, 'delay': 1, 'predictive': 1, 'working': 1, 'out': 1, 'patterns': 1, 'predicting': 1, 'future': 1, 'outcomes': 1, 'natural': 2, 'processing': 1, 'allows': 1, 'machines': 1, 'languages': 1, 'money': 1, 'think': 1, 'who': 1, 'needs': 1, 'answer': 1, 'everyone': 1, 'seeking': 1, 'best': 1, 'options': 1, 'creating': 1, 'your': 2, 'vision': 1, 'entrepreneurship': 1, 'creativity': 1, 'limit': 1, 'leveraging': 1, 'monetary': 1, 'gain': 1, 'aggregating': 1, 'amounts': 1, 'useful': 1, 'whether': 1, 'estate': 1, 'product': 1, 'common': 1, 'application': 1, 'would': 1, 'create': 1, 'shopify': 1, 'store': 1, 'covered': 1, 'topic': 1, 'previous': 1, 'blogs': 1, 'find': 1, 'here': 1, 'hope': 1, 'these': 1, 'answers': 1, 'showcased': 1, 'into': 1, 'importance': 1, 'specifics': 1, 'want': 1, 'us': 3, 'cover': 1, 'hesitate': 1, 'contact': 2, 'happy': 1, 'products': 1, 'company': 1, 'resources': 1, 'copyright': 1, '©': 1, 'all': 1, 'rights': 1, 'reserved': 1, 'made': 1, 'zoom59': 1}\n"
          ]
        }
      ]
    },
    {
      "cell_type": "code",
      "metadata": {
        "colab": {
          "base_uri": "https://localhost:8080/"
        },
        "id": "5VYTVPjYmyZp",
        "outputId": "fef91126-060b-4065-d42b-bb5b02b8cc5b"
      },
      "source": [
        "# Cetak total kata unik (tanpa duplikat)\n",
        "len(frekuensi_kata.keys())"
      ],
      "execution_count": 29,
      "outputs": [
        {
          "output_type": "execute_result",
          "data": {
            "text/plain": [
              "389"
            ]
          },
          "metadata": {},
          "execution_count": 29
        }
      ]
    },
    {
      "cell_type": "code",
      "metadata": {
        "colab": {
          "base_uri": "https://localhost:8080/"
        },
        "id": "hSbhEp5um0v1",
        "outputId": "4c9113ec-b87f-40cc-d408-fb0c3102bab0"
      },
      "source": [
        "# Print daftar stop words dalam bahasa inggris\n",
        "# Stop word ini untuk setiap project dapat disesuaikan\n",
        "print(stopwords.words('english'))"
      ],
      "execution_count": 30,
      "outputs": [
        {
          "output_type": "stream",
          "name": "stdout",
          "text": [
            "['i', 'me', 'my', 'myself', 'we', 'our', 'ours', 'ourselves', 'you', \"you're\", \"you've\", \"you'll\", \"you'd\", 'your', 'yours', 'yourself', 'yourselves', 'he', 'him', 'his', 'himself', 'she', \"she's\", 'her', 'hers', 'herself', 'it', \"it's\", 'its', 'itself', 'they', 'them', 'their', 'theirs', 'themselves', 'what', 'which', 'who', 'whom', 'this', 'that', \"that'll\", 'these', 'those', 'am', 'is', 'are', 'was', 'were', 'be', 'been', 'being', 'have', 'has', 'had', 'having', 'do', 'does', 'did', 'doing', 'a', 'an', 'the', 'and', 'but', 'if', 'or', 'because', 'as', 'until', 'while', 'of', 'at', 'by', 'for', 'with', 'about', 'against', 'between', 'into', 'through', 'during', 'before', 'after', 'above', 'below', 'to', 'from', 'up', 'down', 'in', 'out', 'on', 'off', 'over', 'under', 'again', 'further', 'then', 'once', 'here', 'there', 'when', 'where', 'why', 'how', 'all', 'any', 'both', 'each', 'few', 'more', 'most', 'other', 'some', 'such', 'no', 'nor', 'not', 'only', 'own', 'same', 'so', 'than', 'too', 'very', 's', 't', 'can', 'will', 'just', 'don', \"don't\", 'should', \"should've\", 'now', 'd', 'll', 'm', 'o', 're', 've', 'y', 'ain', 'aren', \"aren't\", 'couldn', \"couldn't\", 'didn', \"didn't\", 'doesn', \"doesn't\", 'hadn', \"hadn't\", 'hasn', \"hasn't\", 'haven', \"haven't\", 'isn', \"isn't\", 'ma', 'mightn', \"mightn't\", 'mustn', \"mustn't\", 'needn', \"needn't\", 'shan', \"shan't\", 'shouldn', \"shouldn't\", 'wasn', \"wasn't\", 'weren', \"weren't\", 'won', \"won't\", 'wouldn', \"wouldn't\"]\n"
          ]
        }
      ]
    },
    {
      "cell_type": "code",
      "metadata": {
        "id": "CG-ELswgm69s"
      },
      "source": [
        "en_stop_words = stopwords.words('english')"
      ],
      "execution_count": 31,
      "outputs": []
    },
    {
      "cell_type": "code",
      "metadata": {
        "id": "fglIL5lonCjH"
      },
      "source": [
        "# Menghapus kata yang termasuk ke dalam stopwords bahasa inggris\n",
        "kata_unik = list(frekuensi_kata.keys())\n",
        "for kata in kata_unik:\n",
        "  if kata in en_stop_words:\n",
        "    del frekuensi_kata[kata]\n",
        "\n",
        "# Update kata unik setelah penghapusan stopwords\n",
        "kata_unik = list(frekuensi_kata.keys())"
      ],
      "execution_count": 32,
      "outputs": []
    },
    {
      "cell_type": "code",
      "metadata": {
        "colab": {
          "base_uri": "https://localhost:8080/"
        },
        "id": "_YHmqc8mnKq_",
        "outputId": "f699f2db-5267-4023-e62f-5b13f7f22bac"
      },
      "source": [
        "len(frekuensi_kata.keys())"
      ],
      "execution_count": 33,
      "outputs": [
        {
          "output_type": "execute_result",
          "data": {
            "text/plain": [
              "328"
            ]
          },
          "metadata": {},
          "execution_count": 33
        }
      ]
    },
    {
      "cell_type": "code",
      "metadata": {
        "id": "LbJuYxikoSts"
      },
      "source": [
        "# Instansiasi objek dari Class PorterStemmer dan WordNetLemmatizer\n",
        "stemmer = SnowballStemmer('english')\n",
        "lemmatizer = WordNetLemmatizer()"
      ],
      "execution_count": 35,
      "outputs": []
    },
    {
      "cell_type": "code",
      "metadata": {
        "colab": {
          "base_uri": "https://localhost:8080/",
          "height": 168
        },
        "id": "2dBWke_undLS",
        "outputId": "72da3ddf-60e1-4d3d-c992-9b82b398dd24"
      },
      "source": [
        "# Lemmatize\n",
        "for kata in kata_unik:\n",
        "  print(kata, '|', lemmatizer.lemmatize(kata), '|', lemmatizer.lemmatize(stemmer.stem(kata)), '|', stemmer.stem(lemmatizer.lemmatize(kata))"
      ],
      "execution_count": 36,
      "outputs": [
        {
          "output_type": "error",
          "ename": "SyntaxError",
          "evalue": "ignored",
          "traceback": [
            "\u001b[0;36m  File \u001b[0;32m\"<ipython-input-36-fda3e92d42b0>\"\u001b[0;36m, line \u001b[0;32m3\u001b[0m\n\u001b[0;31m    print(kata, '|', lemmatizer.lemmatize(kata), '|', lemmatizer.lemmatize(stemmer.stem(kata)), '|', stemmer.stem(lemmatizer.lemmatize(kata))\u001b[0m\n\u001b[0m                                                                                                                                             ^\u001b[0m\n\u001b[0;31mSyntaxError\u001b[0m\u001b[0;31m:\u001b[0m unexpected EOF while parsing\n"
          ]
        }
      ]
    },
    {
      "cell_type": "code",
      "metadata": {
        "id": "hLtmqyGhpTEI"
      },
      "source": [
        ""
      ],
      "execution_count": null,
      "outputs": []
    },
    {
      "cell_type": "code",
      "metadata": {
        "colab": {
          "base_uri": "https://localhost:8080/"
        },
        "id": "CGMSkVC-WKth",
        "outputId": "af124a9e-3dc8-44c3-8172-b60b3d7d6166"
      },
      "source": [
        "token_lemmatized = [lemmatizer.lemmatize(kata, pos='v') for kata in kata_unik]\n",
        "token_lemmatized = [lemmatizer.lemmatize(kata) for kata in token_lemmatized]\n",
        "\n",
        "frekuensi_kata_postprocessing = {}\n",
        "for kata in token_lemmatized:\n",
        "  if kata not in frekuensi_kata_postprocessing:\n",
        "    frekuensi_kata_postprocessing[kata] = 1\n",
        "  else:\n",
        "    frekuensi_kata_postprocessing[kata] += 1\n",
        "\n",
        "\n",
        "frekuensi_kata_postprocessing"
      ],
      "execution_count": 37,
      "outputs": [
        {
          "output_type": "execute_result",
          "data": {
            "text/plain": [
              "{'&': 1,\n",
              " '02': 1,\n",
              " '05second': 1,\n",
              " '2021': 1,\n",
              " '25': 1,\n",
              " 'accessible': 1,\n",
              " 'accord': 1,\n",
              " 'address': 1,\n",
              " 'aforementioned': 1,\n",
              " 'aggregate': 1,\n",
              " 'allow': 2,\n",
              " 'allowance': 1,\n",
              " 'almost': 1,\n",
              " 'also': 1,\n",
              " 'although': 1,\n",
              " 'always': 1,\n",
              " 'amount': 1,\n",
              " 'analysis': 1,\n",
              " 'andor': 1,\n",
              " 'another': 1,\n",
              " 'answer': 2,\n",
              " 'anyone': 1,\n",
              " 'application': 1,\n",
              " 'apply': 2,\n",
              " 'article': 1,\n",
              " 'artificial': 1,\n",
              " 'ask': 1,\n",
              " 'aspect': 1,\n",
              " 'august': 1,\n",
              " 'automatize': 1,\n",
              " 'available': 1,\n",
              " 'avoid': 1,\n",
              " 'base': 1,\n",
              " 'basically': 1,\n",
              " 'become': 1,\n",
              " 'behavior': 1,\n",
              " 'best': 1,\n",
              " 'biometric': 1,\n",
              " 'blog': 1,\n",
              " 'build': 1,\n",
              " 'bulk': 1,\n",
              " 'business': 1,\n",
              " 'byte': 1,\n",
              " 'c': 1,\n",
              " 'case': 2,\n",
              " 'certain': 1,\n",
              " 'check': 1,\n",
              " 'cloud': 1,\n",
              " 'code': 1,\n",
              " 'collect': 3,\n",
              " 'collection': 1,\n",
              " 'come': 1,\n",
              " 'common': 1,\n",
              " 'company': 1,\n",
              " 'compute': 1,\n",
              " 'condition': 1,\n",
              " 'consequence': 1,\n",
              " 'consume': 1,\n",
              " 'contact': 1,\n",
              " 'content': 1,\n",
              " 'copypaste': 1,\n",
              " 'copypasting': 1,\n",
              " 'copyright': 1,\n",
              " 'cover': 2,\n",
              " 'create': 2,\n",
              " 'creativity': 1,\n",
              " 'ctrl': 1,\n",
              " 'current': 1,\n",
              " 'customer': 1,\n",
              " 'data': 1,\n",
              " 'day': 1,\n",
              " 'deal': 1,\n",
              " 'decide': 1,\n",
              " 'delay': 1,\n",
              " 'designate': 1,\n",
              " 'detect': 2,\n",
              " 'detectable': 1,\n",
              " 'detection': 1,\n",
              " 'develop': 1,\n",
              " 'differ': 1,\n",
              " 'different': 1,\n",
              " 'discovery': 1,\n",
              " 'easily': 1,\n",
              " 'ecommerce': 1,\n",
              " 'edge': 1,\n",
              " 'entrepreneurship': 1,\n",
              " 'estate': 1,\n",
              " 'etc': 1,\n",
              " 'ethnic': 1,\n",
              " 'even': 1,\n",
              " 'every': 1,\n",
              " 'everyone': 1,\n",
              " 'evolve': 1,\n",
              " 'example': 1,\n",
              " 'expand': 1,\n",
              " 'expect': 1,\n",
              " 'explain': 1,\n",
              " 'extract': 1,\n",
              " 'extraction': 1,\n",
              " 'f': 1,\n",
              " 'feature': 1,\n",
              " 'find': 1,\n",
              " 'form': 1,\n",
              " 'frequent': 1,\n",
              " 'frequently': 1,\n",
              " 'full': 1,\n",
              " 'future': 1,\n",
              " 'gain': 1,\n",
              " 'gather': 3,\n",
              " 'get': 1,\n",
              " 'give': 1,\n",
              " 'go': 1,\n",
              " 'great': 1,\n",
              " 'greater': 1,\n",
              " 'guide': 1,\n",
              " 'happy': 1,\n",
              " 'health': 1,\n",
              " 'help': 1,\n",
              " 'hesitate': 1,\n",
              " 'hope': 1,\n",
              " 'however': 1,\n",
              " 'human': 1,\n",
              " 'importance': 1,\n",
              " 'increasingly': 1,\n",
              " 'industry': 1,\n",
              " 'information': 1,\n",
              " 'insight': 1,\n",
              " 'intelligence': 1,\n",
              " 'internet': 1,\n",
              " 'interval': 1,\n",
              " 'iot': 1,\n",
              " 'ip': 1,\n",
              " 'keywords': 1,\n",
              " 'kind': 1,\n",
              " 'language': 2,\n",
              " 'large': 1,\n",
              " 'lead': 1,\n",
              " 'learn': 2,\n",
              " 'legal': 1,\n",
              " 'legality': 1,\n",
              " 'leverage': 1,\n",
              " 'likely': 1,\n",
              " 'limit': 1,\n",
              " 'line': 1,\n",
              " 'location': 1,\n",
              " 'long': 1,\n",
              " 'look': 2,\n",
              " 'machine': 2,\n",
              " 'main': 1,\n",
              " 'mainly': 1,\n",
              " 'make': 2,\n",
              " 'manually': 1,\n",
              " 'many': 1,\n",
              " 'market': 1,\n",
              " 'mean': 1,\n",
              " 'might': 1,\n",
              " 'minimize': 1,\n",
              " 'monetary': 1,\n",
              " 'money': 1,\n",
              " 'must': 1,\n",
              " 'natural': 1,\n",
              " 'necessary': 1,\n",
              " 'need': 2,\n",
              " 'nowadays': 1,\n",
              " 'number': 1,\n",
              " 'obtain': 1,\n",
              " 'one': 1,\n",
              " 'open': 1,\n",
              " 'option': 1,\n",
              " 'orientation': 1,\n",
              " 'others': 1,\n",
              " 'outcome': 1,\n",
              " 'owner': 1,\n",
              " 'pace': 1,\n",
              " 'page': 1,\n",
              " 'part': 1,\n",
              " 'pattern': 1,\n",
              " 'person': 1,\n",
              " 'personal': 1,\n",
              " 'popular': 1,\n",
              " 'possible': 1,\n",
              " 'power': 1,\n",
              " 'precisely': 1,\n",
              " 'predict': 1,\n",
              " 'predictive': 1,\n",
              " 'present': 1,\n",
              " 'previous': 1,\n",
              " 'price': 2,\n",
              " 'primary': 1,\n",
              " 'principle': 1,\n",
              " 'process': 2,\n",
              " 'product': 2,\n",
              " 'program': 1,\n",
              " 'provide': 1,\n",
              " 'public': 1,\n",
              " 'publish': 1,\n",
              " 'put': 1,\n",
              " 'question': 2,\n",
              " 'quickly': 1,\n",
              " 'quintillion': 1,\n",
              " 'quite': 1,\n",
              " 'racial': 1,\n",
              " 'rate': 1,\n",
              " 'read': 1,\n",
              " 'real': 1,\n",
              " 'realtime': 1,\n",
              " 'reason': 2,\n",
              " 'recognize': 1,\n",
              " 'refer': 1,\n",
              " 'relate': 1,\n",
              " 'render': 1,\n",
              " 'replace': 1,\n",
              " 'request': 2,\n",
              " 'researcher': 1,\n",
              " 'reserve': 1,\n",
              " 'resource': 1,\n",
              " 'restriction': 1,\n",
              " 'retrieve': 2,\n",
              " 'right': 1,\n",
              " 'run': 1,\n",
              " 'science': 1,\n",
              " 'scrap': 2,\n",
              " 'scrapable': 1,\n",
              " 'scrape': 1,\n",
              " 'scraper': 1,\n",
              " 'see': 1,\n",
              " 'seek': 1,\n",
              " 'sense': 1,\n",
              " 'sensitive': 1,\n",
              " 'separate': 1,\n",
              " 'sexual': 1,\n",
              " 'shopify': 1,\n",
              " 'showcased': 1,\n",
              " 'simple': 1,\n",
              " 'simply': 1,\n",
              " 'since': 1,\n",
              " 'sit': 1,\n",
              " 'smoothly': 1,\n",
              " 'software': 1,\n",
              " 'solely': 1,\n",
              " 'span': 1,\n",
              " 'specific': 2,\n",
              " 'stay': 1,\n",
              " 'step': 1,\n",
              " 'store': 1,\n",
              " 'subject': 1,\n",
              " 'sure': 1,\n",
              " 'surprise': 1,\n",
              " 'take': 1,\n",
              " 'technique': 1,\n",
              " 'term': 1,\n",
              " 'therefore': 1,\n",
              " 'think': 1,\n",
              " 'time': 1,\n",
              " 'timeconsuming': 1,\n",
              " 'tire': 1,\n",
              " 'tool': 1,\n",
              " 'top': 1,\n",
              " 'topic': 2,\n",
              " 'traverse': 1,\n",
              " 'trend': 1,\n",
              " 'two': 1,\n",
              " 'type': 2,\n",
              " 'u': 1,\n",
              " 'understand': 1,\n",
              " 'unfortunate': 1,\n",
              " 'unite': 1,\n",
              " 'upon': 1,\n",
              " 'url': 1,\n",
              " 'usage': 1,\n",
              " 'use': 2,\n",
              " 'useful': 1,\n",
              " 'various': 1,\n",
              " 'vary': 1,\n",
              " 'vision': 1,\n",
              " 'visitor': 1,\n",
              " 'volume': 1,\n",
              " 'want': 1,\n",
              " 'way': 2,\n",
              " 'web': 1,\n",
              " 'website': 2,\n",
              " 'whatever': 1,\n",
              " 'whether': 1,\n",
              " 'whoever': 1,\n",
              " 'whole': 1,\n",
              " 'widely': 1,\n",
              " 'without': 1,\n",
              " 'word': 1,\n",
              " 'work': 2,\n",
              " 'would': 1,\n",
              " 'yes': 1,\n",
              " 'zoom59': 1,\n",
              " '©': 1,\n",
              " '’': 1,\n",
              " '“': 1,\n",
              " '”': 1}"
            ]
          },
          "metadata": {},
          "execution_count": 37
        }
      ]
    },
    {
      "cell_type": "code",
      "metadata": {
        "colab": {
          "base_uri": "https://localhost:8080/"
        },
        "id": "vw6Q_BvZpYT1",
        "outputId": "0ab25c41-ad3f-44bb-eb01-1e4bd122b1a1"
      },
      "source": [
        "# Membandingkan jumlah kata unik sebelum dan setelah preprocessing dengan melihat isi dari bag of words\n",
        "print(len(frekuensi_kata))\n",
        "print(len(frekuensi_kata_postprocessing))"
      ],
      "execution_count": 38,
      "outputs": [
        {
          "output_type": "stream",
          "name": "stdout",
          "text": [
            "328\n",
            "296\n"
          ]
        }
      ]
    }
  ]
}