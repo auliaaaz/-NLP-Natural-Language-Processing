{
  "nbformat": 4,
  "nbformat_minor": 0,
  "metadata": {
    "colab": {
      "name": "Analysis Sentiments_Simple.ipynb",
      "provenance": [],
      "authorship_tag": "ABX9TyMN1W9KN8cww5g6BPPXVDxF",
      "include_colab_link": true
    },
    "kernelspec": {
      "name": "python3",
      "display_name": "Python 3"
    },
    "language_info": {
      "name": "python"
    }
  },
  "cells": [
    {
      "cell_type": "markdown",
      "metadata": {
        "id": "view-in-github",
        "colab_type": "text"
      },
      "source": [
        "<a href=\"https://colab.research.google.com/github/auliaaaz/-NLP-Natural-Language-Processing/blob/main/Analysis_Sentiments_Simple.ipynb\" target=\"_parent\"><img src=\"https://colab.research.google.com/assets/colab-badge.svg\" alt=\"Open In Colab\"/></a>"
      ]
    },
    {
      "cell_type": "markdown",
      "metadata": {
        "id": "zzIfGu-Wm_JW"
      },
      "source": [
        "Import Library"
      ]
    },
    {
      "cell_type": "code",
      "metadata": {
        "colab": {
          "base_uri": "https://localhost:8080/"
        },
        "id": "Ws5GIzIonCIE",
        "outputId": "dfb396a4-0f37-41e4-9287-6255350b131d"
      },
      "source": [
        "import numpy as np\n",
        "import pandas as pd\n",
        "import re\n",
        "import requests\n",
        "import nltk\n",
        "nltk.download('stopwords')\n",
        "import nltk\n",
        "from nltk import word_tokenize\n",
        "nltk.download('punkt')\n",
        "nltk.download('stopwprd')\n",
        "nltk.download('wordnet')\n",
        "from nltk.corpus import stopwords\n",
        "import seaborn as sns\n",
        "import matplotlib.pyplot as plt"
      ],
      "execution_count": 1,
      "outputs": [
        {
          "output_type": "stream",
          "name": "stdout",
          "text": [
            "[nltk_data] Downloading package stopwords to /root/nltk_data...\n",
            "[nltk_data]   Package stopwords is already up-to-date!\n",
            "[nltk_data] Downloading package punkt to /root/nltk_data...\n",
            "[nltk_data]   Package punkt is already up-to-date!\n",
            "[nltk_data] Error loading stopwprd: Package 'stopwprd' not found in\n",
            "[nltk_data]     index\n",
            "[nltk_data] Downloading package wordnet to /root/nltk_data...\n",
            "[nltk_data]   Package wordnet is already up-to-date!\n"
          ]
        }
      ]
    },
    {
      "cell_type": "code",
      "metadata": {
        "colab": {
          "base_uri": "https://localhost:8080/"
        },
        "id": "Fm6ZjCTlBmDL",
        "outputId": "44dcb614-ab8d-48d3-ad93-e542b8705440"
      },
      "source": [
        "!pip3 install Sastrawi"
      ],
      "execution_count": 2,
      "outputs": [
        {
          "output_type": "stream",
          "name": "stdout",
          "text": [
            "Requirement already satisfied: Sastrawi in /usr/local/lib/python3.7/dist-packages (1.0.1)\n"
          ]
        }
      ]
    },
    {
      "cell_type": "code",
      "metadata": {
        "id": "jpkucM5vBp4-"
      },
      "source": [
        "from Sastrawi.StopWordRemover.StopWordRemoverFactory import StopWordRemoverFactory"
      ],
      "execution_count": 3,
      "outputs": []
    },
    {
      "cell_type": "markdown",
      "metadata": {
        "id": "OBmmaBkRn8YD"
      },
      "source": [
        "import dataset\n",
        "\n",
        "https://raw.githubusercontent.com/rizalespe/Dataset-Sentimen-Analisis-Bahasa-Indonesia/master/dataset_tweet_sentiment_cellular_service_provider.csv"
      ]
    },
    {
      "cell_type": "code",
      "metadata": {
        "id": "BHM0-rXKn9wg"
      },
      "source": [
        "data = pd.read_csv('https://raw.githubusercontent.com/rizalespe/Dataset-Sentimen-Analisis-Bahasa-Indonesia/master/dataset_tweet_sentiment_cellular_service_provider.csv')\n",
        "t_1 = data[data['Sentiment']=='positive']\n",
        "t_2 = data[data['Sentiment']=='negative']\n",
        "tweets = pd.concat([t_1, t_2])\n"
      ],
      "execution_count": 4,
      "outputs": []
    },
    {
      "cell_type": "code",
      "metadata": {
        "colab": {
          "base_uri": "https://localhost:8080/",
          "height": 204
        },
        "id": "moatc_EKo6lH",
        "outputId": "98ccca5b-04fe-4ba4-d174-2b0496130b26"
      },
      "source": [
        "# cek 5 dataset\n",
        "tweets.head()"
      ],
      "execution_count": 5,
      "outputs": [
        {
          "output_type": "execute_result",
          "data": {
            "text/html": [
              "<div>\n",
              "<style scoped>\n",
              "    .dataframe tbody tr th:only-of-type {\n",
              "        vertical-align: middle;\n",
              "    }\n",
              "\n",
              "    .dataframe tbody tr th {\n",
              "        vertical-align: top;\n",
              "    }\n",
              "\n",
              "    .dataframe thead th {\n",
              "        text-align: right;\n",
              "    }\n",
              "</style>\n",
              "<table border=\"1\" class=\"dataframe\">\n",
              "  <thead>\n",
              "    <tr style=\"text-align: right;\">\n",
              "      <th></th>\n",
              "      <th>Id</th>\n",
              "      <th>Sentiment</th>\n",
              "      <th>Text Tweet</th>\n",
              "    </tr>\n",
              "  </thead>\n",
              "  <tbody>\n",
              "    <tr>\n",
              "      <th>0</th>\n",
              "      <td>1</td>\n",
              "      <td>positive</td>\n",
              "      <td>&lt;USER_MENTION&gt; #BOIKOT_&lt;PROVIDER_NAME&gt; Gunakan...</td>\n",
              "    </tr>\n",
              "    <tr>\n",
              "      <th>1</th>\n",
              "      <td>2</td>\n",
              "      <td>positive</td>\n",
              "      <td>Saktinya balik lagi, alhamdulillah :v &lt;PROVIDE...</td>\n",
              "    </tr>\n",
              "    <tr>\n",
              "      <th>6</th>\n",
              "      <td>7</td>\n",
              "      <td>positive</td>\n",
              "      <td>&lt;PROVIDER_NAME&gt;  aku pakai &lt;PROVIDER_NAME&gt;, pa...</td>\n",
              "    </tr>\n",
              "    <tr>\n",
              "      <th>16</th>\n",
              "      <td>17</td>\n",
              "      <td>positive</td>\n",
              "      <td>&lt;PROVIDER_NAME&gt; &lt;PROVIDER_NAME&gt; kangen nih dap...</td>\n",
              "    </tr>\n",
              "    <tr>\n",
              "      <th>22</th>\n",
              "      <td>23</td>\n",
              "      <td>positive</td>\n",
              "      <td>Jadi stabil disini. &lt;PROVIDER_NAME&gt; &lt;URL&gt;</td>\n",
              "    </tr>\n",
              "  </tbody>\n",
              "</table>\n",
              "</div>"
            ],
            "text/plain": [
              "    Id Sentiment                                         Text Tweet\n",
              "0    1  positive  <USER_MENTION> #BOIKOT_<PROVIDER_NAME> Gunakan...\n",
              "1    2  positive  Saktinya balik lagi, alhamdulillah :v <PROVIDE...\n",
              "6    7  positive  <PROVIDER_NAME>  aku pakai <PROVIDER_NAME>, pa...\n",
              "16  17  positive  <PROVIDER_NAME> <PROVIDER_NAME> kangen nih dap...\n",
              "22  23  positive          Jadi stabil disini. <PROVIDER_NAME> <URL>"
            ]
          },
          "metadata": {},
          "execution_count": 5
        }
      ]
    },
    {
      "cell_type": "code",
      "metadata": {
        "colab": {
          "base_uri": "https://localhost:8080/",
          "height": 204
        },
        "id": "2dGWDHbgpHQt",
        "outputId": "e41f491e-fc6c-4a45-f56e-50844e6aaccf"
      },
      "source": [
        "# cek 5 dataset terbawah\n",
        "tweets.tail()"
      ],
      "execution_count": 6,
      "outputs": [
        {
          "output_type": "execute_result",
          "data": {
            "text/html": [
              "<div>\n",
              "<style scoped>\n",
              "    .dataframe tbody tr th:only-of-type {\n",
              "        vertical-align: middle;\n",
              "    }\n",
              "\n",
              "    .dataframe tbody tr th {\n",
              "        vertical-align: top;\n",
              "    }\n",
              "\n",
              "    .dataframe thead th {\n",
              "        text-align: right;\n",
              "    }\n",
              "</style>\n",
              "<table border=\"1\" class=\"dataframe\">\n",
              "  <thead>\n",
              "    <tr style=\"text-align: right;\">\n",
              "      <th></th>\n",
              "      <th>Id</th>\n",
              "      <th>Sentiment</th>\n",
              "      <th>Text Tweet</th>\n",
              "    </tr>\n",
              "  </thead>\n",
              "  <tbody>\n",
              "    <tr>\n",
              "      <th>283</th>\n",
              "      <td>284</td>\n",
              "      <td>negative</td>\n",
              "      <td>Setiap isi pulsa belum dipakai pasti hilang mo...</td>\n",
              "    </tr>\n",
              "    <tr>\n",
              "      <th>284</th>\n",
              "      <td>285</td>\n",
              "      <td>negative</td>\n",
              "      <td>&lt;PROVIDER_NAME&gt; memang bikin sebal</td>\n",
              "    </tr>\n",
              "    <tr>\n",
              "      <th>285</th>\n",
              "      <td>286</td>\n",
              "      <td>negative</td>\n",
              "      <td>4G LTE &lt;PROVIDER_NAME&gt; sedang bermasalah</td>\n",
              "    </tr>\n",
              "    <tr>\n",
              "      <th>286</th>\n",
              "      <td>287</td>\n",
              "      <td>negative</td>\n",
              "      <td>&lt;PROVIDER_NAME&gt; luar biasa parah 2 hari cuma b...</td>\n",
              "    </tr>\n",
              "    <tr>\n",
              "      <th>299</th>\n",
              "      <td>300</td>\n",
              "      <td>negative</td>\n",
              "      <td>Sinyal &lt;PROVIDER_NAME&gt; amsyong d stadion gajayana</td>\n",
              "    </tr>\n",
              "  </tbody>\n",
              "</table>\n",
              "</div>"
            ],
            "text/plain": [
              "      Id Sentiment                                         Text Tweet\n",
              "283  284  negative  Setiap isi pulsa belum dipakai pasti hilang mo...\n",
              "284  285  negative                <PROVIDER_NAME> memang bikin sebal \n",
              "285  286  negative           4G LTE <PROVIDER_NAME> sedang bermasalah\n",
              "286  287  negative  <PROVIDER_NAME> luar biasa parah 2 hari cuma b...\n",
              "299  300  negative  Sinyal <PROVIDER_NAME> amsyong d stadion gajayana"
            ]
          },
          "metadata": {},
          "execution_count": 6
        }
      ]
    },
    {
      "cell_type": "code",
      "metadata": {
        "id": "vMp8aij8H6Ij"
      },
      "source": [
        "tweets = tweets.rename(columns={'Id':'Id', 'Sentiment':'Sentiment', 'Text Tweet':'text'})"
      ],
      "execution_count": 10,
      "outputs": []
    },
    {
      "cell_type": "code",
      "metadata": {
        "colab": {
          "base_uri": "https://localhost:8080/",
          "height": 52
        },
        "id": "EiHooMcUpVT3",
        "outputId": "36d59e0b-67e7-4e73-de90-eb9dca58f48b"
      },
      "source": [
        "# cek atribut dataset\n",
        "display(tweets.columns)\n",
        "\n",
        "# cek jumlah baris dan kolom dataset\n",
        "display(tweets.shape)"
      ],
      "execution_count": 11,
      "outputs": [
        {
          "output_type": "display_data",
          "data": {
            "text/plain": [
              "Index(['Id', 'Sentiment', 'text'], dtype='object')"
            ]
          },
          "metadata": {}
        },
        {
          "output_type": "display_data",
          "data": {
            "text/plain": [
              "(300, 3)"
            ]
          },
          "metadata": {}
        }
      ]
    },
    {
      "cell_type": "markdown",
      "metadata": {
        "id": "s-2BFjCAqJ-p"
      },
      "source": [
        "explorasi data"
      ]
    },
    {
      "cell_type": "code",
      "metadata": {
        "colab": {
          "base_uri": "https://localhost:8080/",
          "height": 388
        },
        "id": "iIZ1Hl2-qL_u",
        "outputId": "155e7bf0-9d8b-44eb-9941-930524f4237c"
      },
      "source": [
        "# cek jumlah positif negatif\n",
        "plt.figure(figsize=(12,5))\n",
        "sns.countplot(x='Sentiment', data=tweets)\n",
        "plt.title('Distribusi class sentiment provider seluler')\n",
        "plt.ylabel('Class counts', fontsize=16)\n",
        "plt.xlabel('Class label', fontsize=16)\n",
        "plt.xticks(rotation='vertical');"
      ],
      "execution_count": 12,
      "outputs": [
        {
          "output_type": "display_data",
          "data": {
            "image/png": "[encoded data removed]",
            "text/plain": [
              "<Figure size 864x360 with 1 Axes>"
            ]
          },
          "metadata": {
            "needs_background": "light"
          }
        }
      ]
    },
    {
      "cell_type": "markdown",
      "metadata": {
        "id": "HyqMcqo6segy"
      },
      "source": [
        "Pemrosesan data"
      ]
    },
    {
      "cell_type": "code",
      "metadata": {
        "id": "hlk0xI93FglL"
      },
      "source": [
        "#simpan kata-kata stopword\n",
        "\n",
        "# f=open('stopwordlist.txt')\n",
        "\n",
        "url = \"https://raw.githubusercontent.com/rizalespe/Dataset-Sentimen-Analisis-Bahasa-Indonesia/master/dataset_tweet_sentiment_cellular_service_provider.csv\"\n",
        "ina_stopword = requests.get(url).content\n",
        "\n",
        "tempStoplist = []\n",
        "for tempstp in ina_stopword.split():\n",
        "  tempStoplist.append(tempstp)"
      ],
      "execution_count": 13,
      "outputs": []
    },
    {
      "cell_type": "code",
      "metadata": {
        "id": "hHFfXst5FuU9"
      },
      "source": [
        "TEXT_CLEANING_RE = \"@#=-_\\S+|https?:\\S+http?:\\S|{^A-Za-z}+\" #regex untuk remove punctuation\n",
        "\n",
        "def preprocessing(tweet):\n",
        "  tweet = re.sub(TEXT_CLEANING_RE,'', str(tweet).lower()).strip() #casefolding dan remove punctuation\n",
        "  processed_tweets = []\n",
        "\n",
        "  for token in tweet.split():\n",
        "    if token not in tempStoplist: #jika token tidak di stopword maka simpan\n",
        "      processed_tweets.append(token) \n",
        "  return \" \".join(processed_tweets)\n",
        "\n"
      ],
      "execution_count": 16,
      "outputs": []
    },
    {
      "cell_type": "code",
      "metadata": {
        "colab": {
          "base_uri": "https://localhost:8080/"
        },
        "id": "FIODmobTGyJ1",
        "outputId": "b1873d75-f676-42b3-f4b8-b54d75bd28d4"
      },
      "source": [
        "# Mengimplementasikan preprocessing Menggunakan Stemming Sastrawi dan Stopwordlist Indonesia\n",
        "%%time\n",
        "\n",
        "tweets['clean_twt'] = tweets.text.apply(lambda x: preprocessing(x))\n",
        "tweets['clean_twt'] = tweets.clean_twt.str.replace('rt', '')"
      ],
      "execution_count": 19,
      "outputs": [
        {
          "output_type": "stream",
          "name": "stdout",
          "text": [
            "CPU times: user 260 ms, sys: 479 µs, total: 261 ms\n",
            "Wall time: 270 ms\n"
          ]
        }
      ]
    },
    {
      "cell_type": "code",
      "metadata": {
        "colab": {
          "base_uri": "https://localhost:8080/",
          "height": 204
        },
        "id": "QaMNi1bbIp1L",
        "outputId": "d24a222f-090c-4e08-9b91-bf83103337ea"
      },
      "source": [
        "tweets.head()"
      ],
      "execution_count": 20,
      "outputs": [
        {
          "output_type": "execute_result",
          "data": {
            "text/html": [
              "<div>\n",
              "<style scoped>\n",
              "    .dataframe tbody tr th:only-of-type {\n",
              "        vertical-align: middle;\n",
              "    }\n",
              "\n",
              "    .dataframe tbody tr th {\n",
              "        vertical-align: top;\n",
              "    }\n",
              "\n",
              "    .dataframe thead th {\n",
              "        text-align: right;\n",
              "    }\n",
              "</style>\n",
              "<table border=\"1\" class=\"dataframe\">\n",
              "  <thead>\n",
              "    <tr style=\"text-align: right;\">\n",
              "      <th></th>\n",
              "      <th>Id</th>\n",
              "      <th>Sentiment</th>\n",
              "      <th>text</th>\n",
              "      <th>clean_twt</th>\n",
              "    </tr>\n",
              "  </thead>\n",
              "  <tbody>\n",
              "    <tr>\n",
              "      <th>0</th>\n",
              "      <td>1</td>\n",
              "      <td>positive</td>\n",
              "      <td>&lt;USER_MENTION&gt; #BOIKOT_&lt;PROVIDER_NAME&gt; Gunakan...</td>\n",
              "      <td>&lt;user_mention&gt; #boikot_&lt;provider_name&gt; gunakan...</td>\n",
              "    </tr>\n",
              "    <tr>\n",
              "      <th>1</th>\n",
              "      <td>2</td>\n",
              "      <td>positive</td>\n",
              "      <td>Saktinya balik lagi, alhamdulillah :v &lt;PROVIDE...</td>\n",
              "      <td>saktinya balik lagi, alhamdulillah :v &lt;provide...</td>\n",
              "    </tr>\n",
              "    <tr>\n",
              "      <th>6</th>\n",
              "      <td>7</td>\n",
              "      <td>positive</td>\n",
              "      <td>&lt;PROVIDER_NAME&gt;  aku pakai &lt;PROVIDER_NAME&gt;, pa...</td>\n",
              "      <td>&lt;provider_name&gt; aku pakai &lt;provider_name&gt;, pak...</td>\n",
              "    </tr>\n",
              "    <tr>\n",
              "      <th>16</th>\n",
              "      <td>17</td>\n",
              "      <td>positive</td>\n",
              "      <td>&lt;PROVIDER_NAME&gt; &lt;PROVIDER_NAME&gt; kangen nih dap...</td>\n",
              "      <td>&lt;provider_name&gt; &lt;provider_name&gt; kangen nih dap...</td>\n",
              "    </tr>\n",
              "    <tr>\n",
              "      <th>22</th>\n",
              "      <td>23</td>\n",
              "      <td>positive</td>\n",
              "      <td>Jadi stabil disini. &lt;PROVIDER_NAME&gt; &lt;URL&gt;</td>\n",
              "      <td>jadi stabil disini. &lt;provider_name&gt; &lt;url&gt;</td>\n",
              "    </tr>\n",
              "  </tbody>\n",
              "</table>\n",
              "</div>"
            ],
            "text/plain": [
              "    Id  ...                                          clean_twt\n",
              "0    1  ...  <user_mention> #boikot_<provider_name> gunakan...\n",
              "1    2  ...  saktinya balik lagi, alhamdulillah :v <provide...\n",
              "6    7  ...  <provider_name> aku pakai <provider_name>, pak...\n",
              "16  17  ...  <provider_name> <provider_name> kangen nih dap...\n",
              "22  23  ...          jadi stabil disini. <provider_name> <url>\n",
              "\n",
              "[5 rows x 4 columns]"
            ]
          },
          "metadata": {},
          "execution_count": 20
        }
      ]
    },
    {
      "cell_type": "code",
      "metadata": {
        "colab": {
          "base_uri": "https://localhost:8080/"
        },
        "id": "IxosoaUpsgEj",
        "outputId": "1d6128c8-c8f8-4610-e44e-91baf822fdb5"
      },
      "source": [
        "from sklearn.preprocessing import LabelEncoder\n",
        "\n",
        "X = tweets.iloc[:, 2]\n",
        "le = LabelEncoder()\n",
        "le.fit([\"positive\", \"negative\"])\n",
        "\n",
        "print(list(le.classes_))\n",
        "y = le.transform(tweets.iloc[:, 1])\n",
        "\n",
        "print(X.shape)\n",
        "print(X[0]) #print kolom x baris pertama/index 0\n",
        "print(y.shape)\n",
        "print(y[0])"
      ],
      "execution_count": 21,
      "outputs": [
        {
          "output_type": "stream",
          "name": "stdout",
          "text": [
            "['negative', 'positive']\n",
            "(300,)\n",
            "<USER_MENTION> #BOIKOT_<PROVIDER_NAME> Gunakan Produk Bangsa Sendiri <PROVIDER_NAME>\n",
            "(300,)\n",
            "1\n"
          ]
        }
      ]
    },
    {
      "cell_type": "code",
      "metadata": {
        "id": "WZ4kIiklwl-y"
      },
      "source": [
        "from sklearn.feature_extraction.text import TfidfVectorizer\n",
        "tfidfconverter = TfidfVectorizer(min_df=5, ngram_range=(1,3))\n",
        "X1 = tfidfconverter.fit_transform(tweets.clean_twt).toarray()"
      ],
      "execution_count": 25,
      "outputs": []
    },
    {
      "cell_type": "code",
      "metadata": {
        "colab": {
          "base_uri": "https://localhost:8080/"
        },
        "id": "ut1Vno-xz8di",
        "outputId": "1e468770-f290-4cc4-9c13-4e4e3250c213"
      },
      "source": [
        "X1"
      ],
      "execution_count": 26,
      "outputs": [
        {
          "output_type": "execute_result",
          "data": {
            "text/plain": [
              "array([[0.        , 0.        , 0.        , ..., 0.        , 0.        ,\n",
              "        0.        ],\n",
              "       [0.        , 0.        , 0.        , ..., 0.        , 0.        ,\n",
              "        0.        ],\n",
              "       [0.        , 0.        , 0.        , ..., 0.        , 0.27427722,\n",
              "        0.24740633],\n",
              "       ...,\n",
              "       [0.        , 0.33264528, 0.54619923, ..., 0.        , 0.        ,\n",
              "        0.        ],\n",
              "       [0.        , 0.        , 0.        , ..., 0.        , 0.        ,\n",
              "        0.        ],\n",
              "       [0.        , 0.        , 0.        , ..., 0.        , 0.        ,\n",
              "        0.        ]])"
            ]
          },
          "metadata": {},
          "execution_count": 26
        }
      ]
    },
    {
      "cell_type": "markdown",
      "metadata": {
        "id": "LmHZ6PpH0Ncn"
      },
      "source": [
        "handling imbalanced data"
      ]
    },
    {
      "cell_type": "code",
      "metadata": {
        "colab": {
          "base_uri": "https://localhost:8080/"
        },
        "id": "TcYIlN9V0Q23",
        "outputId": "36809d90-6828-4078-9058-036ad5e707b1"
      },
      "source": [
        "from collections import Counter\n",
        "\n",
        "counter = Counter(y)\n",
        "print(counter)"
      ],
      "execution_count": 27,
      "outputs": [
        {
          "output_type": "stream",
          "name": "stdout",
          "text": [
            "Counter({0: 161, 1: 139})\n"
          ]
        }
      ]
    },
    {
      "cell_type": "code",
      "metadata": {
        "colab": {
          "base_uri": "https://localhost:8080/"
        },
        "id": "xSHM2OhM0652",
        "outputId": "01556a96-b1cd-4a90-aa7e-3fe09d4fd63f"
      },
      "source": [
        "from imblearn.over_sampling import SMOTE\n",
        "oversample = SMOTE(k_neighbors=5)\n",
        "X_smote, Y_smote = oversample.fit_resample(X1, y)"
      ],
      "execution_count": 28,
      "outputs": [
        {
          "output_type": "stream",
          "name": "stderr",
          "text": [
            "/usr/local/lib/python3.7/dist-packages/sklearn/externals/six.py:31: FutureWarning: The module is deprecated in version 0.21 and will be removed in version 0.23 since we've dropped support for Python 2.7. Please rely on the official version of six (https://pypi.org/project/six/).\n",
            "  \"(https://pypi.org/project/six/).\", FutureWarning)\n",
            "/usr/local/lib/python3.7/dist-packages/sklearn/utils/deprecation.py:144: FutureWarning: The sklearn.neighbors.base module is  deprecated in version 0.22 and will be removed in version 0.24. The corresponding classes / functions should instead be imported from sklearn.neighbors. Anything that cannot be imported from sklearn.neighbors is now part of the private API.\n",
            "  warnings.warn(message, FutureWarning)\n",
            "/usr/local/lib/python3.7/dist-packages/sklearn/utils/deprecation.py:87: FutureWarning: Function safe_indexing is deprecated; safe_indexing is deprecated in version 0.22 and will be removed in version 0.24.\n",
            "  warnings.warn(msg, category=FutureWarning)\n"
          ]
        }
      ]
    },
    {
      "cell_type": "code",
      "metadata": {
        "colab": {
          "base_uri": "https://localhost:8080/"
        },
        "id": "yvHlL9dN1T2J",
        "outputId": "92bec1a2-c1a3-47d1-a787-2c91bb99463e"
      },
      "source": [
        "from collections import Counter\n",
        "counter = Counter(Y_smote)\n",
        "print(counter)"
      ],
      "execution_count": 29,
      "outputs": [
        {
          "output_type": "stream",
          "name": "stdout",
          "text": [
            "Counter({1: 161, 0: 161})\n"
          ]
        }
      ]
    },
    {
      "cell_type": "code",
      "metadata": {
        "id": "HkOD6pWL1b_g"
      },
      "source": [
        "# Membagi data training dan test\n",
        "\n",
        "from sklearn.model_selection import train_test_split\n",
        "X_train, X_test, y_train, y_test = train_test_split(X_smote, Y_smote, test_size=0.2, random_state=0)"
      ],
      "execution_count": 30,
      "outputs": []
    },
    {
      "cell_type": "markdown",
      "metadata": {
        "id": "cSZYCFZG156t"
      },
      "source": [
        "melatih dan evaluasi model klasifikasi teks"
      ]
    },
    {
      "cell_type": "code",
      "metadata": {
        "id": "2GIVeN3w2AEo"
      },
      "source": [
        "import time\n",
        "\n",
        "from sklearn.ensemble import RandomForestClassifier\n",
        "\n",
        "text_classifier_en = RandomForestClassifier(n_estimators=100, random_state=0)\n",
        "t0_en = time.time()\n",
        "text_classifier_en.fit(X_train, y_train)\n",
        "t1_en = time.time()"
      ],
      "execution_count": 31,
      "outputs": []
    },
    {
      "cell_type": "code",
      "metadata": {
        "id": "dwvdB9s422BG"
      },
      "source": [
        "from sklearn.naive_bayes import GaussianNB\n",
        "text_classifier_nb = GaussianNB()\n",
        "t0_nb = time.time()\n",
        "text_classifier_nb.fit(X_train, y_train)\n",
        "t1_nb = time.time()"
      ],
      "execution_count": 32,
      "outputs": []
    },
    {
      "cell_type": "code",
      "metadata": {
        "id": "1vANP5J13LQd"
      },
      "source": [
        "from sklearn.svm import SVC\n",
        "text_classifier_svm = SVC(kernel='linear')\n",
        "t0_svm = time.time()\n",
        "text_classifier_svm.fit(X_train, y_train)\n",
        "t1_svm = time.time()"
      ],
      "execution_count": 33,
      "outputs": []
    },
    {
      "cell_type": "code",
      "metadata": {
        "colab": {
          "base_uri": "https://localhost:8080/"
        },
        "id": "fJLqqBRW3l_9",
        "outputId": "af486f9a-b7e7-47cc-bb4f-ea393ad25eb2"
      },
      "source": [
        "predictions_en = text_classifier_en.predict(X_test)\n",
        "t2_en = time.time()\n",
        "time_linear_train_en = t1_en-t0_en\n",
        "time_linear_predict_en = t2_en-t1_en\n",
        "\n",
        "predictions_nb = text_classifier_nb.predict(X_test)\n",
        "t2_nb = time.time()\n",
        "time_linear_train_nb = t1_nb-t0_nb\n",
        "time_linear_predict_nb = t2_nb-t1_nb\n",
        "\n",
        "predictions_svm = text_classifier_svm.predict(X_test)\n",
        "t2_svm = time.time()\n",
        "time_linear_train_svm = t1_svm-t0_svm\n",
        "time_linear_predict_svm = t2_svm-t1_svm\n",
        "\n",
        "# results\n",
        "print(\"EN Training time: %fs; Prediction time: %fs\" % (time_linear_train_en, time_linear_predict_en))\n",
        "print(\"NB Training time: %fs; Prediction time: %fs\" % (time_linear_train_nb, time_linear_predict_nb))\n",
        "print(\"SVM Training time: %fs; Prediction time: %fs\" % (time_linear_train_svm, time_linear_predict_svm))"
      ],
      "execution_count": 34,
      "outputs": [
        {
          "output_type": "stream",
          "name": "stdout",
          "text": [
            "EN Training time: 0.171072s; Prediction time: 5.358062s\n",
            "NB Training time: 0.003606s; Prediction time: 3.401100s\n",
            "SVM Training time: 0.020402s; Prediction time: 1.697901s\n"
          ]
        }
      ]
    },
    {
      "cell_type": "markdown",
      "metadata": {
        "id": "8FXiXx4kJ7DI"
      },
      "source": [
        "results\n"
      ]
    },
    {
      "cell_type": "code",
      "metadata": {
        "colab": {
          "base_uri": "https://localhost:8080/"
        },
        "id": "on8tD2TG61-9",
        "outputId": "d4a7da9d-8655-48a7-9af2-7e311b96d61b"
      },
      "source": [
        "from sklearn.metrics import classification_report, confusion_matrix, accuracy_score, recall_score, precision_score, f1_score, roc_auc_score\n",
        "\n",
        "print(\"Random Forest\")\n",
        "print('Accuracy  = ', round(accuracy_score(y_test, predictions_en)*100,2),'%')\n",
        "print('Recall    = ', round(recall_score(y_test, predictions_en)*100,2),'%')\n",
        "print('Precision = ', round(precision_score(y_test, predictions_en)*100,2),'%')\n",
        "print('F1-Score  = ', round(f1_score(y_test, predictions_en)*100,2),'%')\n",
        "print('ROC AUC   = ', roc_auc_score(y_test, predictions_en))\n",
        "print(\"\")\n",
        "print(\"Naive Bayes\")\n",
        "print('Accuracy  = ', round(accuracy_score(y_test, predictions_nb)*100,2),'%')\n",
        "print('Recall    = ', round(recall_score(y_test, predictions_nb)*100,2),'%')\n",
        "print('Precision = ', round(precision_score(y_test, predictions_nb)*100,2),'%')\n",
        "print('F1-Score  = ', round(f1_score(y_test, predictions_nb)*100,2),'%')\n",
        "print('ROC AUC   = ', roc_auc_score(y_test, predictions_nb))\n",
        "print(\"\")\n",
        "print(\"Support Vector Machine\")\n",
        "print('Accuracy  = ', round(accuracy_score(y_test, predictions_svm)*100,2),'%')\n",
        "print('Recall    = ', round(recall_score(y_test, predictions_svm)*100,2),'%')\n",
        "print('Precision = ', round(precision_score(y_test, predictions_svm)*100,2),'%')\n",
        "print('F1-Score  = ', round(f1_score(y_test, predictions_svm)*100,2),'%')\n",
        "print('ROC AUC   = ', roc_auc_score(y_test, predictions_svm))\n",
        "print(\"\")\n"
      ],
      "execution_count": 40,
      "outputs": [
        {
          "output_type": "stream",
          "name": "stdout",
          "text": [
            "Random Forest\n",
            "Accuracy  =  80.0 %\n",
            "Recall    =  81.82 %\n",
            "Precision =  79.41 %\n",
            "F1-Score  =  80.6 %\n",
            "ROC AUC   =  0.7997159090909092\n",
            "\n",
            "Naive Bayes\n",
            "Accuracy  =  86.15 %\n",
            "Recall    =  96.97 %\n",
            "Precision =  80.0 %\n",
            "F1-Score  =  87.67 %\n",
            "ROC AUC   =  0.8598484848484849\n",
            "\n",
            "Support Vector Machine\n",
            "Accuracy  =  81.54 %\n",
            "Recall    =  78.79 %\n",
            "Precision =  83.87 %\n",
            "F1-Score  =  81.25 %\n",
            "ROC AUC   =  0.8158143939393939\n",
            "\n"
          ]
        }
      ]
    },
    {
      "cell_type": "markdown",
      "metadata": {
        "id": "5sQ-DXrvK_yL"
      },
      "source": [
        "prediksi \n"
      ]
    },
    {
      "cell_type": "code",
      "metadata": {
        "colab": {
          "base_uri": "https://localhost:8080/"
        },
        "id": "CgtPjYbaJ_Bd",
        "outputId": "69e8094f-de34-4f00-c44a-03ff41ef3c63"
      },
      "source": [
        "# Random Forest\n",
        "# Input text\n",
        "review = \"jaringannya bagus\"\n",
        "\n",
        "review_vector = tfidfconverter.transform([review]).toarray() # vectorizing\n",
        "pred_text = text_classifier_en.predict(review_vector)\n",
        "pred_text = le.inverse_transform(pred_text)\n",
        "print(pred_text)"
      ],
      "execution_count": 42,
      "outputs": [
        {
          "output_type": "stream",
          "name": "stdout",
          "text": [
            "['positive']\n"
          ]
        }
      ]
    },
    {
      "cell_type": "code",
      "metadata": {
        "colab": {
          "base_uri": "https://localhost:8080/"
        },
        "id": "EnSojJSnKBhy",
        "outputId": "fff2c6b3-2816-431a-f0db-0834d9bbb501"
      },
      "source": [
        "# Random Forest\n",
        "# Input text\n",
        "review = \"sinyalnya lemot\"\n",
        "\n",
        "review_vector = tfidfconverter.transform([review]).toarray() # vectorizing\n",
        "pred_text = text_classifier_en.predict(review_vector)\n",
        "pred_text = le.inverse_transform(pred_text)\n",
        "print(pred_text)"
      ],
      "execution_count": 43,
      "outputs": [
        {
          "output_type": "stream",
          "name": "stdout",
          "text": [
            "['negative']\n"
          ]
        }
      ]
    },
    {
      "cell_type": "code",
      "metadata": {
        "colab": {
          "base_uri": "https://localhost:8080/"
        },
        "id": "mOrafgf5KSsS",
        "outputId": "cac007b0-391d-4ac7-c8f3-de95ef83c866"
      },
      "source": [
        "# Naive Bayes\n",
        "# Input text\n",
        "review = \"jaringannya bagus\"\n",
        "\n",
        "review_vector = tfidfconverter.transform([review]).toarray() # vectorizing\n",
        "pred_text = text_classifier_nb.predict(review_vector)\n",
        "pred_text = le.inverse_transform(pred_text)\n",
        "print(pred_text)"
      ],
      "execution_count": 44,
      "outputs": [
        {
          "output_type": "stream",
          "name": "stdout",
          "text": [
            "['positive']\n"
          ]
        }
      ]
    },
    {
      "cell_type": "code",
      "metadata": {
        "colab": {
          "base_uri": "https://localhost:8080/"
        },
        "id": "MQe41ZXcKXXf",
        "outputId": "a2a357b0-934b-4fee-8ce4-2a564df72db3"
      },
      "source": [
        "# Naive Bayes\n",
        "# Input text\n",
        "review = \"sinyalnya lemot\"\n",
        "\n",
        "review_vector = tfidfconverter.transform([review]).toarray() # vectorizing\n",
        "pred_text = text_classifier_nb.predict(review_vector)\n",
        "pred_text = le.inverse_transform(pred_text)\n",
        "print(pred_text)"
      ],
      "execution_count": 45,
      "outputs": [
        {
          "output_type": "stream",
          "name": "stdout",
          "text": [
            "['negative']\n"
          ]
        }
      ]
    },
    {
      "cell_type": "code",
      "metadata": {
        "colab": {
          "base_uri": "https://localhost:8080/"
        },
        "id": "RnaIyUuhKbwN",
        "outputId": "07f8e7bc-ecf1-4d28-c78c-12f959d187dc"
      },
      "source": [
        "# SVM\n",
        "# Input text\n",
        "review = \"jaringannya bagus\"\n",
        "\n",
        "review_vector = tfidfconverter.transform([review]).toarray() # vectorizing\n",
        "pred_text = text_classifier_svm.predict(review_vector)\n",
        "pred_text = le.inverse_transform(pred_text)\n",
        "print(pred_text)"
      ],
      "execution_count": 46,
      "outputs": [
        {
          "output_type": "stream",
          "name": "stdout",
          "text": [
            "['positive']\n"
          ]
        }
      ]
    },
    {
      "cell_type": "code",
      "metadata": {
        "colab": {
          "base_uri": "https://localhost:8080/"
        },
        "id": "pzIoBk-WKf57",
        "outputId": "614831d0-342c-4c64-94df-fdfe6a94e31b"
      },
      "source": [
        "# SVM\n",
        "# Input text\n",
        "review = \"sinyalnya lemot\"\n",
        "\n",
        "review_vector = tfidfconverter.transform([review]).toarray() # vectorizing\n",
        "pred_text = text_classifier_svm.predict(review_vector)\n",
        "pred_text = le.inverse_transform(pred_text)\n",
        "print(pred_text)"
      ],
      "execution_count": 47,
      "outputs": [
        {
          "output_type": "stream",
          "name": "stdout",
          "text": [
            "['negative']\n"
          ]
        }
      ]
    },
    {
      "cell_type": "markdown",
      "metadata": {
        "id": "MVLIPguSK2-v"
      },
      "source": [
        "prediksi dengan logistic regresi"
      ]
    },
    {
      "cell_type": "code",
      "metadata": {
        "colab": {
          "base_uri": "https://localhost:8080/"
        },
        "id": "oBpIvjjQMaU8",
        "outputId": "fcbe7ebb-2497-4a6a-d9f5-278e8e416f26"
      },
      "source": [
        "#melakukan pemodelan prediksi\n",
        "%%time\n",
        "from sklearn.feature_extraction.text import TfidfVectorizer\n",
        "from sklearn.linear_model import LogisticRegression\n",
        "from sklearn.model_selection import train_test_split\n",
        "from sklearn.metrics import f1_score, log_loss, accuracy_score, recall_score, precision_score\n",
        "\n"
      ],
      "execution_count": 48,
      "outputs": [
        {
          "output_type": "stream",
          "name": "stdout",
          "text": [
            "CPU times: user 30 µs, sys: 5 µs, total: 35 µs\n",
            "Wall time: 40.5 µs\n"
          ]
        }
      ]
    },
    {
      "cell_type": "code",
      "metadata": {
        "id": "AbOKTkRYWZhl"
      },
      "source": [
        "#membangun vector space model/pembobotan dengan tfidf\n",
        "vectorizer = TfidfVectorizer(ngram_range=(1,3), min_df=10)\n",
        "features = vectorizer.fit_transform(tweets.clean_twt)"
      ],
      "execution_count": 62,
      "outputs": []
    },
    {
      "cell_type": "code",
      "metadata": {
        "colab": {
          "base_uri": "https://localhost:8080/"
        },
        "id": "zWL8kl_-Wff_",
        "outputId": "fc1c2b05-78a8-433a-c3a5-b03dd97f7b3c"
      },
      "source": [
        "vectorizer.vocabulary_"
      ],
      "execution_count": 63,
      "outputs": [
        {
          "output_type": "execute_result",
          "data": {
            "text/plain": [
              "{'4g': 0,\n",
              " '4g provider_name': 1,\n",
              " 'ada': 2,\n",
              " 'aja': 3,\n",
              " 'alhamdulillah': 4,\n",
              " 'banget': 5,\n",
              " 'banyak': 6,\n",
              " 'bikin': 7,\n",
              " 'bisa': 8,\n",
              " 'boikot': 9,\n",
              " 'boikot provider_name': 10,\n",
              " 'buat': 11,\n",
              " 'cuma': 12,\n",
              " 'dan': 13,\n",
              " 'dapat': 14,\n",
              " 'dari': 15,\n",
              " 'dari provider_name': 16,\n",
              " 'data': 17,\n",
              " 'dengan': 18,\n",
              " 'di': 19,\n",
              " 'gak': 20,\n",
              " 'gratis': 21,\n",
              " 'hari': 22,\n",
              " 'ini': 23,\n",
              " 'internet': 24,\n",
              " 'jadi': 25,\n",
              " 'jaringan': 26,\n",
              " 'juga': 27,\n",
              " 'karena': 28,\n",
              " 'kau': 29,\n",
              " 'ke': 30,\n",
              " 'kenapa': 31,\n",
              " 'kok': 32,\n",
              " 'kuota': 33,\n",
              " 'lagi': 34,\n",
              " 'lancar': 35,\n",
              " 'lebih': 36,\n",
              " 'lemot': 37,\n",
              " 'mahal': 38,\n",
              " 'makin': 39,\n",
              " 'masih': 40,\n",
              " 'memang': 41,\n",
              " 'pakai': 42,\n",
              " 'pakai provider_name': 43,\n",
              " 'paket': 44,\n",
              " 'product_name': 45,\n",
              " 'provider_name': 46,\n",
              " 'provider_name provider_name': 47,\n",
              " 'provider_name url': 48,\n",
              " 'pulsa': 49,\n",
              " 'saja': 50,\n",
              " 'sama': 51,\n",
              " 'sangat': 52,\n",
              " 'saya': 53,\n",
              " 'sinyal': 54,\n",
              " 'sudah': 55,\n",
              " 'tapi': 56,\n",
              " 'tidak': 57,\n",
              " 'url': 58,\n",
              " 'user_mention': 59,\n",
              " 'ya': 60,\n",
              " 'yang': 61,\n",
              " 'youtube': 62}"
            ]
          },
          "metadata": {},
          "execution_count": 63
        }
      ]
    },
    {
      "cell_type": "code",
      "metadata": {
        "id": "aRYb3suVWiv-"
      },
      "source": [
        "#modeling sentiment\n",
        "LR_ = LogisticRegression().fit(X_train, y_train)"
      ],
      "execution_count": 64,
      "outputs": []
    },
    {
      "cell_type": "code",
      "metadata": {
        "colab": {
          "base_uri": "https://localhost:8080/"
        },
        "id": "1r77CaDhWm8c",
        "outputId": "c422ad9a-3edd-4313-bdc6-d21d18dbb27c"
      },
      "source": [
        "#melakukan evaluasi\n",
        "yhat = LR_.predict(X_test)\n",
        "yhat_prob = LR_.predict_proba(X_test)\n",
        "# print('F1 score : ', f1_score(y_test, yhat, average='weighted'))\n",
        "print('Accuracy  = ', round(accuracy_score(y_test,yhat)*100,2),'%')\n",
        "print('Recall    = ', round(recall_score(y_test, yhat)*100,2),'%')\n",
        "print('Precision = ', round(precision_score(y_test, yhat)*100,2),'%')\n",
        "print('F1-Score  = ', round(f1_score(y_test, yhat)*100,2),'%')\n",
        "\n",
        "print('Log Loss : ', round(log_loss(y_test, yhat_prob), 2))"
      ],
      "execution_count": 72,
      "outputs": [
        {
          "output_type": "stream",
          "name": "stdout",
          "text": [
            "Accuracy  =  84.62 %\n",
            "Recall    =  84.85 %\n",
            "Precision =  84.85 %\n",
            "F1-Score  =  84.85 %\n",
            "Log Loss :  0.5\n"
          ]
        }
      ]
    },
    {
      "cell_type": "markdown",
      "metadata": {
        "id": "oVzi-NCzaRig"
      },
      "source": [
        "Kesimpulan:\n",
        "\n",
        "Metode Analysis pada data yang digunakan yang menunjukkan akurasi tertinggi adalah metode Naive Bayes."
      ]
    }
  ]
}