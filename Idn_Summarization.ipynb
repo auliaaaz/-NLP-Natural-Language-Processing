{
  "nbformat": 4,
  "nbformat_minor": 0,
  "metadata": {
    "colab": {
      "name": "Idn_Summarization.ipynb",
      "provenance": [],
      "authorship_tag": "ABX9TyOOozPKn3TR9F0FbpUr18LN",
      "include_colab_link": true
    },
    "kernelspec": {
      "name": "python3",
      "display_name": "Python 3"
    },
    "language_info": {
      "name": "python"
    }
  },
  "cells": [
    {
      "cell_type": "markdown",
      "metadata": {
        "id": "view-in-github",
        "colab_type": "text"
      },
      "source": [
        "<a href=\"https://colab.research.google.com/github/auliaaaz/-NLP-Natural-Language-Processing/blob/main/Idn_Summarization.ipynb\" target=\"_parent\"><img src=\"https://colab.research.google.com/assets/colab-badge.svg\" alt=\"Open In Colab\"/></a>"
      ]
    },
    {
      "cell_type": "markdown",
      "metadata": {
        "id": "8xmqFnB9QTe6"
      },
      "source": [
        "Import Library"
      ]
    },
    {
      "cell_type": "code",
      "metadata": {
        "colab": {
          "base_uri": "https://localhost:8080/"
        },
        "id": "F4eCS7liQnyS",
        "outputId": "4036965f-84e3-4a87-f3fc-ca815ec7cb12"
      },
      "source": [
        "!pip install sastrawi"
      ],
      "execution_count": 1,
      "outputs": [
        {
          "output_type": "stream",
          "name": "stdout",
          "text": [
            "Requirement already satisfied: sastrawi in /usr/local/lib/python3.7/dist-packages (1.0.1)\n"
          ]
        }
      ]
    },
    {
      "cell_type": "code",
      "metadata": {
        "id": "un0cqnOBefXK"
      },
      "source": [
        "# Import library\n",
        "import re\n",
        "import requests\n",
        "\n",
        "from newspaper import Article\n",
        "import random\n",
        "import nltk\n",
        "import string\n",
        "import numpy as np\n",
        "import warnings\n",
        "warnings.filterwarnings('ignore')\n",
        "from string import punctuation\n",
        "\n",
        "from nltk import word_tokenize\n",
        "from Sastrawi.Stemmer.StemmerFactory import StemmerFactory\n",
        "from nltk.tokenize import sent_tokenize"
      ],
      "execution_count": 48,
      "outputs": []
    },
    {
      "cell_type": "markdown",
      "metadata": {
        "id": "u5KYUaiESpNN"
      },
      "source": [
        "Load stopword list dari repo github yang akan dipakai menghapus stopword\n",
        "\n"
      ]
    },
    {
      "cell_type": "code",
      "metadata": {
        "id": "MfFWEW-3eg-i"
      },
      "source": [
        "# Load Stopwords dengan mengambil dari link url repo github\n",
        "\n",
        "def load_stopWords():\n",
        "\turl = \"https://raw.githubusercontent.com/Wayan123/Sentiment-Analysis/main/stopwordlist.txt\"\n",
        "\tina_stopword = requests.get(url).content\n",
        "\treturn ina_stopword.split()\n",
        "\n",
        "stopwords = load_stopWords()"
      ],
      "execution_count": 12,
      "outputs": []
    },
    {
      "cell_type": "code",
      "metadata": {
        "colab": {
          "base_uri": "https://localhost:8080/"
        },
        "id": "v_EwKj9uTck-",
        "outputId": "9ea59ff3-dd40-46b1-a1e5-773ec355a3dc"
      },
      "source": [
        "# Menampilkan isi list stopwords\n",
        "\n",
        "print(stopwords)"
      ],
      "execution_count": 13,
      "outputs": [
        {
          "output_type": "stream",
          "name": "stdout",
          "text": [
            "[b'zahwa', b'laweyan', b'sriwedari', b'sang', b'aantasyaf', b'menurutku', b'chi', b'partecipa', b'al', b'tuo', b'piacere', b'ma', b'non', b'al', b'la', b'doloreperde', b'chiave', b'una', b'delle', b'sette', b'portedel', b'paradisopuoi', b'dimenticare', b'persona', b'con', b'cui', b'hai', b'piantokhalil', b'gibranangelo', b'tristesecoloartista', b'sconosciuto', b'a', b'ada', b'aja', b'adalah', b'adakah', b'adanya', b'adapun', b'agak', b'agaknya', b'agar', b'akan', b'akankah', b'akhir', b'akhiri', b'akhirilah', b'akhirnya', b'aku', b'akulah', b'akupun', b'amat', b'amati', b'amatilah', b'amatlah', b'anda', b'andalah', b'antar', b'antara', b'antaranya', b'apa', b'apaan', b'apabila', b'apakah', b'apalagi', b'apalah', b'apatah', b'arti', b'artinya', b'asal', b'asalkan', b'asalnya', b'atas', b'atasi', b'atasnya', b'atau', b'ataukah', b'ataupun', b'awal', b'awalnya', b'bagai', b'bagaikan', b'bagaimana', b'bagaimanakah', b'bagaimanapun', b'bagi', b'bagian', b'bahkan', b'bahwa', b'bahwasanya', b'baik', b'baiklah', b'baiknya', b'bakal', b'bakalan', b'balik', b'banyak', b'banyaknya', b'bapak', b'bapaknya', b'baru', b'barulah', b'bawah', b'bawahan', b'beberapa', b'begini', b'beginian', b'beginikah', b'beginilah', b'beginipun', b'begitu', b'begitukah', b'begitulah', b'begitupun', b'bekerja', b'belakang', b'belakangan', b'belas', b'belum', b'belumlah', b'benar', b'benarkah', b'benarlah', b'benarnya', b'berada', b'berakhir', b'berakhirlah', b'berakhirnya', b'berakhirpun', b'berapa', b'berapakah', b'berapalah', b'berapapun', b'berarti', b'berasal', b'berawal', b'berbagai', b'berbagi', b'berdatangan', b'berdekatan', b'berguna', b'beri', b'berikan', b'berilah', b'berikut', b'berikutnya', b'berisi', b'berjumlah', b'berkala', b'berkali', b'berkata', b'berkatalah', b'berkehendak', b'berkeinginan', b'berkenaan', b'berlainan', b'berlalu', b'berlangsung', b'berlebihan', b'berlebih', b'bermaksud', b'bermula', b'bersama', b'bersiap', b'bertanya', b'berturut', b'bertutur', b'berujar', b'berupa', b'besar', b'besarnya', b'betul', b'betulkah', b'betulnya', b'biasa', b'biasalah', b'biasanya', b'bila', b'bilakah', b'bisa', b'bisakah', b'boleh', b'bolehkah', b'bolehlah', b'buat', b'buatnya', b'bukan', b'bukankah', b'bukanlah', b'bukannya', b'bulan', b'bulanan', b'bung', b'cara', b'caranya', b'cukup', b'cukupkah', b'cukuplah', b'cuma', b'dahulu', b'dalam', b'dalamnya', b'dan', b'dapat', b'dapatlah', b'dapatkah', b'dari', b'dr', b'darinya', b'daripada', b'datang', b'datanglah', b'datangnya', b'dekat', b'delapan', b'delapannya', b'demi', b'demikian', b'demikianlah', b'dengan', b'denganku', b'denganmu', b'dengannya', b'depan', b'depanku', b'depanmu', b'depannya', b'di', b'dia', b'diakhir', b'diakhiri', b'diakhirinya', b'diakhirilah', b'dialah', b'diakah', b'dianya', b'diapun', b'diantara', b'diantaranya', b'diberi', b'diberikan', b'diberikannya', b'diberilah', b'diberinya', b'dibuat', b'dibuatkan', b'dibuatkannya', b'dibuatlah', b'dibuatnya', b'didapat', b'didapatkan', b'didatangkan', b'digunakan', b'digunakanlah', b'digunakannya', b'diibaratkan', b'diibaratkannya', b'diingat', b'diingatnya', b'diingatkan', b'diinginkan', b'diinginkannya', b'dijawab', b'dijawablah', b'dijawabnya', b'dijelaskan', b'dijelaskanlah', b'dijelaskannya', b'dikarenakan', b'dikarenakannya', b'dikala', b'dikatakan', b'dikatakanlah', b'dikatakannya', b'dikeluarkan', b'dikeluarkannya', b'dikerjakan', b'dikerjakannya', b'diketahui', b'diketahuilah', b'diketahuinya', b'dikira', b'dikiranya', b'dilakukan', b'dilakukannya', b'dilakukanlah', b'dilalui', b'dilaluinya', b'dilihat', b'dilihatnya', b'dimaksud', b'dimaksudkan', b'dimaksudkannya', b'dimaksudnya', b'diminta', b'dimintai', b'dimintanya', b'dimisalkan', b'dimisalkannya', b'dimulai', b'dimulailah', b'dimulainya', b'dimungkinkan', b'dini', b'dipastikan', b'dipastikannya', b'diperbuat', b'diperbuatnya', b'dipergunakan', b'dipergunakannya', b'diperkirakan', b'diperkirakannya', b'diperlihatkan', b'diperlihatkanlah', b'diperlukan', b'diperlukannya', b'dipersoalkan', b'dipertanyakan', b'dipunyai', b'dipunyainya', b'diri', b'dirinya', b'disampaikan', b'disampaikanlah', b'disampaikannya', b'disebut', b'disebutkan', b'disebutkannya', b'disini', b'disinilah', b'disinikah', b'ditambahkan', b'ditandaskan', b'ditanya', b'ditanyai', b'ditanyakan', b'ditanyakanlah', b'ditanyakannya', b'ditegaskan', b'ditujukan', b'ditunjuk', b'ditunjuki', b'ditunjukkan', b'ditunjukkannya', b'ditunjuknya', b'dituturkan', b'dituturkannya', b'diucapkan', b'diucapkannya', b'diungkapkan', b'diungkapkannya', b'dlm', b'dong', b'dua', b'duanya', b'dulu', b'dulunya', b'empat', b'empatnya', b'enam', b'enamnya', b'enggak', b'enggaknya', b'entah', b'entahlah', b'for', b'gak', b'guna', b'gunakan', b'gunanya', b'hal', b'halnya', b'hampir', b'hanya', b'hanyalah', b'hari', b'harian', b'harus', b'haruskah', b'haruslah', b'harusnya', b'hendak', b'hendaklah', b'hendaknya', b'hingga', b'ia', b'ialah', b'ibarat', b'ibaratkan', b'ibaratnya', b'ibu', b'ibunya', b'ikut', b'ikuti', b'ikutilah', b'ingat', b'ingatkan', b'ingatlah', b'ingatnya', b'ingin', b'inginkah', b'inginkan', b'inginnya', b'ini', b'inikah', b'inilah', b'inipun', b'itu', b'itukah', b'itulah', b'itupun', b'jadi', b'jadikan', b'jadilah', b'jadinya', b'jangan', b'jangankan', b'janganlah', b'jauh', b'jauhnya', b'jauhkah', b'jawab', b'jawaban', b'jawablah', b'jawabnya', b'jelas', b'jelaskan', b'jelaskanlah', b'jelaslah', b'jelasnya', b'jika', b'jikalau', b'juga', b'jumlah', b'jumlahnya', b'justru', b'kala', b'kalau', b'kalaulah', b'kalaupun', b'kalian', b'kalian', b'kami', b'kamilah', b'kamu', b'kamulah', b'kan', b'kapan', b'kapankah', b'kapanpun', b'karena', b'karenanya', b'kasus', b'kasusnya', b'kata', b'katakan', b'katakanlah', b'katanya', b'ke', b'keadaan', b'keadaannya', b'keadaannyalah', b'kebetulan', b'kebetulankah', b'kecil', b'kecilnya', b'kedelapan', b'kedua', b'keduanya', b'keduluan', b'keempat', b'keenam', b'ketujuh', b'kesembilan', b'kesepuluh', b'keinginan', b'keinginannya', b'kelamaan', b'kelihatan', b'kelihatannya', b'kelima', b'keluar', b'kembali', b'kemudian', b'kemungkinan', b'kemungkinannya', b'kenapa', b'kepada', b'kepadanya', b'kesampaian', b'keseluruhan', b'keseluruhannya', b'kesana', b'kesini', b'kesitu', b'keterlaluan', b'ketika', b'kg', b'khusus', b'khususnya', b'kini', b'kinilah', b'kira', b'kiranya', b'kita', b'kitalah', b'kok', b'kurang', b'kurangnya', b'lagi', b'lagian', b'lah', b'lain', b'lainnya', b'lalu', b'lama', b'lamanya', b'lanjut', b'lanjutnya', b'lebih', b'lebihnya', b'lembaranfana', b'lewat', b'lima', b'limanya', b'lu', b'luar', b'luarnya', b'm', b'macam', b'macamnya', b'maka', b'makanya', b'makin', b'malah', b'malahan', b'mampu', b'mampukah', b'mana', b'manakala', b'manalagi', b'mas', b'masa', b'masalah', b'masalahnya', b'masih', b'masihkah', b'masing', b'mau', b'maupun', b'melainkan', b'melakukan', b'melalui', b'melihat', b'melihatnya', b'memang', b'memastikan', b'memberi', b'memberikan', b'membuat', b'memerlukan', b'memihak', b'meminta', b'memintakan', b'memisalkan', b'memperbuat', b'mempergunakan', b'memperkirakan', b'memperlihatkan', b'mempersiapkan', b'mempersoalkan', b'mempertanyakan', b'mempunyai', b'memulai', b'memungkinkan', b'menaiki', b'menambahkan', b'menandaskan', b'menanti', b'menantikan', b'menanya', b'menanyai', b'menanyakan', b'mendapat', b'mendapatkan', b'mendatang', b'mendatangi', b'mendatangkan', b'menegaskan', b'mengakhiri', b'mengapa', b'mengatakan', b'mengatakannya', b'mengatasi', b'mengawali', b'mengenai', b'mengerjakan', b'mengetahui', b'menggunakan', b'menghendaki', b'mengibaratkan', b'mengibaratkannya', b'mengingat', b'mengingatkan', b'menginginkan', b'mengira', b'mengucapkan', b'mengucapkannya', b'mengungkapkan', b'menjadi', b'menjawab', b'menjelaskan', b'menuju', b'menunjuk', b'menunjuki', b'menunjukkan', b'menunjuknya', b'menurut', b'menuturkan', b'menyampaikan', b'menyangkut', b'menyatakan', b'menyebutkan', b'menyeluruh', b'menyiapkan', b'merasa', b'mereka', b'merekalah', b'merupakan', b'meski', b'meskipun', b'meyakini', b'meyakinkan', b'minta', b'mirip', b'misal', b'misalkan', b'misalnya', b'mu', b'mula', b'mulai', b'mulailah', b'mulanya', b'mungkin', b'mungkinkah', b'nah', b'naik', b'namun', b'nanti', b'nantinya', b'nya', b'nyaris', b'nyatanya', b'oleh', b'olehnya', b'one', b'pada', b'padahal', b'padanya', b'pak', b'paling', b'panjang', b'pantas', b'para', b'pasti', b'pastilah', b'penting', b'pentingnya', b'per', b'percuma', b'perlu', b'perlukah', b'perlunya', b'pernah', b'persoalan', b'pertama', b'pertanyaan', b'pertanyakan', b'pihak', b'pihaknya', b'pukul', b'pula', b'pun', b'punya', b'rasa', b'rasanya', b'rata', b'rupanya', b'saat', b'saatnya', b'saja', b'sajalah', b'saling', b'sama', b'sambil', b'sampai', b'sampaikan', b'sana', b'sangat', b'sangatlah', b'satu', b'saya', b'sayalah', b'se', b'sebab', b'sebabnya', b'sebagai', b'sebagaimana', b'sebagainya', b'sebagian', b'sebaik', b'sebaiknya', b'sebaliknya', b'sebanyak', b'sebegini', b'sebegitu', b'sebelum', b'sebelumnya', b'sebenarnya', b'seberapa', b'sebesar', b'sebetulnya', b'sebisanya', b'sebuah', b'sebut', b'sebutlah', b'sebutnya', b'secara', b'secukupnya', b'sedang', b'sedangkan', b'sedemikian', b'sedikit', b'sedikitnya', b'seenaknya', b'segala', b'segalanya', b'segera', b'seharusnya', b'sehingga', b'seingat', b'sejak', b'sejauh', b'sejenak', b'sejumlah', b'sekadar', b'sekadarnya', b'sekali', b'sekalian', b'sekaligus', b'sekalipun', b'sekarang', b'sekecil', b'seketika', b'sekiranya', b'sekitar', b'sekitarnya', b'sekurangnya', b'sela', b'selain', b'selaku', b'selalu', b'selama', b'selamanya', b'selanjutnya', b'seluruh', b'seluruhnya', b'semacam', b'semakin', b'semampu', b'semampunya', b'semasa', b'semasih', b'semata', b'semata-mata', b'semaunya', b'sementara', b'semisal', b'semisalnya', b'sempat', b'semua', b'semuanya', b'semula', b'sendiri', b'sendirian', b'sendirinya', b'seolah', b'seolah-olah', b'seorang', b'sepanjang', b'sepantasnya', b'sepantasnyalah', b'seperlunya', b'seperti', b'sepertinya', b'sepihak', b'sepuluh', b'sering', b'seringnya', b'serta', b'serupa', b'sesaat', b'sesama', b'sesampai', b'sesegera', b'sesekali', b'seseorang', b'sesuatu', b'sesuatunya', b'sesudah', b'sesudahnya', b'setelah', b'seterusnya', b'setiap', b'setempat', b'setengah', b'setiba', b'setibanya', b'setidaknya', b'setinggi', b'seusai', b'sewaktu', b'siap', b'siapa', b'siapakah', b'siapapun', b'sini', b'sing', b'sinilah', b'si', b'sih', b'soal', b'soalnya', b'suatu', b'sudah', b'sudahkah', b'sudahlah', b'supaya', b'tadi', b'tadinya', b'tahu', b'tahun', b'tahunan', b'tak', b'tdk', b'tambah', b'tambahnya', b'tampak', b'tampaknya', b'tandas', b'tandasnya', b'tanpa', b'tanya', b'tanyakan', b'tanyanya', b'tapi', b'tegas', b'tegasnya', b'telah', b'tempat', b'tengah', b'tentang', b'tentu', b'tentulah', b'tentunya', b'tepat', b'terakhir', b'terasa', b'terbanyak', b'terdahulu', b'terdapat', b'terdiri', b'terhadap', b'terhadapnya', b'teringat', b'terjadi', b'terjadilah', b'terjadinya', b'terkira', b'terlalu', b'terlebih', b'terlihat', b'termasuk', b'ternyata', b'tersampaikan', b'tersebut', b'tersebutlah', b'tertentu', b'tertinggi', b'tertuju', b'terus', b'terutama', b'tetap', b'tetapi', b'the', b'tiap', b'tiba', b'tidak', b'tidakkah', b'tidaklah', b'tiga', b'tinggi', b'theladies', b'toh', b'tujuh', b'tujuhnya', b'tunjuk', b'turut', b'tutur', b'tuturnya', b'ucap', b'ucapnya', b'ujar', b'ujarnya', b'umum', b'umumnya', b'ungkap', b'ungkapnya', b'untuk', b'usah', b'usai', b'up', b'waduh', b'wah', b'wahai', b'waktu', b'waktunya', b'walau', b'walaupun', b'wong', b'yaitu', b'yakin', b'yakni', b'yang', b'yuk', b'yg', b'yaa', b'ye']\n"
          ]
        }
      ]
    },
    {
      "cell_type": "code",
      "metadata": {
        "id": "V3dn15-jVz_k"
      },
      "source": [
        "# menghilangkan karakter b\n",
        "\n",
        "for i in range(len(stopwords)):\n",
        "  stopwords[i] = stopwords[i].decode('utf-8')"
      ],
      "execution_count": 14,
      "outputs": []
    },
    {
      "cell_type": "code",
      "metadata": {
        "colab": {
          "base_uri": "https://localhost:8080/"
        },
        "id": "7LFb2LE_WFVA",
        "outputId": "4d11489d-1476-469e-bdb9-e7beef07525e"
      },
      "source": [
        "# after\n",
        "\n",
        "print(stopwords)"
      ],
      "execution_count": 15,
      "outputs": [
        {
          "output_type": "stream",
          "name": "stdout",
          "text": [
            "['zahwa', 'laweyan', 'sriwedari', 'sang', 'aantasyaf', 'menurutku', 'chi', 'partecipa', 'al', 'tuo', 'piacere', 'ma', 'non', 'al', 'la', 'doloreperde', 'chiave', 'una', 'delle', 'sette', 'portedel', 'paradisopuoi', 'dimenticare', 'persona', 'con', 'cui', 'hai', 'piantokhalil', 'gibranangelo', 'tristesecoloartista', 'sconosciuto', 'a', 'ada', 'aja', 'adalah', 'adakah', 'adanya', 'adapun', 'agak', 'agaknya', 'agar', 'akan', 'akankah', 'akhir', 'akhiri', 'akhirilah', 'akhirnya', 'aku', 'akulah', 'akupun', 'amat', 'amati', 'amatilah', 'amatlah', 'anda', 'andalah', 'antar', 'antara', 'antaranya', 'apa', 'apaan', 'apabila', 'apakah', 'apalagi', 'apalah', 'apatah', 'arti', 'artinya', 'asal', 'asalkan', 'asalnya', 'atas', 'atasi', 'atasnya', 'atau', 'ataukah', 'ataupun', 'awal', 'awalnya', 'bagai', 'bagaikan', 'bagaimana', 'bagaimanakah', 'bagaimanapun', 'bagi', 'bagian', 'bahkan', 'bahwa', 'bahwasanya', 'baik', 'baiklah', 'baiknya', 'bakal', 'bakalan', 'balik', 'banyak', 'banyaknya', 'bapak', 'bapaknya', 'baru', 'barulah', 'bawah', 'bawahan', 'beberapa', 'begini', 'beginian', 'beginikah', 'beginilah', 'beginipun', 'begitu', 'begitukah', 'begitulah', 'begitupun', 'bekerja', 'belakang', 'belakangan', 'belas', 'belum', 'belumlah', 'benar', 'benarkah', 'benarlah', 'benarnya', 'berada', 'berakhir', 'berakhirlah', 'berakhirnya', 'berakhirpun', 'berapa', 'berapakah', 'berapalah', 'berapapun', 'berarti', 'berasal', 'berawal', 'berbagai', 'berbagi', 'berdatangan', 'berdekatan', 'berguna', 'beri', 'berikan', 'berilah', 'berikut', 'berikutnya', 'berisi', 'berjumlah', 'berkala', 'berkali', 'berkata', 'berkatalah', 'berkehendak', 'berkeinginan', 'berkenaan', 'berlainan', 'berlalu', 'berlangsung', 'berlebihan', 'berlebih', 'bermaksud', 'bermula', 'bersama', 'bersiap', 'bertanya', 'berturut', 'bertutur', 'berujar', 'berupa', 'besar', 'besarnya', 'betul', 'betulkah', 'betulnya', 'biasa', 'biasalah', 'biasanya', 'bila', 'bilakah', 'bisa', 'bisakah', 'boleh', 'bolehkah', 'bolehlah', 'buat', 'buatnya', 'bukan', 'bukankah', 'bukanlah', 'bukannya', 'bulan', 'bulanan', 'bung', 'cara', 'caranya', 'cukup', 'cukupkah', 'cukuplah', 'cuma', 'dahulu', 'dalam', 'dalamnya', 'dan', 'dapat', 'dapatlah', 'dapatkah', 'dari', 'dr', 'darinya', 'daripada', 'datang', 'datanglah', 'datangnya', 'dekat', 'delapan', 'delapannya', 'demi', 'demikian', 'demikianlah', 'dengan', 'denganku', 'denganmu', 'dengannya', 'depan', 'depanku', 'depanmu', 'depannya', 'di', 'dia', 'diakhir', 'diakhiri', 'diakhirinya', 'diakhirilah', 'dialah', 'diakah', 'dianya', 'diapun', 'diantara', 'diantaranya', 'diberi', 'diberikan', 'diberikannya', 'diberilah', 'diberinya', 'dibuat', 'dibuatkan', 'dibuatkannya', 'dibuatlah', 'dibuatnya', 'didapat', 'didapatkan', 'didatangkan', 'digunakan', 'digunakanlah', 'digunakannya', 'diibaratkan', 'diibaratkannya', 'diingat', 'diingatnya', 'diingatkan', 'diinginkan', 'diinginkannya', 'dijawab', 'dijawablah', 'dijawabnya', 'dijelaskan', 'dijelaskanlah', 'dijelaskannya', 'dikarenakan', 'dikarenakannya', 'dikala', 'dikatakan', 'dikatakanlah', 'dikatakannya', 'dikeluarkan', 'dikeluarkannya', 'dikerjakan', 'dikerjakannya', 'diketahui', 'diketahuilah', 'diketahuinya', 'dikira', 'dikiranya', 'dilakukan', 'dilakukannya', 'dilakukanlah', 'dilalui', 'dilaluinya', 'dilihat', 'dilihatnya', 'dimaksud', 'dimaksudkan', 'dimaksudkannya', 'dimaksudnya', 'diminta', 'dimintai', 'dimintanya', 'dimisalkan', 'dimisalkannya', 'dimulai', 'dimulailah', 'dimulainya', 'dimungkinkan', 'dini', 'dipastikan', 'dipastikannya', 'diperbuat', 'diperbuatnya', 'dipergunakan', 'dipergunakannya', 'diperkirakan', 'diperkirakannya', 'diperlihatkan', 'diperlihatkanlah', 'diperlukan', 'diperlukannya', 'dipersoalkan', 'dipertanyakan', 'dipunyai', 'dipunyainya', 'diri', 'dirinya', 'disampaikan', 'disampaikanlah', 'disampaikannya', 'disebut', 'disebutkan', 'disebutkannya', 'disini', 'disinilah', 'disinikah', 'ditambahkan', 'ditandaskan', 'ditanya', 'ditanyai', 'ditanyakan', 'ditanyakanlah', 'ditanyakannya', 'ditegaskan', 'ditujukan', 'ditunjuk', 'ditunjuki', 'ditunjukkan', 'ditunjukkannya', 'ditunjuknya', 'dituturkan', 'dituturkannya', 'diucapkan', 'diucapkannya', 'diungkapkan', 'diungkapkannya', 'dlm', 'dong', 'dua', 'duanya', 'dulu', 'dulunya', 'empat', 'empatnya', 'enam', 'enamnya', 'enggak', 'enggaknya', 'entah', 'entahlah', 'for', 'gak', 'guna', 'gunakan', 'gunanya', 'hal', 'halnya', 'hampir', 'hanya', 'hanyalah', 'hari', 'harian', 'harus', 'haruskah', 'haruslah', 'harusnya', 'hendak', 'hendaklah', 'hendaknya', 'hingga', 'ia', 'ialah', 'ibarat', 'ibaratkan', 'ibaratnya', 'ibu', 'ibunya', 'ikut', 'ikuti', 'ikutilah', 'ingat', 'ingatkan', 'ingatlah', 'ingatnya', 'ingin', 'inginkah', 'inginkan', 'inginnya', 'ini', 'inikah', 'inilah', 'inipun', 'itu', 'itukah', 'itulah', 'itupun', 'jadi', 'jadikan', 'jadilah', 'jadinya', 'jangan', 'jangankan', 'janganlah', 'jauh', 'jauhnya', 'jauhkah', 'jawab', 'jawaban', 'jawablah', 'jawabnya', 'jelas', 'jelaskan', 'jelaskanlah', 'jelaslah', 'jelasnya', 'jika', 'jikalau', 'juga', 'jumlah', 'jumlahnya', 'justru', 'kala', 'kalau', 'kalaulah', 'kalaupun', 'kalian', 'kalian', 'kami', 'kamilah', 'kamu', 'kamulah', 'kan', 'kapan', 'kapankah', 'kapanpun', 'karena', 'karenanya', 'kasus', 'kasusnya', 'kata', 'katakan', 'katakanlah', 'katanya', 'ke', 'keadaan', 'keadaannya', 'keadaannyalah', 'kebetulan', 'kebetulankah', 'kecil', 'kecilnya', 'kedelapan', 'kedua', 'keduanya', 'keduluan', 'keempat', 'keenam', 'ketujuh', 'kesembilan', 'kesepuluh', 'keinginan', 'keinginannya', 'kelamaan', 'kelihatan', 'kelihatannya', 'kelima', 'keluar', 'kembali', 'kemudian', 'kemungkinan', 'kemungkinannya', 'kenapa', 'kepada', 'kepadanya', 'kesampaian', 'keseluruhan', 'keseluruhannya', 'kesana', 'kesini', 'kesitu', 'keterlaluan', 'ketika', 'kg', 'khusus', 'khususnya', 'kini', 'kinilah', 'kira', 'kiranya', 'kita', 'kitalah', 'kok', 'kurang', 'kurangnya', 'lagi', 'lagian', 'lah', 'lain', 'lainnya', 'lalu', 'lama', 'lamanya', 'lanjut', 'lanjutnya', 'lebih', 'lebihnya', 'lembaranfana', 'lewat', 'lima', 'limanya', 'lu', 'luar', 'luarnya', 'm', 'macam', 'macamnya', 'maka', 'makanya', 'makin', 'malah', 'malahan', 'mampu', 'mampukah', 'mana', 'manakala', 'manalagi', 'mas', 'masa', 'masalah', 'masalahnya', 'masih', 'masihkah', 'masing', 'mau', 'maupun', 'melainkan', 'melakukan', 'melalui', 'melihat', 'melihatnya', 'memang', 'memastikan', 'memberi', 'memberikan', 'membuat', 'memerlukan', 'memihak', 'meminta', 'memintakan', 'memisalkan', 'memperbuat', 'mempergunakan', 'memperkirakan', 'memperlihatkan', 'mempersiapkan', 'mempersoalkan', 'mempertanyakan', 'mempunyai', 'memulai', 'memungkinkan', 'menaiki', 'menambahkan', 'menandaskan', 'menanti', 'menantikan', 'menanya', 'menanyai', 'menanyakan', 'mendapat', 'mendapatkan', 'mendatang', 'mendatangi', 'mendatangkan', 'menegaskan', 'mengakhiri', 'mengapa', 'mengatakan', 'mengatakannya', 'mengatasi', 'mengawali', 'mengenai', 'mengerjakan', 'mengetahui', 'menggunakan', 'menghendaki', 'mengibaratkan', 'mengibaratkannya', 'mengingat', 'mengingatkan', 'menginginkan', 'mengira', 'mengucapkan', 'mengucapkannya', 'mengungkapkan', 'menjadi', 'menjawab', 'menjelaskan', 'menuju', 'menunjuk', 'menunjuki', 'menunjukkan', 'menunjuknya', 'menurut', 'menuturkan', 'menyampaikan', 'menyangkut', 'menyatakan', 'menyebutkan', 'menyeluruh', 'menyiapkan', 'merasa', 'mereka', 'merekalah', 'merupakan', 'meski', 'meskipun', 'meyakini', 'meyakinkan', 'minta', 'mirip', 'misal', 'misalkan', 'misalnya', 'mu', 'mula', 'mulai', 'mulailah', 'mulanya', 'mungkin', 'mungkinkah', 'nah', 'naik', 'namun', 'nanti', 'nantinya', 'nya', 'nyaris', 'nyatanya', 'oleh', 'olehnya', 'one', 'pada', 'padahal', 'padanya', 'pak', 'paling', 'panjang', 'pantas', 'para', 'pasti', 'pastilah', 'penting', 'pentingnya', 'per', 'percuma', 'perlu', 'perlukah', 'perlunya', 'pernah', 'persoalan', 'pertama', 'pertanyaan', 'pertanyakan', 'pihak', 'pihaknya', 'pukul', 'pula', 'pun', 'punya', 'rasa', 'rasanya', 'rata', 'rupanya', 'saat', 'saatnya', 'saja', 'sajalah', 'saling', 'sama', 'sambil', 'sampai', 'sampaikan', 'sana', 'sangat', 'sangatlah', 'satu', 'saya', 'sayalah', 'se', 'sebab', 'sebabnya', 'sebagai', 'sebagaimana', 'sebagainya', 'sebagian', 'sebaik', 'sebaiknya', 'sebaliknya', 'sebanyak', 'sebegini', 'sebegitu', 'sebelum', 'sebelumnya', 'sebenarnya', 'seberapa', 'sebesar', 'sebetulnya', 'sebisanya', 'sebuah', 'sebut', 'sebutlah', 'sebutnya', 'secara', 'secukupnya', 'sedang', 'sedangkan', 'sedemikian', 'sedikit', 'sedikitnya', 'seenaknya', 'segala', 'segalanya', 'segera', 'seharusnya', 'sehingga', 'seingat', 'sejak', 'sejauh', 'sejenak', 'sejumlah', 'sekadar', 'sekadarnya', 'sekali', 'sekalian', 'sekaligus', 'sekalipun', 'sekarang', 'sekecil', 'seketika', 'sekiranya', 'sekitar', 'sekitarnya', 'sekurangnya', 'sela', 'selain', 'selaku', 'selalu', 'selama', 'selamanya', 'selanjutnya', 'seluruh', 'seluruhnya', 'semacam', 'semakin', 'semampu', 'semampunya', 'semasa', 'semasih', 'semata', 'semata-mata', 'semaunya', 'sementara', 'semisal', 'semisalnya', 'sempat', 'semua', 'semuanya', 'semula', 'sendiri', 'sendirian', 'sendirinya', 'seolah', 'seolah-olah', 'seorang', 'sepanjang', 'sepantasnya', 'sepantasnyalah', 'seperlunya', 'seperti', 'sepertinya', 'sepihak', 'sepuluh', 'sering', 'seringnya', 'serta', 'serupa', 'sesaat', 'sesama', 'sesampai', 'sesegera', 'sesekali', 'seseorang', 'sesuatu', 'sesuatunya', 'sesudah', 'sesudahnya', 'setelah', 'seterusnya', 'setiap', 'setempat', 'setengah', 'setiba', 'setibanya', 'setidaknya', 'setinggi', 'seusai', 'sewaktu', 'siap', 'siapa', 'siapakah', 'siapapun', 'sini', 'sing', 'sinilah', 'si', 'sih', 'soal', 'soalnya', 'suatu', 'sudah', 'sudahkah', 'sudahlah', 'supaya', 'tadi', 'tadinya', 'tahu', 'tahun', 'tahunan', 'tak', 'tdk', 'tambah', 'tambahnya', 'tampak', 'tampaknya', 'tandas', 'tandasnya', 'tanpa', 'tanya', 'tanyakan', 'tanyanya', 'tapi', 'tegas', 'tegasnya', 'telah', 'tempat', 'tengah', 'tentang', 'tentu', 'tentulah', 'tentunya', 'tepat', 'terakhir', 'terasa', 'terbanyak', 'terdahulu', 'terdapat', 'terdiri', 'terhadap', 'terhadapnya', 'teringat', 'terjadi', 'terjadilah', 'terjadinya', 'terkira', 'terlalu', 'terlebih', 'terlihat', 'termasuk', 'ternyata', 'tersampaikan', 'tersebut', 'tersebutlah', 'tertentu', 'tertinggi', 'tertuju', 'terus', 'terutama', 'tetap', 'tetapi', 'the', 'tiap', 'tiba', 'tidak', 'tidakkah', 'tidaklah', 'tiga', 'tinggi', 'theladies', 'toh', 'tujuh', 'tujuhnya', 'tunjuk', 'turut', 'tutur', 'tuturnya', 'ucap', 'ucapnya', 'ujar', 'ujarnya', 'umum', 'umumnya', 'ungkap', 'ungkapnya', 'untuk', 'usah', 'usai', 'up', 'waduh', 'wah', 'wahai', 'waktu', 'waktunya', 'walau', 'walaupun', 'wong', 'yaitu', 'yakin', 'yakni', 'yang', 'yuk', 'yg', 'yaa', 'ye']\n"
          ]
        }
      ]
    },
    {
      "cell_type": "code",
      "metadata": {
        "colab": {
          "base_uri": "https://localhost:8080/"
        },
        "id": "XP-S1jCcu5_R",
        "outputId": "2cef7e79-e660-4f93-be65-d257fb233329"
      },
      "source": [
        "article = Article('https://hellosehat.com/mental/mental-lainnya/7-masalah-mental-anak-kuliah/')\n",
        "article.download()\n",
        "article.parse()\n",
        "article.nlp()\n",
        "corpus = article.text\n",
        "print(corpus)"
      ],
      "execution_count": 16,
      "outputs": [
        {
          "output_type": "stream",
          "name": "stdout",
          "text": [
            "Berbagai masalah mental anak kuliah yang paling umum\n",
            "\n",
            "1. Depresi\n",
            "\n",
            "Menurut American Psychological Association, kasus depresi di tengah anak-anak kuliah meningkat sebanyak 10 persen selama 10 tahun terakhir. Depresi yang dibiarkan dan tidak diobati bisa berujung pada risiko bunuh diri. Di Amerika bahkan bunuh diri adalah penyebab kematian kedua bagi mahasiswa. Ada lebih dari seribu kasus bunuh diri yang dilakukan mahasiswa setiap tahunnya.\n",
            "\n",
            "Tak hanya di Amerika, bahkan kasus bunuh diri yang dilakukan oleh mahasiswa Indonesia juga cukup banyak. Salah satunya yang dilakukan oleh seorang mahasiswa asal Bandung yang mengakhiri hidupnya karena tertekan oleh tugas kuliah.\n",
            "\n",
            "Oleh karena itu, cara mencegah depresi yang bisa dilakukan yaitu selalu membicarakan berbagai masalah pribadi maupun kuliah dengan sahabat yang Anda percaya. Hal ini dilakukan agar Anda tidak merasa sendirian dan bisa bertukar pikiran saat masalah datang.\n",
            "\n",
            "2. Gangguan kecemasan\n",
            "\n",
            "Gangguan kecemasan adalah kecemasan berlebih yang dialami seseorang dengan intensitas yang cukup sering sehingga tak jarang menganggu aktivitas sehari-hari. Gangguan kecemasan terdiri dari beberapa jenis seperti gangguan kecemasan sosial, gangguan panik, fobia terhadap hal tertentu, dan gangguan kecemasan umum. Salah satu gejala gangguan kecemasan yang cukup serius ialah stres yang cukup ekstrem dan rasa khawatir yang berlebih sehingga menganggu kemampuan Anda untuk dapat berfungsi secara normal.\n",
            "\n",
            "Penelitian membuktikan sekitar 75 persen orang yang memiliki gangguan kecemasan umumnya menunjukkan berbagai gejalanya sebelum memasuki usia 22 tahun. Bahkan penelitian terbaru yang dilakukan pada mahasiswa di Amerika menyatakan bahwa 80 persen mahasiswa menyatakan sering stres dan 13 persen lainnya sudah didiagnosis dengan penyakit mental seperti depresi dan gangguan kecemasan.\n",
            "\n",
            "Jika Anda mengalami berbagai gejala gangguan kecemasan seperti gelisah, detak jantung meningkat, gemetar, serta kesulitan mengendalikan ketakutan dan kecemasan maka segeralah pergi ke pusat kesehatan kampus. Anda juga bisa segera mengonsultasikannya pada orangtua untuk dapat pergi ke terapis jika diperlukan.\n",
            "\n",
            "3. Gangguan makan\n"
          ]
        }
      ]
    },
    {
      "cell_type": "code",
      "metadata": {
        "colab": {
          "base_uri": "https://localhost:8080/"
        },
        "id": "BmkYjIRwvDI9",
        "outputId": "24a8b61a-068a-4352-b5a9-6672f4cf5b0b"
      },
      "source": [
        "article2 = Article('https://www.detik.com/edu/detikpedia/d-5659806/simak-6-tips-menjaga-kesehatan-mental-saat-kuliah-online')\n",
        "article2.download()\n",
        "article2.parse()\n",
        "article2.nlp()\n",
        "corpus2 = article2.text\n",
        "print(corpus2)"
      ],
      "execution_count": 17,
      "outputs": [
        {
          "output_type": "stream",
          "name": "stdout",
          "text": [
            "Bagaimana mengatasi rasa jenuh dan stress serta menjaga kesehatan mental saat kuliah online? Berikut adalah tipsnya yang dirangkum dari laman Dikti Vokasi:\n",
            "\n",
            "- Kenaikan kasus Covid-19 di Indonesia menyebabkan kegiatan belajar mengajar masih dilakukan secara daring salah satunya kuliah online. Saat kuliah online banyak mahasiswa yang mengalami rasa jenuh dan stress.\n",
            "\n",
            "1. Memiliki Pola Hidup Teratur\n",
            "\n",
            "Hal pertama yang harus detikers lakukan untuk menjaga kesehatan mental dimulai dari diri sendiri. Motivasilah diri untuk memiliki pola hidup yang teratur selama masa pandemi. Hal ini dapat dilakukan dengan mengatur jadwal olahraga, kuliah, belajar, mengerjakan tugas, membersihkan rumah, jadwal tidur, dan lain sebagainya.\n",
            "\n",
            "Dengan memiliki hidup yang lebih teratur, kalian akan merasa lebih produktif karena memiliki kegiatan yang jelas setiap harinya.\n",
            "\n",
            "2. Diet Sosial Media\n",
            "\n",
            "Melakukan diet sosial media merupakan hal penting. Terpaan informasi yang berlebihan dari media sosial akan memiliki efek yang buruk untuk kondisi pikiran dan mental. Kurangi mengkonsumsi informasi yang membuat takut dan cemas.\n",
            "\n",
            "3. Batasi Waktu Menatap Layar\n",
            "\n",
            "Sudah pasti jika kuliah online banyak waktu kalian dihabiskan untuk menatap layar. Pastikan setelah selesai kuliah online beristirahat menatap layar. Menatap layar terlalu lama akan membuat mata menjadi lelah.\n",
            "\n",
            "4. Tetap Bersosialisasi\n",
            "\n",
            "Untuk menjaga pikiran agar tetap waras setelah kuliah online tetaplah bersosialisasi dengan teman-teman. Walaupun interaksi sosial secara tatap muka dibatasi, kalian tetap bisa berkomunikasi melalui internet. Bicarakanlah hal yang menyenangkan saat berkomunikasi dengan teman.\n",
            "\n",
            "5. Melakukan Hal-Hal yang Membuat Bahagia\n",
            "\n",
            "Melakukan hal-hal yang membuat bahagia dapat dijadikan sebagai relaksasi. Kalian dapat melakukan hobi kesukaan seperti menonton film, mendengarkan musik, membaca buku, atau bermain game. Lakukanlah kegiatan-kegiatan positif tersebut.\n",
            "\n",
            "6. Berbuat Kebaikan\n",
            "\n",
            "Berbuat kebaikan di masa pandemi dilakukan untuk menjaga kesehatan mental dan dapat berdampak positif untuk orang-orang sekitar. Menolong orang lain kini banyak dilakukan di media sosial dan akan memotivasi detikers untuk menjadi orang yang positif.\n",
            "\n",
            "Itulah 6 tips yang dapat dilakukan untuk menjaga kesehatan mental saat kuliah online. Jangan lupa apresiasi diri sekecil mungkin ya detikers!\n",
            "\n",
            "\n",
            "\n",
            "\n",
            "\n",
            "Simak Video \"Kesehatan Mental di Masa Pandemi\"\n",
            "\n",
            "[Gambas:Video 20detik]\n",
            "\n",
            "(lus/lus)\n"
          ]
        }
      ]
    },
    {
      "cell_type": "code",
      "metadata": {
        "colab": {
          "base_uri": "https://localhost:8080/",
          "height": 142
        },
        "id": "sVbiaJafvo7w",
        "outputId": "4237a5d2-6b13-4b17-8447-bfd41d48a6d9"
      },
      "source": [
        "text = corpus + corpus2\n",
        "text"
      ],
      "execution_count": 26,
      "outputs": [
        {
          "output_type": "execute_result",
          "data": {
            "application/vnd.google.colaboratory.intrinsic+json": {
              "type": "string"
            },
            "text/plain": [
              "'Berbagai masalah mental anak kuliah yang paling umum\\n\\n1. Depresi\\n\\nMenurut American Psychological Association, kasus depresi di tengah anak-anak kuliah meningkat sebanyak 10 persen selama 10 tahun terakhir. Depresi yang dibiarkan dan tidak diobati bisa berujung pada risiko bunuh diri. Di Amerika bahkan bunuh diri adalah penyebab kematian kedua bagi mahasiswa. Ada lebih dari seribu kasus bunuh diri yang dilakukan mahasiswa setiap tahunnya.\\n\\nTak hanya di Amerika, bahkan kasus bunuh diri yang dilakukan oleh mahasiswa Indonesia juga cukup banyak. Salah satunya yang dilakukan oleh seorang mahasiswa asal Bandung yang mengakhiri hidupnya karena tertekan oleh tugas kuliah.\\n\\nOleh karena itu, cara mencegah depresi yang bisa dilakukan yaitu selalu membicarakan berbagai masalah pribadi maupun kuliah dengan sahabat yang Anda percaya. Hal ini dilakukan agar Anda tidak merasa sendirian dan bisa bertukar pikiran saat masalah datang.\\n\\n2. Gangguan kecemasan\\n\\nGangguan kecemasan adalah kecemasan berlebih yang dialami seseorang dengan intensitas yang cukup sering sehingga tak jarang menganggu aktivitas sehari-hari. Gangguan kecemasan terdiri dari beberapa jenis seperti gangguan kecemasan sosial, gangguan panik, fobia terhadap hal tertentu, dan gangguan kecemasan umum. Salah satu gejala gangguan kecemasan yang cukup serius ialah stres yang cukup ekstrem dan rasa khawatir yang berlebih sehingga menganggu kemampuan Anda untuk dapat berfungsi secara normal.\\n\\nPenelitian membuktikan sekitar 75 persen orang yang memiliki gangguan kecemasan umumnya menunjukkan berbagai gejalanya sebelum memasuki usia 22 tahun. Bahkan penelitian terbaru yang dilakukan pada mahasiswa di Amerika menyatakan bahwa 80 persen mahasiswa menyatakan sering stres dan 13 persen lainnya sudah didiagnosis dengan penyakit mental seperti depresi dan gangguan kecemasan.\\n\\nJika Anda mengalami berbagai gejala gangguan kecemasan seperti gelisah, detak jantung meningkat, gemetar, serta kesulitan mengendalikan ketakutan dan kecemasan maka segeralah pergi ke pusat kesehatan kampus. Anda juga bisa segera mengonsultasikannya pada orangtua untuk dapat pergi ke terapis jika diperlukan.\\n\\n3. Gangguan makanBagaimana mengatasi rasa jenuh dan stress serta menjaga kesehatan mental saat kuliah online? Berikut adalah tipsnya yang dirangkum dari laman Dikti Vokasi:\\n\\n- Kenaikan kasus Covid-19 di Indonesia menyebabkan kegiatan belajar mengajar masih dilakukan secara daring salah satunya kuliah online. Saat kuliah online banyak mahasiswa yang mengalami rasa jenuh dan stress.\\n\\n1. Memiliki Pola Hidup Teratur\\n\\nHal pertama yang harus detikers lakukan untuk menjaga kesehatan mental dimulai dari diri sendiri. Motivasilah diri untuk memiliki pola hidup yang teratur selama masa pandemi. Hal ini dapat dilakukan dengan mengatur jadwal olahraga, kuliah, belajar, mengerjakan tugas, membersihkan rumah, jadwal tidur, dan lain sebagainya.\\n\\nDengan memiliki hidup yang lebih teratur, kalian akan merasa lebih produktif karena memiliki kegiatan yang jelas setiap harinya.\\n\\n2. Diet Sosial Media\\n\\nMelakukan diet sosial media merupakan hal penting. Terpaan informasi yang berlebihan dari media sosial akan memiliki efek yang buruk untuk kondisi pikiran dan mental. Kurangi mengkonsumsi informasi yang membuat takut dan cemas.\\n\\n3. Batasi Waktu Menatap Layar\\n\\nSudah pasti jika kuliah online banyak waktu kalian dihabiskan untuk menatap layar. Pastikan setelah selesai kuliah online beristirahat menatap layar. Menatap layar terlalu lama akan membuat mata menjadi lelah.\\n\\n4. Tetap Bersosialisasi\\n\\nUntuk menjaga pikiran agar tetap waras setelah kuliah online tetaplah bersosialisasi dengan teman-teman. Walaupun interaksi sosial secara tatap muka dibatasi, kalian tetap bisa berkomunikasi melalui internet. Bicarakanlah hal yang menyenangkan saat berkomunikasi dengan teman.\\n\\n5. Melakukan Hal-Hal yang Membuat Bahagia\\n\\nMelakukan hal-hal yang membuat bahagia dapat dijadikan sebagai relaksasi. Kalian dapat melakukan hobi kesukaan seperti menonton film, mendengarkan musik, membaca buku, atau bermain game. Lakukanlah kegiatan-kegiatan positif tersebut.\\n\\n6. Berbuat Kebaikan\\n\\nBerbuat kebaikan di masa pandemi dilakukan untuk menjaga kesehatan mental dan dapat berdampak positif untuk orang-orang sekitar. Menolong orang lain kini banyak dilakukan di media sosial dan akan memotivasi detikers untuk menjadi orang yang positif.\\n\\nItulah 6 tips yang dapat dilakukan untuk menjaga kesehatan mental saat kuliah online. Jangan lupa apresiasi diri sekecil mungkin ya detikers!\\n\\n\\n\\n\\n\\nSimak Video \"Kesehatan Mental di Masa Pandemi\"\\n\\n[Gambas:Video 20detik]\\n\\n(lus/lus)'"
            ]
          },
          "metadata": {},
          "execution_count": 26
        }
      ]
    },
    {
      "cell_type": "code",
      "metadata": {
        "colab": {
          "base_uri": "https://localhost:8080/"
        },
        "id": "KR1GvhnZiC6K",
        "outputId": "a62b9d6c-4a79-4b32-95d3-ed7b77533dcc"
      },
      "source": [
        "# Tokenize\n",
        "token = word_tokenize(text)\n",
        "print(token)"
      ],
      "execution_count": 27,
      "outputs": [
        {
          "output_type": "stream",
          "name": "stdout",
          "text": [
            "['Berbagai', 'masalah', 'mental', 'anak', 'kuliah', 'yang', 'paling', 'umum', '1', '.', 'Depresi', 'Menurut', 'American', 'Psychological', 'Association', ',', 'kasus', 'depresi', 'di', 'tengah', 'anak-anak', 'kuliah', 'meningkat', 'sebanyak', '10', 'persen', 'selama', '10', 'tahun', 'terakhir', '.', 'Depresi', 'yang', 'dibiarkan', 'dan', 'tidak', 'diobati', 'bisa', 'berujung', 'pada', 'risiko', 'bunuh', 'diri', '.', 'Di', 'Amerika', 'bahkan', 'bunuh', 'diri', 'adalah', 'penyebab', 'kematian', 'kedua', 'bagi', 'mahasiswa', '.', 'Ada', 'lebih', 'dari', 'seribu', 'kasus', 'bunuh', 'diri', 'yang', 'dilakukan', 'mahasiswa', 'setiap', 'tahunnya', '.', 'Tak', 'hanya', 'di', 'Amerika', ',', 'bahkan', 'kasus', 'bunuh', 'diri', 'yang', 'dilakukan', 'oleh', 'mahasiswa', 'Indonesia', 'juga', 'cukup', 'banyak', '.', 'Salah', 'satunya', 'yang', 'dilakukan', 'oleh', 'seorang', 'mahasiswa', 'asal', 'Bandung', 'yang', 'mengakhiri', 'hidupnya', 'karena', 'tertekan', 'oleh', 'tugas', 'kuliah', '.', 'Oleh', 'karena', 'itu', ',', 'cara', 'mencegah', 'depresi', 'yang', 'bisa', 'dilakukan', 'yaitu', 'selalu', 'membicarakan', 'berbagai', 'masalah', 'pribadi', 'maupun', 'kuliah', 'dengan', 'sahabat', 'yang', 'Anda', 'percaya', '.', 'Hal', 'ini', 'dilakukan', 'agar', 'Anda', 'tidak', 'merasa', 'sendirian', 'dan', 'bisa', 'bertukar', 'pikiran', 'saat', 'masalah', 'datang', '.', '2', '.', 'Gangguan', 'kecemasan', 'Gangguan', 'kecemasan', 'adalah', 'kecemasan', 'berlebih', 'yang', 'dialami', 'seseorang', 'dengan', 'intensitas', 'yang', 'cukup', 'sering', 'sehingga', 'tak', 'jarang', 'menganggu', 'aktivitas', 'sehari-hari', '.', 'Gangguan', 'kecemasan', 'terdiri', 'dari', 'beberapa', 'jenis', 'seperti', 'gangguan', 'kecemasan', 'sosial', ',', 'gangguan', 'panik', ',', 'fobia', 'terhadap', 'hal', 'tertentu', ',', 'dan', 'gangguan', 'kecemasan', 'umum', '.', 'Salah', 'satu', 'gejala', 'gangguan', 'kecemasan', 'yang', 'cukup', 'serius', 'ialah', 'stres', 'yang', 'cukup', 'ekstrem', 'dan', 'rasa', 'khawatir', 'yang', 'berlebih', 'sehingga', 'menganggu', 'kemampuan', 'Anda', 'untuk', 'dapat', 'berfungsi', 'secara', 'normal', '.', 'Penelitian', 'membuktikan', 'sekitar', '75', 'persen', 'orang', 'yang', 'memiliki', 'gangguan', 'kecemasan', 'umumnya', 'menunjukkan', 'berbagai', 'gejalanya', 'sebelum', 'memasuki', 'usia', '22', 'tahun', '.', 'Bahkan', 'penelitian', 'terbaru', 'yang', 'dilakukan', 'pada', 'mahasiswa', 'di', 'Amerika', 'menyatakan', 'bahwa', '80', 'persen', 'mahasiswa', 'menyatakan', 'sering', 'stres', 'dan', '13', 'persen', 'lainnya', 'sudah', 'didiagnosis', 'dengan', 'penyakit', 'mental', 'seperti', 'depresi', 'dan', 'gangguan', 'kecemasan', '.', 'Jika', 'Anda', 'mengalami', 'berbagai', 'gejala', 'gangguan', 'kecemasan', 'seperti', 'gelisah', ',', 'detak', 'jantung', 'meningkat', ',', 'gemetar', ',', 'serta', 'kesulitan', 'mengendalikan', 'ketakutan', 'dan', 'kecemasan', 'maka', 'segeralah', 'pergi', 'ke', 'pusat', 'kesehatan', 'kampus', '.', 'Anda', 'juga', 'bisa', 'segera', 'mengonsultasikannya', 'pada', 'orangtua', 'untuk', 'dapat', 'pergi', 'ke', 'terapis', 'jika', 'diperlukan', '.', '3', '.', 'Gangguan', 'makanBagaimana', 'mengatasi', 'rasa', 'jenuh', 'dan', 'stress', 'serta', 'menjaga', 'kesehatan', 'mental', 'saat', 'kuliah', 'online', '?', 'Berikut', 'adalah', 'tipsnya', 'yang', 'dirangkum', 'dari', 'laman', 'Dikti', 'Vokasi', ':', '-', 'Kenaikan', 'kasus', 'Covid-19', 'di', 'Indonesia', 'menyebabkan', 'kegiatan', 'belajar', 'mengajar', 'masih', 'dilakukan', 'secara', 'daring', 'salah', 'satunya', 'kuliah', 'online', '.', 'Saat', 'kuliah', 'online', 'banyak', 'mahasiswa', 'yang', 'mengalami', 'rasa', 'jenuh', 'dan', 'stress', '.', '1', '.', 'Memiliki', 'Pola', 'Hidup', 'Teratur', 'Hal', 'pertama', 'yang', 'harus', 'detikers', 'lakukan', 'untuk', 'menjaga', 'kesehatan', 'mental', 'dimulai', 'dari', 'diri', 'sendiri', '.', 'Motivasilah', 'diri', 'untuk', 'memiliki', 'pola', 'hidup', 'yang', 'teratur', 'selama', 'masa', 'pandemi', '.', 'Hal', 'ini', 'dapat', 'dilakukan', 'dengan', 'mengatur', 'jadwal', 'olahraga', ',', 'kuliah', ',', 'belajar', ',', 'mengerjakan', 'tugas', ',', 'membersihkan', 'rumah', ',', 'jadwal', 'tidur', ',', 'dan', 'lain', 'sebagainya', '.', 'Dengan', 'memiliki', 'hidup', 'yang', 'lebih', 'teratur', ',', 'kalian', 'akan', 'merasa', 'lebih', 'produktif', 'karena', 'memiliki', 'kegiatan', 'yang', 'jelas', 'setiap', 'harinya', '.', '2', '.', 'Diet', 'Sosial', 'Media', 'Melakukan', 'diet', 'sosial', 'media', 'merupakan', 'hal', 'penting', '.', 'Terpaan', 'informasi', 'yang', 'berlebihan', 'dari', 'media', 'sosial', 'akan', 'memiliki', 'efek', 'yang', 'buruk', 'untuk', 'kondisi', 'pikiran', 'dan', 'mental', '.', 'Kurangi', 'mengkonsumsi', 'informasi', 'yang', 'membuat', 'takut', 'dan', 'cemas', '.', '3', '.', 'Batasi', 'Waktu', 'Menatap', 'Layar', 'Sudah', 'pasti', 'jika', 'kuliah', 'online', 'banyak', 'waktu', 'kalian', 'dihabiskan', 'untuk', 'menatap', 'layar', '.', 'Pastikan', 'setelah', 'selesai', 'kuliah', 'online', 'beristirahat', 'menatap', 'layar', '.', 'Menatap', 'layar', 'terlalu', 'lama', 'akan', 'membuat', 'mata', 'menjadi', 'lelah', '.', '4', '.', 'Tetap', 'Bersosialisasi', 'Untuk', 'menjaga', 'pikiran', 'agar', 'tetap', 'waras', 'setelah', 'kuliah', 'online', 'tetaplah', 'bersosialisasi', 'dengan', 'teman-teman', '.', 'Walaupun', 'interaksi', 'sosial', 'secara', 'tatap', 'muka', 'dibatasi', ',', 'kalian', 'tetap', 'bisa', 'berkomunikasi', 'melalui', 'internet', '.', 'Bicarakanlah', 'hal', 'yang', 'menyenangkan', 'saat', 'berkomunikasi', 'dengan', 'teman', '.', '5', '.', 'Melakukan', 'Hal-Hal', 'yang', 'Membuat', 'Bahagia', 'Melakukan', 'hal-hal', 'yang', 'membuat', 'bahagia', 'dapat', 'dijadikan', 'sebagai', 'relaksasi', '.', 'Kalian', 'dapat', 'melakukan', 'hobi', 'kesukaan', 'seperti', 'menonton', 'film', ',', 'mendengarkan', 'musik', ',', 'membaca', 'buku', ',', 'atau', 'bermain', 'game', '.', 'Lakukanlah', 'kegiatan-kegiatan', 'positif', 'tersebut', '.', '6', '.', 'Berbuat', 'Kebaikan', 'Berbuat', 'kebaikan', 'di', 'masa', 'pandemi', 'dilakukan', 'untuk', 'menjaga', 'kesehatan', 'mental', 'dan', 'dapat', 'berdampak', 'positif', 'untuk', 'orang-orang', 'sekitar', '.', 'Menolong', 'orang', 'lain', 'kini', 'banyak', 'dilakukan', 'di', 'media', 'sosial', 'dan', 'akan', 'memotivasi', 'detikers', 'untuk', 'menjadi', 'orang', 'yang', 'positif', '.', 'Itulah', '6', 'tips', 'yang', 'dapat', 'dilakukan', 'untuk', 'menjaga', 'kesehatan', 'mental', 'saat', 'kuliah', 'online', '.', 'Jangan', 'lupa', 'apresiasi', 'diri', 'sekecil', 'mungkin', 'ya', 'detikers', '!', 'Simak', 'Video', '``', 'Kesehatan', 'Mental', 'di', 'Masa', 'Pandemi', \"''\", '[', 'Gambas', ':', 'Video', '20detik', ']', '(', 'lus/lus', ')']\n"
          ]
        }
      ]
    },
    {
      "cell_type": "markdown",
      "metadata": {
        "id": "XosBtP4_jbuY"
      },
      "source": [
        "teks cleaning"
      ]
    },
    {
      "cell_type": "code",
      "metadata": {
        "colab": {
          "base_uri": "https://localhost:8080/",
          "height": 36
        },
        "id": "OXk_Eqp0jdJs",
        "outputId": "ba2965e3-950d-449c-d47a-8ef638578fef"
      },
      "source": [
        "# Punctuation = karakter khusus, karakter ini akan dihilangkan dari teks\n",
        "punctuation = punctuation + '\\n'\n",
        "punctuation"
      ],
      "execution_count": 28,
      "outputs": [
        {
          "output_type": "execute_result",
          "data": {
            "application/vnd.google.colaboratory.intrinsic+json": {
              "type": "string"
            },
            "text/plain": [
              "'!\"#$%&\\'()*+,-./:;<=>?@[\\\\]^_`{|}~\\n\\n'"
            ]
          },
          "metadata": {},
          "execution_count": 28
        }
      ]
    },
    {
      "cell_type": "markdown",
      "metadata": {
        "id": "-I5so0fkkk1B"
      },
      "source": [
        "membuat frekuensi kata"
      ]
    },
    {
      "cell_type": "code",
      "metadata": {
        "colab": {
          "base_uri": "https://localhost:8080/"
        },
        "id": "FRAGuJiEDAyi",
        "outputId": "2530136c-e7a8-4972-d2b6-e24074680a71"
      },
      "source": [
        "# Bag Of Words \n",
        "\n",
        "# Membuat dictionary bag of word\n",
        "frekuensi_kata_ina = {}\n",
        "\n",
        "# Mengisi word_frequencies tanpa stopword dan karakter khusus\n",
        "for kata in token: \n",
        "  if kata.lower() not in stopwords:\n",
        "    if kata.lower() not in punctuation:\n",
        "      if kata not in frekuensi_kata_ina:\n",
        "        frekuensi_kata_ina[kata]=1\n",
        "      else:\n",
        "        frekuensi_kata_ina[kata]+=1 \n",
        "\n",
        "frekuensi_kata_ina"
      ],
      "execution_count": 54,
      "outputs": [
        {
          "output_type": "execute_result",
          "data": {
            "text/plain": [
              "{\"''\": 1,\n",
              " '1': 2,\n",
              " '10': 2,\n",
              " '13': 1,\n",
              " '2': 2,\n",
              " '20detik': 1,\n",
              " '22': 1,\n",
              " '3': 2,\n",
              " '4': 1,\n",
              " '5': 1,\n",
              " '6': 2,\n",
              " '75': 1,\n",
              " '80': 1,\n",
              " 'American': 1,\n",
              " 'Amerika': 3,\n",
              " 'Association': 1,\n",
              " 'Bahagia': 1,\n",
              " 'Bandung': 1,\n",
              " 'Batasi': 1,\n",
              " 'Berbuat': 2,\n",
              " 'Bersosialisasi': 1,\n",
              " 'Bicarakanlah': 1,\n",
              " 'Covid-19': 1,\n",
              " 'Depresi': 2,\n",
              " 'Diet': 1,\n",
              " 'Dikti': 1,\n",
              " 'Gambas': 1,\n",
              " 'Gangguan': 4,\n",
              " 'Hal-Hal': 1,\n",
              " 'Hidup': 1,\n",
              " 'Indonesia': 2,\n",
              " 'Kebaikan': 1,\n",
              " 'Kenaikan': 1,\n",
              " 'Kesehatan': 1,\n",
              " 'Kurangi': 1,\n",
              " 'Lakukanlah': 1,\n",
              " 'Layar': 1,\n",
              " 'Media': 1,\n",
              " 'Memiliki': 1,\n",
              " 'Menatap': 2,\n",
              " 'Menolong': 1,\n",
              " 'Mental': 1,\n",
              " 'Motivasilah': 1,\n",
              " 'Pandemi': 1,\n",
              " 'Pastikan': 1,\n",
              " 'Penelitian': 1,\n",
              " 'Pola': 1,\n",
              " 'Psychological': 1,\n",
              " 'Salah': 2,\n",
              " 'Simak': 1,\n",
              " 'Sosial': 1,\n",
              " 'Teratur': 1,\n",
              " 'Terpaan': 1,\n",
              " 'Video': 2,\n",
              " 'Vokasi': 1,\n",
              " '``': 1,\n",
              " 'aktivitas': 1,\n",
              " 'anak': 1,\n",
              " 'anak-anak': 1,\n",
              " 'apresiasi': 1,\n",
              " 'bahagia': 1,\n",
              " 'belajar': 2,\n",
              " 'berdampak': 1,\n",
              " 'berfungsi': 1,\n",
              " 'beristirahat': 1,\n",
              " 'berkomunikasi': 2,\n",
              " 'bermain': 1,\n",
              " 'bersosialisasi': 1,\n",
              " 'bertukar': 1,\n",
              " 'berujung': 1,\n",
              " 'buku': 1,\n",
              " 'bunuh': 4,\n",
              " 'buruk': 1,\n",
              " 'cemas': 1,\n",
              " 'daring': 1,\n",
              " 'depresi': 3,\n",
              " 'detak': 1,\n",
              " 'detikers': 3,\n",
              " 'dialami': 1,\n",
              " 'dibatasi': 1,\n",
              " 'dibiarkan': 1,\n",
              " 'didiagnosis': 1,\n",
              " 'diet': 1,\n",
              " 'dihabiskan': 1,\n",
              " 'dijadikan': 1,\n",
              " 'diobati': 1,\n",
              " 'dirangkum': 1,\n",
              " 'efek': 1,\n",
              " 'ekstrem': 1,\n",
              " 'film': 1,\n",
              " 'fobia': 1,\n",
              " 'game': 1,\n",
              " 'gangguan': 7,\n",
              " 'gejala': 2,\n",
              " 'gejalanya': 1,\n",
              " 'gelisah': 1,\n",
              " 'gemetar': 1,\n",
              " 'hal-hal': 1,\n",
              " 'harinya': 1,\n",
              " 'hidup': 2,\n",
              " 'hidupnya': 1,\n",
              " 'hobi': 1,\n",
              " 'informasi': 2,\n",
              " 'intensitas': 1,\n",
              " 'interaksi': 1,\n",
              " 'internet': 1,\n",
              " 'jadwal': 2,\n",
              " 'jantung': 1,\n",
              " 'jarang': 1,\n",
              " 'jenis': 1,\n",
              " 'jenuh': 2,\n",
              " 'kampus': 1,\n",
              " 'kebaikan': 1,\n",
              " 'kecemasan': 11,\n",
              " 'kegiatan': 2,\n",
              " 'kegiatan-kegiatan': 1,\n",
              " 'kemampuan': 1,\n",
              " 'kematian': 1,\n",
              " 'kesehatan': 5,\n",
              " 'kesukaan': 1,\n",
              " 'kesulitan': 1,\n",
              " 'ketakutan': 1,\n",
              " 'khawatir': 1,\n",
              " 'kondisi': 1,\n",
              " 'kuliah': 12,\n",
              " 'lakukan': 1,\n",
              " 'laman': 1,\n",
              " 'layar': 3,\n",
              " 'lelah': 1,\n",
              " 'lupa': 1,\n",
              " 'lus/lus': 1,\n",
              " 'mahasiswa': 7,\n",
              " 'makanBagaimana': 1,\n",
              " 'mata': 1,\n",
              " 'media': 3,\n",
              " 'memasuki': 1,\n",
              " 'membaca': 1,\n",
              " 'membersihkan': 1,\n",
              " 'membicarakan': 1,\n",
              " 'membuktikan': 1,\n",
              " 'memiliki': 5,\n",
              " 'memotivasi': 1,\n",
              " 'menatap': 2,\n",
              " 'mencegah': 1,\n",
              " 'mendengarkan': 1,\n",
              " 'mengajar': 1,\n",
              " 'mengalami': 2,\n",
              " 'menganggu': 2,\n",
              " 'mengatur': 1,\n",
              " 'mengendalikan': 1,\n",
              " 'mengkonsumsi': 1,\n",
              " 'mengonsultasikannya': 1,\n",
              " 'meningkat': 2,\n",
              " 'menjaga': 5,\n",
              " 'menonton': 1,\n",
              " 'mental': 7,\n",
              " 'menyebabkan': 1,\n",
              " 'menyenangkan': 1,\n",
              " 'muka': 1,\n",
              " 'musik': 1,\n",
              " 'normal': 1,\n",
              " 'olahraga': 1,\n",
              " 'online': 7,\n",
              " 'orang': 3,\n",
              " 'orang-orang': 1,\n",
              " 'orangtua': 1,\n",
              " 'pandemi': 2,\n",
              " 'panik': 1,\n",
              " 'penelitian': 1,\n",
              " 'penyakit': 1,\n",
              " 'penyebab': 1,\n",
              " 'percaya': 1,\n",
              " 'pergi': 2,\n",
              " 'persen': 4,\n",
              " 'pikiran': 3,\n",
              " 'pola': 1,\n",
              " 'positif': 3,\n",
              " 'pribadi': 1,\n",
              " 'produktif': 1,\n",
              " 'pusat': 1,\n",
              " 'relaksasi': 1,\n",
              " 'risiko': 1,\n",
              " 'rumah': 1,\n",
              " 'sahabat': 1,\n",
              " 'salah': 1,\n",
              " 'satunya': 2,\n",
              " 'segeralah': 1,\n",
              " 'sehari-hari': 1,\n",
              " 'selesai': 1,\n",
              " 'seribu': 1,\n",
              " 'serius': 1,\n",
              " 'sosial': 5,\n",
              " 'stres': 2,\n",
              " 'stress': 2,\n",
              " 'tahunnya': 1,\n",
              " 'takut': 1,\n",
              " 'tatap': 1,\n",
              " 'teman': 1,\n",
              " 'teman-teman': 1,\n",
              " 'terapis': 1,\n",
              " 'teratur': 2,\n",
              " 'terbaru': 1,\n",
              " 'tertekan': 1,\n",
              " 'tetaplah': 1,\n",
              " 'tidur': 1,\n",
              " 'tips': 1,\n",
              " 'tipsnya': 1,\n",
              " 'tugas': 2,\n",
              " 'usia': 1,\n",
              " 'waras': 1,\n",
              " 'ya': 1}"
            ]
          },
          "metadata": {},
          "execution_count": 54
        }
      ]
    },
    {
      "cell_type": "code",
      "metadata": {
        "colab": {
          "base_uri": "https://localhost:8080/"
        },
        "id": "4qvXKBKcm7Dm",
        "outputId": "dc083bcd-c336-4345-928a-24d6cc258fb7"
      },
      "source": [
        "# Menyimpan nilai frekuensi maksimal dari token yang sudah dibuat\n",
        "max_frequency = max(frekuensi_kata_ina.values())\n",
        "max_frequency"
      ],
      "execution_count": 41,
      "outputs": [
        {
          "output_type": "execute_result",
          "data": {
            "text/plain": [
              "17"
            ]
          },
          "metadata": {},
          "execution_count": 41
        }
      ]
    },
    {
      "cell_type": "code",
      "metadata": {
        "colab": {
          "base_uri": "https://localhost:8080/"
        },
        "id": "NNCC_8Bdm9rH",
        "outputId": "ec776408-682e-4328-a7f5-8f44314fee94"
      },
      "source": [
        "# Menghitung skor dengan membagi tiap frequency dengan nilai max frequency\n",
        "for word in frekuensi_kata_ina.keys():\n",
        "    frekuensi_kata_ina[word] = frekuensi_kata_ina[word]/max_frequency\n",
        "\n",
        "print(frekuensi_kata_ina)"
      ],
      "execution_count": 55,
      "outputs": [
        {
          "output_type": "stream",
          "name": "stdout",
          "text": [
            "{'mental': 0.4117647058823529, 'anak': 0.058823529411764705, 'kuliah': 0.7058823529411765, '1': 0.11764705882352941, 'Depresi': 0.11764705882352941, 'American': 0.058823529411764705, 'Psychological': 0.058823529411764705, 'Association': 0.058823529411764705, 'depresi': 0.17647058823529413, 'anak-anak': 0.058823529411764705, 'meningkat': 0.11764705882352941, '10': 0.11764705882352941, 'persen': 0.23529411764705882, 'dibiarkan': 0.058823529411764705, 'diobati': 0.058823529411764705, 'berujung': 0.058823529411764705, 'risiko': 0.058823529411764705, 'bunuh': 0.23529411764705882, 'Amerika': 0.17647058823529413, 'penyebab': 0.058823529411764705, 'kematian': 0.058823529411764705, 'mahasiswa': 0.4117647058823529, 'seribu': 0.058823529411764705, 'tahunnya': 0.058823529411764705, 'Indonesia': 0.11764705882352941, 'Salah': 0.11764705882352941, 'satunya': 0.11764705882352941, 'Bandung': 0.058823529411764705, 'hidupnya': 0.058823529411764705, 'tertekan': 0.058823529411764705, 'tugas': 0.11764705882352941, 'mencegah': 0.058823529411764705, 'membicarakan': 0.058823529411764705, 'pribadi': 0.058823529411764705, 'sahabat': 0.058823529411764705, 'percaya': 0.058823529411764705, 'bertukar': 0.058823529411764705, 'pikiran': 0.17647058823529413, '2': 0.11764705882352941, 'Gangguan': 0.23529411764705882, 'kecemasan': 0.6470588235294118, 'dialami': 0.058823529411764705, 'intensitas': 0.058823529411764705, 'jarang': 0.058823529411764705, 'menganggu': 0.11764705882352941, 'aktivitas': 0.058823529411764705, 'sehari-hari': 0.058823529411764705, 'jenis': 0.058823529411764705, 'gangguan': 0.4117647058823529, 'sosial': 0.29411764705882354, 'panik': 0.058823529411764705, 'fobia': 0.058823529411764705, 'gejala': 0.11764705882352941, 'serius': 0.058823529411764705, 'stres': 0.11764705882352941, 'ekstrem': 0.058823529411764705, 'khawatir': 0.058823529411764705, 'kemampuan': 0.058823529411764705, 'berfungsi': 0.058823529411764705, 'normal': 0.058823529411764705, 'Penelitian': 0.058823529411764705, 'membuktikan': 0.058823529411764705, '75': 0.058823529411764705, 'orang': 0.17647058823529413, 'memiliki': 0.29411764705882354, 'gejalanya': 0.058823529411764705, 'memasuki': 0.058823529411764705, 'usia': 0.058823529411764705, '22': 0.058823529411764705, 'penelitian': 0.058823529411764705, 'terbaru': 0.058823529411764705, '80': 0.058823529411764705, '13': 0.058823529411764705, 'didiagnosis': 0.058823529411764705, 'penyakit': 0.058823529411764705, 'mengalami': 0.11764705882352941, 'gelisah': 0.058823529411764705, 'detak': 0.058823529411764705, 'jantung': 0.058823529411764705, 'gemetar': 0.058823529411764705, 'kesulitan': 0.058823529411764705, 'mengendalikan': 0.058823529411764705, 'ketakutan': 0.058823529411764705, 'segeralah': 0.058823529411764705, 'pergi': 0.11764705882352941, 'pusat': 0.058823529411764705, 'kesehatan': 0.29411764705882354, 'kampus': 0.058823529411764705, 'mengonsultasikannya': 0.058823529411764705, 'orangtua': 0.058823529411764705, 'terapis': 0.058823529411764705, '3': 0.11764705882352941, 'makanBagaimana': 0.058823529411764705, 'jenuh': 0.11764705882352941, 'stress': 0.11764705882352941, 'menjaga': 0.29411764705882354, 'online': 0.4117647058823529, 'tipsnya': 0.058823529411764705, 'dirangkum': 0.058823529411764705, 'laman': 0.058823529411764705, 'Dikti': 0.058823529411764705, 'Vokasi': 0.058823529411764705, 'Kenaikan': 0.058823529411764705, 'Covid-19': 0.058823529411764705, 'menyebabkan': 0.058823529411764705, 'kegiatan': 0.11764705882352941, 'belajar': 0.11764705882352941, 'mengajar': 0.058823529411764705, 'daring': 0.058823529411764705, 'salah': 0.058823529411764705, 'Memiliki': 0.058823529411764705, 'Pola': 0.058823529411764705, 'Hidup': 0.058823529411764705, 'Teratur': 0.058823529411764705, 'detikers': 0.17647058823529413, 'lakukan': 0.058823529411764705, 'Motivasilah': 0.058823529411764705, 'pola': 0.058823529411764705, 'hidup': 0.11764705882352941, 'teratur': 0.11764705882352941, 'pandemi': 0.11764705882352941, 'mengatur': 0.058823529411764705, 'jadwal': 0.11764705882352941, 'olahraga': 0.058823529411764705, 'membersihkan': 0.058823529411764705, 'rumah': 0.058823529411764705, 'tidur': 0.058823529411764705, 'produktif': 0.058823529411764705, 'harinya': 0.058823529411764705, 'Diet': 0.058823529411764705, 'Sosial': 0.058823529411764705, 'Media': 0.058823529411764705, 'diet': 0.058823529411764705, 'media': 0.17647058823529413, 'Terpaan': 0.058823529411764705, 'informasi': 0.11764705882352941, 'efek': 0.058823529411764705, 'buruk': 0.058823529411764705, 'kondisi': 0.058823529411764705, 'Kurangi': 0.058823529411764705, 'mengkonsumsi': 0.058823529411764705, 'takut': 0.058823529411764705, 'cemas': 0.058823529411764705, 'Batasi': 0.058823529411764705, 'Menatap': 0.11764705882352941, 'Layar': 0.058823529411764705, 'dihabiskan': 0.058823529411764705, 'menatap': 0.11764705882352941, 'layar': 0.17647058823529413, 'Pastikan': 0.058823529411764705, 'selesai': 0.058823529411764705, 'beristirahat': 0.058823529411764705, 'mata': 0.058823529411764705, 'lelah': 0.058823529411764705, '4': 0.058823529411764705, 'Bersosialisasi': 0.058823529411764705, 'waras': 0.058823529411764705, 'tetaplah': 0.058823529411764705, 'bersosialisasi': 0.058823529411764705, 'teman-teman': 0.058823529411764705, 'interaksi': 0.058823529411764705, 'tatap': 0.058823529411764705, 'muka': 0.058823529411764705, 'dibatasi': 0.058823529411764705, 'berkomunikasi': 0.11764705882352941, 'internet': 0.058823529411764705, 'Bicarakanlah': 0.058823529411764705, 'menyenangkan': 0.058823529411764705, 'teman': 0.058823529411764705, '5': 0.058823529411764705, 'Hal-Hal': 0.058823529411764705, 'Bahagia': 0.058823529411764705, 'hal-hal': 0.058823529411764705, 'bahagia': 0.058823529411764705, 'dijadikan': 0.058823529411764705, 'relaksasi': 0.058823529411764705, 'hobi': 0.058823529411764705, 'kesukaan': 0.058823529411764705, 'menonton': 0.058823529411764705, 'film': 0.058823529411764705, 'mendengarkan': 0.058823529411764705, 'musik': 0.058823529411764705, 'membaca': 0.058823529411764705, 'buku': 0.058823529411764705, 'bermain': 0.058823529411764705, 'game': 0.058823529411764705, 'Lakukanlah': 0.058823529411764705, 'kegiatan-kegiatan': 0.058823529411764705, 'positif': 0.17647058823529413, '6': 0.11764705882352941, 'Berbuat': 0.11764705882352941, 'Kebaikan': 0.058823529411764705, 'kebaikan': 0.058823529411764705, 'berdampak': 0.058823529411764705, 'orang-orang': 0.058823529411764705, 'Menolong': 0.058823529411764705, 'memotivasi': 0.058823529411764705, 'tips': 0.058823529411764705, 'lupa': 0.058823529411764705, 'apresiasi': 0.058823529411764705, 'ya': 0.058823529411764705, 'Simak': 0.058823529411764705, 'Video': 0.11764705882352941, '``': 0.058823529411764705, 'Kesehatan': 0.058823529411764705, 'Mental': 0.058823529411764705, 'Pandemi': 0.058823529411764705, \"''\": 0.058823529411764705, 'Gambas': 0.058823529411764705, '20detik': 0.058823529411764705, 'lus/lus': 0.058823529411764705}\n"
          ]
        }
      ]
    },
    {
      "cell_type": "code",
      "metadata": {
        "colab": {
          "base_uri": "https://localhost:8080/"
        },
        "id": "8eO0tGSNnEN1",
        "outputId": "e14fbdd4-db1e-4d0a-8b06-ec6c2cbfdc8e"
      },
      "source": [
        "sentence_tokens = nltk.tokenize.sent_tokenize(text)\n",
        "print(sentence_tokens)\n"
      ],
      "execution_count": 56,
      "outputs": [
        {
          "output_type": "stream",
          "name": "stdout",
          "text": [
            "['Berbagai masalah mental anak kuliah yang paling umum\\n\\n1.', 'Depresi\\n\\nMenurut American Psychological Association, kasus depresi di tengah anak-anak kuliah meningkat sebanyak 10 persen selama 10 tahun terakhir.', 'Depresi yang dibiarkan dan tidak diobati bisa berujung pada risiko bunuh diri.', 'Di Amerika bahkan bunuh diri adalah penyebab kematian kedua bagi mahasiswa.', 'Ada lebih dari seribu kasus bunuh diri yang dilakukan mahasiswa setiap tahunnya.', 'Tak hanya di Amerika, bahkan kasus bunuh diri yang dilakukan oleh mahasiswa Indonesia juga cukup banyak.', 'Salah satunya yang dilakukan oleh seorang mahasiswa asal Bandung yang mengakhiri hidupnya karena tertekan oleh tugas kuliah.', 'Oleh karena itu, cara mencegah depresi yang bisa dilakukan yaitu selalu membicarakan berbagai masalah pribadi maupun kuliah dengan sahabat yang Anda percaya.', 'Hal ini dilakukan agar Anda tidak merasa sendirian dan bisa bertukar pikiran saat masalah datang.', '2.', 'Gangguan kecemasan\\n\\nGangguan kecemasan adalah kecemasan berlebih yang dialami seseorang dengan intensitas yang cukup sering sehingga tak jarang menganggu aktivitas sehari-hari.', 'Gangguan kecemasan terdiri dari beberapa jenis seperti gangguan kecemasan sosial, gangguan panik, fobia terhadap hal tertentu, dan gangguan kecemasan umum.', 'Salah satu gejala gangguan kecemasan yang cukup serius ialah stres yang cukup ekstrem dan rasa khawatir yang berlebih sehingga menganggu kemampuan Anda untuk dapat berfungsi secara normal.', 'Penelitian membuktikan sekitar 75 persen orang yang memiliki gangguan kecemasan umumnya menunjukkan berbagai gejalanya sebelum memasuki usia 22 tahun.', 'Bahkan penelitian terbaru yang dilakukan pada mahasiswa di Amerika menyatakan bahwa 80 persen mahasiswa menyatakan sering stres dan 13 persen lainnya sudah didiagnosis dengan penyakit mental seperti depresi dan gangguan kecemasan.', 'Jika Anda mengalami berbagai gejala gangguan kecemasan seperti gelisah, detak jantung meningkat, gemetar, serta kesulitan mengendalikan ketakutan dan kecemasan maka segeralah pergi ke pusat kesehatan kampus.', 'Anda juga bisa segera mengonsultasikannya pada orangtua untuk dapat pergi ke terapis jika diperlukan.', '3.', 'Gangguan makanBagaimana mengatasi rasa jenuh dan stress serta menjaga kesehatan mental saat kuliah online?', 'Berikut adalah tipsnya yang dirangkum dari laman Dikti Vokasi:\\n\\n- Kenaikan kasus Covid-19 di Indonesia menyebabkan kegiatan belajar mengajar masih dilakukan secara daring salah satunya kuliah online.', 'Saat kuliah online banyak mahasiswa yang mengalami rasa jenuh dan stress.', '1.', 'Memiliki Pola Hidup Teratur\\n\\nHal pertama yang harus detikers lakukan untuk menjaga kesehatan mental dimulai dari diri sendiri.', 'Motivasilah diri untuk memiliki pola hidup yang teratur selama masa pandemi.', 'Hal ini dapat dilakukan dengan mengatur jadwal olahraga, kuliah, belajar, mengerjakan tugas, membersihkan rumah, jadwal tidur, dan lain sebagainya.', 'Dengan memiliki hidup yang lebih teratur, kalian akan merasa lebih produktif karena memiliki kegiatan yang jelas setiap harinya.', '2.', 'Diet Sosial Media\\n\\nMelakukan diet sosial media merupakan hal penting.', 'Terpaan informasi yang berlebihan dari media sosial akan memiliki efek yang buruk untuk kondisi pikiran dan mental.', 'Kurangi mengkonsumsi informasi yang membuat takut dan cemas.', '3.', 'Batasi Waktu Menatap Layar\\n\\nSudah pasti jika kuliah online banyak waktu kalian dihabiskan untuk menatap layar.', 'Pastikan setelah selesai kuliah online beristirahat menatap layar.', 'Menatap layar terlalu lama akan membuat mata menjadi lelah.', '4.', 'Tetap Bersosialisasi\\n\\nUntuk menjaga pikiran agar tetap waras setelah kuliah online tetaplah bersosialisasi dengan teman-teman.', 'Walaupun interaksi sosial secara tatap muka dibatasi, kalian tetap bisa berkomunikasi melalui internet.', 'Bicarakanlah hal yang menyenangkan saat berkomunikasi dengan teman.', '5.', 'Melakukan Hal-Hal yang Membuat Bahagia\\n\\nMelakukan hal-hal yang membuat bahagia dapat dijadikan sebagai relaksasi.', 'Kalian dapat melakukan hobi kesukaan seperti menonton film, mendengarkan musik, membaca buku, atau bermain game.', 'Lakukanlah kegiatan-kegiatan positif tersebut.', '6.', 'Berbuat Kebaikan\\n\\nBerbuat kebaikan di masa pandemi dilakukan untuk menjaga kesehatan mental dan dapat berdampak positif untuk orang-orang sekitar.', 'Menolong orang lain kini banyak dilakukan di media sosial dan akan memotivasi detikers untuk menjadi orang yang positif.', 'Itulah 6 tips yang dapat dilakukan untuk menjaga kesehatan mental saat kuliah online.', 'Jangan lupa apresiasi diri sekecil mungkin ya detikers!', 'Simak Video \"Kesehatan Mental di Masa Pandemi\"\\n\\n[Gambas:Video 20detik]\\n\\n(lus/lus)']\n"
          ]
        }
      ]
    },
    {
      "cell_type": "code",
      "metadata": {
        "colab": {
          "base_uri": "https://localhost:8080/"
        },
        "id": "PJPHLrsxnLcf",
        "outputId": "99c29a71-a32c-4e1b-ca50-26b085fb13b8"
      },
      "source": [
        "# Mengisi skor untuk setiap kalimat dengan menambahkan tiap score kata yg ada di dalam kalimat\n",
        "sentence_scores = {}\n",
        "for sent in sentence_tokens:\n",
        "    for kata in sent:\n",
        "        if kata.lower() in frekuensi_kata_ina.keys():\n",
        "            if sent not in sentence_scores.keys():\n",
        "                sentence_scores[sent] = frekuensi_kata_ina[kata.lower()]\n",
        "            else:\n",
        "                sentence_scores[sent] += frekuensi_kata_ina[kata.lower()]\n",
        "                \n",
        "sentence_scores"
      ],
      "execution_count": 58,
      "outputs": [
        {
          "output_type": "execute_result",
          "data": {
            "text/plain": [
              "{'1.': 0.11764705882352941,\n",
              " '2.': 0.23529411764705882,\n",
              " '3.': 0.23529411764705882,\n",
              " '4.': 0.058823529411764705,\n",
              " '5.': 0.058823529411764705,\n",
              " '6.': 0.11764705882352941,\n",
              " 'Bahkan penelitian terbaru yang dilakukan pada mahasiswa di Amerika menyatakan bahwa 80 persen mahasiswa menyatakan sering stres dan 13 persen lainnya sudah didiagnosis dengan penyakit mental seperti depresi dan gangguan kecemasan.': 0.23529411764705882,\n",
              " 'Berbagai masalah mental anak kuliah yang paling umum\\n\\n1.': 0.11764705882352941,\n",
              " 'Berikut adalah tipsnya yang dirangkum dari laman Dikti Vokasi:\\n\\n- Kenaikan kasus Covid-19 di Indonesia menyebabkan kegiatan belajar mengajar masih dilakukan secara daring salah satunya kuliah online.': 0.11764705882352941,\n",
              " 'Depresi\\n\\nMenurut American Psychological Association, kasus depresi di tengah anak-anak kuliah meningkat sebanyak 10 persen selama 10 tahun terakhir.': 0.23529411764705882,\n",
              " 'Itulah 6 tips yang dapat dilakukan untuk menjaga kesehatan mental saat kuliah online.': 0.11764705882352941,\n",
              " 'Penelitian membuktikan sekitar 75 persen orang yang memiliki gangguan kecemasan umumnya menunjukkan berbagai gejalanya sebelum memasuki usia 22 tahun.': 0.2941176470588235,\n",
              " 'Simak Video \"Kesehatan Mental di Masa Pandemi\"\\n\\n[Gambas:Video 20detik]\\n\\n(lus/lus)': 0.11764705882352941}"
            ]
          },
          "metadata": {},
          "execution_count": 58
        }
      ]
    },
    {
      "cell_type": "markdown",
      "metadata": {
        "id": "I70PSJhpnSFe"
      },
      "source": [
        "Summarization"
      ]
    },
    {
      "cell_type": "code",
      "metadata": {
        "id": "1Z6PsD9-nUH_"
      },
      "source": [
        "# Import library nlargest untuk mengurutkan dan mengambil n nilai terbesar dari list.\n",
        "from heapq import nlargest"
      ],
      "execution_count": 59,
      "outputs": []
    },
    {
      "cell_type": "code",
      "metadata": {
        "colab": {
          "base_uri": "https://localhost:8080/"
        },
        "id": "V1YnvsjsnWFZ",
        "outputId": "2b380874-3557-4e0b-b359-f63214421b18"
      },
      "source": [
        "# Menentukan ukuran teks setelah dirangkum menjadi 40% dari teks asli\n",
        "summarization_percentage = 0.4\n",
        "select_length = int(len(sentence_tokens) * summarization_percentage)\n",
        "select_length"
      ],
      "execution_count": 69,
      "outputs": [
        {
          "output_type": "execute_result",
          "data": {
            "text/plain": [
              "19"
            ]
          },
          "metadata": {},
          "execution_count": 69
        }
      ]
    },
    {
      "cell_type": "code",
      "metadata": {
        "id": "cjhOMoCPncuJ"
      },
      "source": [
        "#Membuat summary menggunakan teknik heapq dengan mengambil kalimat sebanyak sentence_length dengan skore yg paling besar\n",
        "\n",
        "summary = nlargest(select_length, sentence_scores, key = sentence_scores.get)"
      ],
      "execution_count": 70,
      "outputs": []
    },
    {
      "cell_type": "code",
      "metadata": {
        "colab": {
          "base_uri": "https://localhost:8080/"
        },
        "id": "9_LaKtPenhWx",
        "outputId": "a71f5809-0179-47d2-bc47-0a750a5d04a1"
      },
      "source": [
        "summary\n"
      ],
      "execution_count": 71,
      "outputs": [
        {
          "output_type": "execute_result",
          "data": {
            "text/plain": [
              "['Penelitian membuktikan sekitar 75 persen orang yang memiliki gangguan kecemasan umumnya menunjukkan berbagai gejalanya sebelum memasuki usia 22 tahun.',\n",
              " 'Depresi\\n\\nMenurut American Psychological Association, kasus depresi di tengah anak-anak kuliah meningkat sebanyak 10 persen selama 10 tahun terakhir.',\n",
              " '2.',\n",
              " 'Bahkan penelitian terbaru yang dilakukan pada mahasiswa di Amerika menyatakan bahwa 80 persen mahasiswa menyatakan sering stres dan 13 persen lainnya sudah didiagnosis dengan penyakit mental seperti depresi dan gangguan kecemasan.',\n",
              " '3.',\n",
              " 'Berbagai masalah mental anak kuliah yang paling umum\\n\\n1.',\n",
              " 'Berikut adalah tipsnya yang dirangkum dari laman Dikti Vokasi:\\n\\n- Kenaikan kasus Covid-19 di Indonesia menyebabkan kegiatan belajar mengajar masih dilakukan secara daring salah satunya kuliah online.',\n",
              " '1.',\n",
              " '6.',\n",
              " 'Itulah 6 tips yang dapat dilakukan untuk menjaga kesehatan mental saat kuliah online.',\n",
              " 'Simak Video \"Kesehatan Mental di Masa Pandemi\"\\n\\n[Gambas:Video 20detik]\\n\\n(lus/lus)',\n",
              " '4.',\n",
              " '5.']"
            ]
          },
          "metadata": {},
          "execution_count": 71
        }
      ]
    },
    {
      "cell_type": "code",
      "metadata": {
        "id": "tr-OReqKn5LO"
      },
      "source": [
        "final_summary = [kata for kata in summary]\n",
        "summary = ' '.join(final_summary)"
      ],
      "execution_count": 72,
      "outputs": []
    },
    {
      "cell_type": "code",
      "metadata": {
        "colab": {
          "base_uri": "https://localhost:8080/",
          "height": 142
        },
        "id": "PEdEvuxeoKst",
        "outputId": "1d0a6dc8-2668-42c8-9b35-95713ac82db5"
      },
      "source": [
        "summary"
      ],
      "execution_count": 75,
      "outputs": [
        {
          "output_type": "execute_result",
          "data": {
            "application/vnd.google.colaboratory.intrinsic+json": {
              "type": "string"
            },
            "text/plain": [
              "'Penelitian membuktikan sekitar 75 persen orang yang memiliki gangguan kecemasan umumnya menunjukkan berbagai gejalanya sebelum memasuki usia 22 tahun. Depresi\\n\\nMenurut American Psychological Association, kasus depresi di tengah anak-anak kuliah meningkat sebanyak 10 persen selama 10 tahun terakhir. 2. Bahkan penelitian terbaru yang dilakukan pada mahasiswa di Amerika menyatakan bahwa 80 persen mahasiswa menyatakan sering stres dan 13 persen lainnya sudah didiagnosis dengan penyakit mental seperti depresi dan gangguan kecemasan. 3. Berbagai masalah mental anak kuliah yang paling umum\\n\\n1. Berikut adalah tipsnya yang dirangkum dari laman Dikti Vokasi:\\n\\n- Kenaikan kasus Covid-19 di Indonesia menyebabkan kegiatan belajar mengajar masih dilakukan secara daring salah satunya kuliah online. 1. 6. Itulah 6 tips yang dapat dilakukan untuk menjaga kesehatan mental saat kuliah online. Simak Video \"Kesehatan Mental di Masa Pandemi\"\\n\\n[Gambas:Video 20detik]\\n\\n(lus/lus) 4. 5.'"
            ]
          },
          "metadata": {},
          "execution_count": 75
        }
      ]
    }
  ]
}