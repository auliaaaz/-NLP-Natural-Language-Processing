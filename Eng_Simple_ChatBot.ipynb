{
  "nbformat": 4,
  "nbformat_minor": 0,
  "metadata": {
    "colab": {
      "name": "Eng Simple ChatBot.ipynb",
      "provenance": [],
      "authorship_tag": "ABX9TyNXKkxJFfnOS+GAyXb8+C4p",
      "include_colab_link": true
    },
    "kernelspec": {
      "name": "python3",
      "display_name": "Python 3"
    },
    "language_info": {
      "name": "python"
    }
  },
  "cells": [
    {
      "cell_type": "markdown",
      "metadata": {
        "id": "view-in-github",
        "colab_type": "text"
      },
      "source": [
        "<a href=\"https://colab.research.google.com/github/auliaaaz/-NLP-Natural-Language-Processing/blob/main/Eng_Simple_ChatBot.ipynb\" target=\"_parent\"><img src=\"https://colab.research.google.com/assets/colab-badge.svg\" alt=\"Open In Colab\"/></a>"
      ]
    },
    {
      "cell_type": "code",
      "metadata": {
        "colab": {
          "base_uri": "https://localhost:8080/"
        },
        "id": "AVsnS35KWbCO",
        "outputId": "f064c761-6bb8-4abd-8129-32b06ce2c802"
      },
      "source": [
        "!pip install newspaper3k"
      ],
      "execution_count": 1,
      "outputs": [
        {
          "output_type": "stream",
          "name": "stdout",
          "text": [
            "Collecting newspaper3k\n",
            "  Downloading newspaper3k-0.2.8-py3-none-any.whl (211 kB)\n",
            "\u001b[K     |████████████████████████████████| 211 kB 6.9 MB/s \n",
            "\u001b[?25hCollecting feedparser>=5.2.1\n",
            "  Downloading feedparser-6.0.8-py3-none-any.whl (81 kB)\n",
            "\u001b[K     |████████████████████████████████| 81 kB 6.2 MB/s \n",
            "\u001b[?25hRequirement already satisfied: nltk>=3.2.1 in /usr/local/lib/python3.7/dist-packages (from newspaper3k) (3.2.5)\n",
            "Collecting cssselect>=0.9.2\n",
            "  Downloading cssselect-1.1.0-py2.py3-none-any.whl (16 kB)\n",
            "Requirement already satisfied: Pillow>=3.3.0 in /usr/local/lib/python3.7/dist-packages (from newspaper3k) (7.1.2)\n",
            "Requirement already satisfied: PyYAML>=3.11 in /usr/local/lib/python3.7/dist-packages (from newspaper3k) (3.13)\n",
            "Requirement already satisfied: python-dateutil>=2.5.3 in /usr/local/lib/python3.7/dist-packages (from newspaper3k) (2.8.2)\n",
            "Requirement already satisfied: requests>=2.10.0 in /usr/local/lib/python3.7/dist-packages (from newspaper3k) (2.23.0)\n",
            "Collecting feedfinder2>=0.0.4\n",
            "  Downloading feedfinder2-0.0.4.tar.gz (3.3 kB)\n",
            "Collecting tinysegmenter==0.3\n",
            "  Downloading tinysegmenter-0.3.tar.gz (16 kB)\n",
            "Collecting tldextract>=2.0.1\n",
            "  Downloading tldextract-3.1.2-py2.py3-none-any.whl (87 kB)\n",
            "\u001b[K     |████████████████████████████████| 87 kB 4.9 MB/s \n",
            "\u001b[?25hRequirement already satisfied: lxml>=3.6.0 in /usr/local/lib/python3.7/dist-packages (from newspaper3k) (4.2.6)\n",
            "Collecting jieba3k>=0.35.1\n",
            "  Downloading jieba3k-0.35.1.zip (7.4 MB)\n",
            "\u001b[K     |████████████████████████████████| 7.4 MB 27.1 MB/s \n",
            "\u001b[?25hRequirement already satisfied: beautifulsoup4>=4.4.1 in /usr/local/lib/python3.7/dist-packages (from newspaper3k) (4.6.3)\n",
            "Requirement already satisfied: six in /usr/local/lib/python3.7/dist-packages (from feedfinder2>=0.0.4->newspaper3k) (1.15.0)\n",
            "Collecting sgmllib3k\n",
            "  Downloading sgmllib3k-1.0.0.tar.gz (5.8 kB)\n",
            "Requirement already satisfied: idna<3,>=2.5 in /usr/local/lib/python3.7/dist-packages (from requests>=2.10.0->newspaper3k) (2.10)\n",
            "Requirement already satisfied: urllib3!=1.25.0,!=1.25.1,<1.26,>=1.21.1 in /usr/local/lib/python3.7/dist-packages (from requests>=2.10.0->newspaper3k) (1.24.3)\n",
            "Requirement already satisfied: certifi>=2017.4.17 in /usr/local/lib/python3.7/dist-packages (from requests>=2.10.0->newspaper3k) (2021.5.30)\n",
            "Requirement already satisfied: chardet<4,>=3.0.2 in /usr/local/lib/python3.7/dist-packages (from requests>=2.10.0->newspaper3k) (3.0.4)\n",
            "Collecting requests-file>=1.4\n",
            "  Downloading requests_file-1.5.1-py2.py3-none-any.whl (3.7 kB)\n",
            "Requirement already satisfied: filelock>=3.0.8 in /usr/local/lib/python3.7/dist-packages (from tldextract>=2.0.1->newspaper3k) (3.3.0)\n",
            "Building wheels for collected packages: tinysegmenter, feedfinder2, jieba3k, sgmllib3k\n",
            "  Building wheel for tinysegmenter (setup.py) ... \u001b[?25l\u001b[?25hdone\n",
            "  Created wheel for tinysegmenter: filename=tinysegmenter-0.3-py3-none-any.whl size=13552 sha256=b827dfde8bcc4170819f66e0a80c3d172ca5dadd00f984cdb0711953a1429836\n",
            "  Stored in directory: /root/.cache/pip/wheels/df/67/41/faca10fa501ca010be41b49d40360c2959e1c4f09bcbfa37fa\n",
            "  Building wheel for feedfinder2 (setup.py) ... \u001b[?25l\u001b[?25hdone\n",
            "  Created wheel for feedfinder2: filename=feedfinder2-0.0.4-py3-none-any.whl size=3356 sha256=e5d726fa1e79966a8c6462e7377f75e1c7f319840ec0c74e27e2ab25e09e9a6d\n",
            "  Stored in directory: /root/.cache/pip/wheels/7f/d4/8f/6e2ca54744c9d7292d88ddb8d42876bcdab5e6d84a21c10346\n",
            "  Building wheel for jieba3k (setup.py) ... \u001b[?25l\u001b[?25hdone\n",
            "  Created wheel for jieba3k: filename=jieba3k-0.35.1-py3-none-any.whl size=7398405 sha256=211e69de69a13079c0ce89524465bdf33069f7321745a8aecc63ecf484f98c63\n",
            "  Stored in directory: /root/.cache/pip/wheels/4c/91/46/3c208287b726df325a5979574324878b679116e4baae1af3c3\n",
            "  Building wheel for sgmllib3k (setup.py) ... \u001b[?25l\u001b[?25hdone\n",
            "  Created wheel for sgmllib3k: filename=sgmllib3k-1.0.0-py3-none-any.whl size=6065 sha256=358a9f791f021cd69033411f2b4392f968e116dfdb6851fe4b1a9d79e3ae752e\n",
            "  Stored in directory: /root/.cache/pip/wheels/73/ad/a4/0dff4a6ef231fc0dfa12ffbac2a36cebfdddfe059f50e019aa\n",
            "Successfully built tinysegmenter feedfinder2 jieba3k sgmllib3k\n",
            "Installing collected packages: sgmllib3k, requests-file, tldextract, tinysegmenter, jieba3k, feedparser, feedfinder2, cssselect, newspaper3k\n",
            "Successfully installed cssselect-1.1.0 feedfinder2-0.0.4 feedparser-6.0.8 jieba3k-0.35.1 newspaper3k-0.2.8 requests-file-1.5.1 sgmllib3k-1.0.0 tinysegmenter-0.3 tldextract-3.1.2\n"
          ]
        }
      ]
    },
    {
      "cell_type": "code",
      "metadata": {
        "id": "ORt6dYDc8oz7"
      },
      "source": [
        "# Import library\n",
        "from newspaper import Article\n",
        "import random\n",
        "import nltk\n",
        "import string\n",
        "from sklearn.feature_extraction.text import CountVectorizer\n",
        "from sklearn.metrics.pairwise import cosine_similarity\n",
        "import numpy as np\n",
        "import warnings\n",
        "warnings.filterwarnings('ignore')"
      ],
      "execution_count": 2,
      "outputs": []
    },
    {
      "cell_type": "code",
      "metadata": {
        "colab": {
          "base_uri": "https://localhost:8080/"
        },
        "id": "48sKqymKXWD8",
        "outputId": "0aaa0889-b013-4b5a-afc4-ff57be4673ed"
      },
      "source": [
        "nltk.download('punkt', quiet=True)"
      ],
      "execution_count": 3,
      "outputs": [
        {
          "output_type": "execute_result",
          "data": {
            "text/plain": [
              "True"
            ]
          },
          "metadata": {},
          "execution_count": 3
        }
      ]
    },
    {
      "cell_type": "markdown",
      "metadata": {
        "id": "MbXIV6IRteNi"
      },
      "source": [
        "import artikel\n"
      ]
    },
    {
      "cell_type": "code",
      "metadata": {
        "colab": {
          "base_uri": "https://localhost:8080/"
        },
        "id": "cCVjCcq6XWMh",
        "outputId": "39b86e96-a3ce-434e-9841-6812259ffca5"
      },
      "source": [
        "article = Article('https://www.livescience.com/mars-life-evidence-erased.html')\n",
        "article.download()\n",
        "article.parse()\n",
        "article.nlp()\n",
        "corpus = article.text\n",
        "print(corpus)"
      ],
      "execution_count": 4,
      "outputs": [
        {
          "output_type": "stream",
          "name": "stdout",
          "text": [
            "Evidence of ancient life may have been scrubbed from parts of Mars , a new NASA study has found.\n",
            "\n",
            "The space agency's Curiosity rover made the surprising discovery while investigating clay-rich sedimentary rocks around its landing site in Gale Crater, a former lake that was made when an asteroid struck the Red Planet roughly 3.6 billion years ago.\n",
            "\n",
            "Clay is a good signpost towards evidence of life because it's usually created when rocky minerals weather away and rot after contact with water — a key ingredient for life. It is also an excellent material for storing microbial fossils.\n",
            "\n",
            "Related: Here's what NASA's Opportunity rover saw before 'lights out'\n",
            "\n",
            "But when Curiosity took two samples of ancient mudstone, a sedimentary rock containing clay, from patches of the dried-out lake bed, dated to the same time and place (3.5 billion years ago and just 400m apart), researchers found that one patch contained only half the expected amount of clay minerals. Instead, that patch held a greater quantity of iron oxides, the compounds that give Mars its rusty hue.\n",
            "\n",
            "The team believes the culprit behind this geological disappearing act is brine: supersalty water that leaked into the mineral-rich clay layers and destabilized them, flushing them away and wiping patches of both the geological — and possibly even the biological — record clean.\n",
            "\n",
            "\"We used to think that once these layers of clay minerals formed at the bottom of the lake in Gale Crater, they stayed that way, preserving the moment in time they formed for billions of years,\" study lead author Tom Bristow, a researcher at NASA's Ames Research Center in Mountain View, California, said in a statement . \"But later brines broke down these clay minerals in some places — essentially resetting the rock record.\"\n",
            "\n",
            "The rover completed its analysis by drilling into the layers of the Martian rock before using its chemistry and mineralogy instrument, known as CheMin, to investigate the samples.\n",
            "\n",
            "The process of chemical transformation in sediments is called diagenesis, and it could have created new life beneath Mars even as it erased some of the evidence of the old life on its surface, according to the study authors. So even though old records of life may have been erased in the brine patches, the chemical conditions brought about by the influx of salty water may have enabled more life to spring up in its place, the scientists said.\n",
            "\n",
            "\"These are excellent places to look for evidence of ancient life and gauge habitability,\" study co-author John Grotzinger, a geology professor at the California Institute of Technology, said in the statement. \"Even though diagenesis may erase the signs of life in the original lake, it creates the chemical gradients necessary to support subsurface life, so we are really excited to have discovered this.\"\n",
            "\n",
            "Curiosity's mission to Mars began nine years ago, but the rover has continued to study the Red Planet well past its initial two-year mission timeline, to establish the historic habitability of Mars for life. It is now working in collaboration with the new Perseverance Mars rover, which landed in February 2021 and has been tasked with collecting rock and soil samples for a possible return to Earth .\n",
            "\n",
            "The research done by Curiosity has not only revealed how the Martian climate changed but also helped Perseverance determine which soil samples to collect to increase the odds of finding life.\n",
            "\n",
            "\"We've learned something very important: There are some parts of the Martian rock record that aren't so good at preserving evidence of the planet's past and possible life,\" co-author Ashwin Vasavada, a Curiosity project scientist at NASA's Jet Propulsion Laboratory in California, said in the statement. \"The fortunate thing is, we find both close together in Gale Crater and can use mineralogy to tell which is which.\"\n",
            "\n",
            "The search for life on Mars has been given fresh impetus by a new study that could have triangulated the possible location of the six methane emissions detected by the Curiosity rover during its time in Gale crater, Live Science reported . Since all of the methane in Earth’s atmosphere comes from biological sources, scientists are thrilled to find the gas on Mars.\n",
            "\n",
            "The researchers published their findings July 9 in the journal Science.\n",
            "\n",
            "Originally published on Live Science.\n"
          ]
        }
      ]
    },
    {
      "cell_type": "code",
      "metadata": {
        "colab": {
          "base_uri": "https://localhost:8080/"
        },
        "id": "delf5uu7YPRY",
        "outputId": "331f3deb-fad4-47a0-d2a2-2abab9613a3d"
      },
      "source": [
        "article2 = Article('https://www.space.com/17135-life-on-mars.html')\n",
        "article2.download()\n",
        "article2.parse()\n",
        "article2.nlp()\n",
        "corpus2 = article2.text\n",
        "print(corpus2)"
      ],
      "execution_count": 5,
      "outputs": [
        {
          "output_type": "stream",
          "name": "stdout",
          "text": [
            "When imagining locations where extraterrestrial life could potentially dwell, few places inspire the imagination like one of Earth's closest neighbors. For centuries, man has looked to Mars and imagined it as a home for other beings. Over the last fifty years, various missions to the red planet have sought to determine the probability of such an evolution. But how likely is life on Mars?\n",
            "\n",
            "This image from NASA's Curiosity rover looks south of the rover's landing site on Mars towards Mount Sharp. This is part of a larger,high-resolution color mosaic made from images obtained by Curiosity's Mast Camera. Image released August 14, 2012. (Image credit: NASA/JPL-Caltech/MSSS)\n",
            "\n",
            "A habitable environment\n",
            "\n",
            "When searching for life, most astrobiologists agree that water is key. All forms of terrestrial life require water, and while it is possible that life could evolve without the precious liquid, it is easier to search for conditions that are known to be optimal, rather than conditions we suppose could be.\" [5 Bold Claims of Alien Life ]\n",
            "\n",
            "This raises a problem on Mars. The planet today is dry and barren, with most of its water locked up in the polar ice caps. The planet's thin atmosphere allows radiation from the sun to irradiate the surface of the planet, adding to the environment's challenges. Evidence for water first showed up in 2000, when images from NASA's Mars Global Surveyor found gullies that appeared to have formed from flowing water.\n",
            "\n",
            "But Mars wasn't always a desolate wasteland. Scientists think that, in the past, water may have flowed across the surface in rivers and streams, and that vast oceans covered the planet. Over time, the water was lost into space, but early conditions on the wetter planet could have been right for life to evolve. One estimate suggests that an ancient ocean could have covered as much as 19 percent of the planet's surface, compared to the 17 percent covered by Earth's Atlantic Ocean.\n",
            "\n",
            "\"With Mars losing that much water, the planet was very likely wet for a longer period of time than was previously thought, suggesting it might have been habitable for longer,\" said Michael Mumma, a senior scientist at Goddard, said in a statement.\n",
            "\n",
            "It's also possible that liquid water flows on a modern Mars, either on the surface or beneath. The debate continues today on whether features known as recurring slope lineae (RSLs) form from ongoing water flows or running sand. \"We've thought of RSL as possible liquid water flows, but the slopes are more like what we expect for dry sand,\" Colin Dundas of the U.S. Geological Survey's Astrogeology Science Center in Flagstaff, Arizona, said in a statement. \"This new understanding of RSL supports other evidence that shows that Mars today is very dry.\n",
            "\n",
            "Water beneath the surface may be even better for life. Underground water could shield potential life from harsh radiation. There's evidence for an ice deposit the size of Lake Superior. \"This deposit is probably more accessible than most water ice on Mars, because it is at a relatively low latitude and it lies in a flat, smooth area where landing a spacecraft would be easier than at some of the other areas with buried ice,\" researcher Jack Holt of the University of Texas said in a statement.\n",
            "\n",
            "Tiny UFOs\n",
            "\n",
            "Over the last four billion years, Earth has received a number of visitors from Mars. Our planet has been bombarded by rocks blown from the surface of the red planet, one of the few bodies in the solar system scientists have samples from. Of the 34 Martian meteorites, scientists have determined that three have the potential to carry evidence of past life on Mars.\n",
            "\n",
            "A meteorite found in Antarctica made headlines in 1996 when scientists claimed that it could contain evidence of traces of life on Mars. Known as ALH 84001, the Martian rock contained structures resembled the fossilized remains of bacteria-like lifeforms. Follow-up tests revealed organic material, though the debate over whether or not the material was caused by biological processes wasn't settled until 2012, when it was determined that these vital ingredients had been formed on Mars without the involvement of life.\n",
            "\n",
            "\"Mars apparently has had organic carbon chemistry for a long time,\" study lead author Andrew Steele, a microbiologist at the Carnegie Institution of Washington, told SPACE.com.\n",
            "\n",
            "However, these organic molecules formed not from biology but from volcanism. Despite the rocky origin for the molecules, their organic nature may prove a positive in the hunt for life.\n",
            "\n",
            "\"We now find that Mars has organic chemistry, and on Earth, organic chemistry led to life, so what is the fate of this material on Mars, the raw material that the building blocks of life are put together from?\" Steele said.\n",
            "\n",
            "A microscopic view into a thin slice of the Martian meteorite Nakhla. A fracture (tan) and tunnels (in boxes) are similar in size and shape to tunnels associated with DNA in terrestrial rocks. How these were formed is not known, however; no DNA was found. (Image credit: Oregon State University)\n",
            "\n",
            "Scientists also found structures resembling fossilized nanobacteria on the Nakhla meteorite, a chunk of Mars that landed in Egypt. They determined that as much as three-fourths of the organic material found on the meteorite may not stem from contamination by Earth. However, further examination of the spherical structure, called an ovoid, revealed that it most likely formed through processes other than life.\n",
            "\n",
            "\"The consideration of possible biotic scenarios for the origin of the ovoid structure in Nakhla currently lacks any sort of compelling evidence,\" the scientists wrote in a study in the journal Astrobiology. \"Therefore, based on the available data that we have obtained on the nature of this conspicuous ovoid structure in Nakhla, we conclude that the most reasonable explanation for its origin is that it formed through abiotic [physical, not biological] processes.\"\n",
            "\n",
            "A third meteorite, the Shergotty, contains features suggestive of biofilm remnants and microbial communities.\n",
            "\n",
            "\"Biofilms provide major evidence for bacterial colonies in ancient Earth,\" researchers said in a 1999 conference abstract. \"It is possible that some of the clusters of microfossil-like features might be colonies, although that interpretation depends on whether the individual features are truly fossilized microbes.\"\n",
            "\n",
            "All of these samples provide tantalizing hints of the possibility of life in the early history of the red planet. But a fresh examination of the surface has the potential to reveal even more insights into the evolution of life on Mars.\n",
            "\n",
            "Searching for life\n",
            "\n",
            "NASA's Viking probes were the first ever to successfully set footpad on Mars in a powered landing. The Viking 1 lander set down in July 1976 and didn't go silent until November 1982. Viking 2 landed in September 1976 and kept working until April 1980. Credit: NASA (Image credit: NASA)\n",
            "\n",
            "When NASA set the first lander down on the Martian surface, one of the experiments performed sought traces for life. Though Viking's results were deemed inconclusive, they paved the way for other probes into the planet's environment. [Mars Explored: Landers and Rovers Since 1971 (Infographic)]\n",
            "\n",
            "Exploration of Mars was put on hold for more than two decades. When examination of the planet resumed, scientists focused more on the search for habitable environments than for life, and specifically on the search for water. The slew of rovers, orbiters, and landers revealed evidence of water beneath the crust, hot springs — considered an excellent potential environment for life to evolve — and occasional rare precipitation. Although the Curiosity rover isn't a life-finding mission, there are hopes that it could pinpoint locations that later visitors might explore and analyze.\n",
            "\n",
            "Future mission to Mars could include sample returns, bringing pieces of the Martian crust back to Earth to study. More experiments could be run by hand on Earth than can be performed by a remote robot explorer, and would be more controlled than meteorites that have lain on Earth.\n",
            "\n",
            "\"Mars 2020 will gather samples for potential return to Earth in the future. It's time for the sample-analysis community to get serious about defining and prioritizing Mars sample science, and in helping to make the case for the future missions that would get those samples home,\" David Beaty, co-leader of NASA's Returned Sample Science Board and chief scientist for the Mars Exploration Directorate at NASA's Jet Propulsion Laboratory (JPL) in Pasadena, California, said at a 2017 workshop.\n",
            "\n",
            "But the hunt for Martian life may be stymied by concerns over how to prevent infecting the Red Planet with Earth life. Current international policies impose heavy financial burdens that make exploring potentially habitable regions of Mars an extra challenge.\n",
            "\n",
            "\"Bottom line is that a thorough cleaning of a spacecraft aimed to in situ search for life on a special region of Mars today would easily cost around $500 million,\" Dirk Schulze-Makuch told SPACE.com via email. Schulze-Makuch, a researcher at Washington State University, and his colleague Alberto Fairen of Cornell University authored a commentary article published in the journal Nature Geoscience arguing for less-strict protection measures for Mars.\n",
            "\n",
            "\"With that amount of money, you can entirely finance a 'Discovery-type' mission to Mars, similar to Pathfinder or InSight,\" he added. \"Therefore, if we'd relax planetary protection concerns in a Viking-like mission today, we could add another low-budget mission to the space program.\"\n",
            "\n",
            "Are we the Martians?\n",
            "\n",
            "The transfer of material from Mars to Earth and presumably back again has sparked some debate about the possibility of contamination early in the history of life. Some scientists argue that a meteorite from Earth could have traveled to Mars — or vice versa. Debates rage over whether or not tiny organisms would be hardy enough to survive the voyage through a freezing, airless, radiation-filled vacuum and kick off life at its new home.\n",
            "\n",
            "The idea of such seeding is not limited to interactions with Mars. Some have proposed that debris from outside the solar system could even be responsible for spawning life on Earth. But in terms of the Red Planet, it is possible that scientists might one day find life on Mars — and it could be a close relation.\n",
            "\n",
            "\"If we find life on another planet, will it be truly alien or will it be related to us? And if so, did it spawn us or did we spawn it?\" researcher Dina Pasini, of the University of Kent, questioned in a statement. \"We cannot answer these questions just now, but the questions are not as farfetched as one might assume.\"\n",
            "\n",
            "Follow Nola Taylor Redd at @NolaTRedd, Facebook, or Google+. Follow us at @Spacedotcom, Facebook or Google+.\n"
          ]
        }
      ]
    },
    {
      "cell_type": "code",
      "metadata": {
        "colab": {
          "base_uri": "https://localhost:8080/"
        },
        "id": "QFfzPMltYvkY",
        "outputId": "114075a5-1b91-497e-dade-22b8fb52b68b"
      },
      "source": [
        "article3 = Article('https://www.planetary.org/articles/life-on-mars-your-questions-answered')\n",
        "article3.download()\n",
        "article3.parse()\n",
        "article3.nlp()\n",
        "corpus3 = article3.text\n",
        "print(corpus3)"
      ],
      "execution_count": 6,
      "outputs": [
        {
          "output_type": "stream",
          "name": "stdout",
          "text": [
            "Does life exist on Mars now?\n",
            "\n",
            "There is a slim chance that microbial life exists on Mars today, perhaps under the planet’s ice caps or in subsurface lakes detected by spacecraft like the European Space Agency’s Mars Express. Locations like these could protect life from the harsh conditions on the planet's surface.\n",
            "\n",
            "Because the kind of life that we think could exist on Mars today is microbial, it wouldn’t be spotted by the cameras of an orbiting spacecraft. Instead, there are ways we could detect it indirectly through chemical signatures linked to life called biosignatures.\n",
            "\n",
            "One such biosignature is methane, which can be created by both biological and geological processes. Curiosity has detected methane near its landing site in Gale Crater, but this isn't conclusive; the European Space Agency’s Trace Gas Express Orbiter has not found signs of the chemical in Mars’ atmosphere.\n",
            "\n",
            "Could humans bring life to Mars?\n",
            "\n",
            "When sending spacecraft to Mars to look for signs of life, it’s extremely important to make sure we don’t bring microbes along with us. Even though it takes months for a spacecraft to travel to Mars, hardy microorganisms could potentially survive the journey.\n",
            "\n",
            "Every mission that lands on Mars must be thoroughly sterilized before it leaves Earth. Otherwise, instruments looking for signs of life might be fooled by life that came along with the spacecraft. Even worse, there is a slim but real possibility that Earthling microbes could survive and thrive on Mars, potentially interfering with any lifeforms that might already exist there.\n",
            "\n",
            "\n",
            "\n",
            "The risk of contaminating Mars with Earthling microbes becomes even greater when considering future human missions to Mars. Human bodies are teeming with microbes, and it would be nearly impossible to contain them within a crewed Martian outpost. NASA, international space agencies, and private companies must work together to create planetary protection guidelines that balance the benefits of human exploration with the risk of contamination.\n"
          ]
        }
      ]
    },
    {
      "cell_type": "code",
      "metadata": {
        "colab": {
          "base_uri": "https://localhost:8080/"
        },
        "id": "Eu8YQwv8ZDC4",
        "outputId": "0d7ff5cc-979f-40d1-c699-3ed243a0a3fb"
      },
      "source": [
        "article4 = Article('https://mars.nasa.gov/programmissions/overview/')\n",
        "article4.download()\n",
        "article4.parse()\n",
        "article4.nlp()\n",
        "corpus4 = article4.text\n",
        "print(corpus4)"
      ],
      "execution_count": 7,
      "outputs": [
        {
          "output_type": "stream",
          "name": "stdout",
          "text": [
            "OVERVIEW | SCIENCE | TECHNOLOGY Fourth Planet from the Sun Mars, the fourth rock from the Sun, is named after the Roman God of War. 1 / 8 The Red Planet People often call Mars the \"Red Planet,\" due to its reddish tint from the dust that kicks up into the atmosphere. 2 / 8 Mars is Twice the Size of Earth's Moon! Mars is half the diameter of Earth but twice the size of Earth’s moon. In fact, if you took all the land mass of Earth, minus our oceans, that land mass would be about the same size of Mars. 3 / 8 Mars Has Seasons Too Like Earth, Mars has seasons, polar ice caps, volcanoes, canyons, deserts, and weather. 4 / 8 Burr! Mars is Very Cold The average temperature is -64 degrees F (-53 C). The temperature varies from -199 F (-128 C) during night time to 80 F (27 C) at the equator during midday. 5 / 8 Mars Has a Thin Atmosphere Mars’ atmosphere is too thin for liquid water to exist for long on the surface. However, several Mars missions have found evidence of past water on Mars in icy soil and thin clouds. 6 / 8 Mars: Home to the Largest Volcano in the Solar System! Mars has the largest volcano in our Solar System, Olympus Mons, 16 miles (26 km) high and 370 miles (600 km) across. That’s about the same size as the state of Arizona! 7 / 8 The Deepest Canyon in Our Solar System is on Mars! Mars also has the largest and deepest canyon in our Solar System, Valles Marineris, which extends more than 2,500 miles (4,000 km), and is 3 to 6 miles (5 to 10 km) deep from the canyon floor to top of the plains. 8 / 8\n",
            "\n",
            "\n",
            "\n",
            "\n",
            "\n",
            "The Mars Exploration Program Since our first close-up picture of Mars in 1965, spacecraft voyages to the Red Planet have revealed a world strangely familiar, yet different enough to challenge our perceptions of what makes a planet work. Every time we feel close to understanding Mars, new discoveries send us straight back to the drawing board to revise existing theories. You'd think Mars would be easier to understand. Like Earth, Mars has polar ice caps and clouds in its atmosphere, seasonal weather patterns, volcanoes, canyons and other recognizable features. However, conditions on Mars vary wildly from what we know on our own planet. Over the past three decades, spacecraft have shown us that Mars is rocky, cold, and dry beneath its hazy, pink sky. We've discovered that today's Martian wasteland hints at a formerly volatile world where volcanoes once raged, meteors plowed deep craters, and flash floods rushed over the land. And Mars continues to throw out new enticements with each landing or orbital pass made by our spacecraft. The Defining Question for Mars Exploration: Life on Mars? Among our discoveries about Mars, one stands out above all others: the possible presence of liquid water on Mars, either in its ancient past or preserved in the subsurface today. Water is key because almost everywhere we find water on Earth, we find life. If Mars once had liquid water, or still does today, it's compelling to ask whether any microscopic life forms could have developed on its surface. Is there any evidence of life in the planet's past? If so, could any of these tiny living creatures still exist today? Imagine how exciting it would be to answer, \"Yes!!\" Even if Mars is devoid of past or present life, however, there's still much excitement on the horizon. We ourselves might become the \"life on Mars\" should humans choose to travel there one day. Meanwhile, we still have a lot to learn about this amazing planet and its extreme environments. Helpful Mars Exploration Resources Mars Science Laboratory Phoenix Mars Reconnaissance Orbiter Mars Exploration Rovers Mars Odyssey\n",
            "\n",
            "\n",
            "\n",
            "Our Exploration Strategy: Seek Signs of Life Credit: NASA/JPL-Caltech Evolving Science Strategies for Mars Exploration Exploration Timeline\n",
            "\n",
            "To discover the possibilities for past or present life on Mars, NASA's Mars Exploration Program is currently following an exploration strategy known as \"Seek Signs of Life.\" This science theme marks a transition in Mars exploration. It reflects a long-term process of discovery on the red planet, built on strategies to understand Mars' potential as a habitat for past or present microbial life. Searching for this answer means delving into the planet's geologic and climate history to find out how, when and why Mars underwent dramatic changes to become the forbidding, yet promising, planet we observe today. About 3.8-3.5 billion years ago, Mars and Earth were much more similar. Evidence from Mars missions suggest Mars may have been much warmer and wetter than we observe it to be today. In this ancient timeframe, scientists find the first evidence of microbial life on Earth. Did Mars provide similar environmental conditions for life long ago? If microbes were present on Mars in the planet's ancient past, could it exist in special regions today? And, even if microbial life never existed, might Mars provide a future habitat for human explorers someday in the future? Because water is key to life as we know it, earlier Mars missions (2001 Mars Odyssey, Mars Exploration Rovers, Mars Reconnaissance Orbiter, Mars Phoenix Lander) were designed to make discoveries under the previous Mars Exploration Program science theme of \"Follow the Water.\" Progressive discoveries related to evidence of past and present water in the geologic record make it possible to take the next steps toward finding evidence of life itself. The Mars Science Laboratory mission and its Curiosity rover mark a transition between the themes of \"Follow the Water\" and \"Seek Signs of Life.\" In addition to landing in a place with past evidence of water, Curiosity is seeking evidence of organics, the chemical building blocks of life. Places with water and the chemistry needed for life potentially provide habitable conditions. Future Mars missions would likely be designed to search for life itself in places identified as potential past or present habitats. Like all Mars Exploration Program missions, future missions will be driven by rigorous scientific questions that continually evolve from discoveries by prior missions. New and previously developed technologies will enable us to explore Mars in ways we never have before, resulting in higher-resolution images, precision landings, longer-ranging surface mobility and even the return of Martian soil and rock samples for studies in laboratories here on Earth.\n"
          ]
        }
      ]
    },
    {
      "cell_type": "code",
      "metadata": {
        "colab": {
          "base_uri": "https://localhost:8080/"
        },
        "id": "vE_2CeceSasW",
        "outputId": "b111dde6-c8aa-41a3-d81d-543eb0321975"
      },
      "source": [
        "teks = corpus\n",
        "sentence_list = nltk.sent_tokenize(teks)\n",
        "for i in nltk.sent_tokenize(corpus2):\n",
        "  sentence_list.append(i)\n",
        "for i in nltk.sent_tokenize(corpus3):\n",
        "  sentence_list.append(i)\n",
        "for i in nltk.sent_tokenize(corpus4):\n",
        "  sentence_list.append(i) \n",
        "sentence_list "
      ],
      "execution_count": 8,
      "outputs": [
        {
          "output_type": "execute_result",
          "data": {
            "text/plain": [
              "['Evidence of ancient life may have been scrubbed from parts of Mars , a new NASA study has found.',\n",
              " \"The space agency's Curiosity rover made the surprising discovery while investigating clay-rich sedimentary rocks around its landing site in Gale Crater, a former lake that was made when an asteroid struck the Red Planet roughly 3.6 billion years ago.\",\n",
              " \"Clay is a good signpost towards evidence of life because it's usually created when rocky minerals weather away and rot after contact with water — a key ingredient for life.\",\n",
              " 'It is also an excellent material for storing microbial fossils.',\n",
              " \"Related: Here's what NASA's Opportunity rover saw before 'lights out'\\n\\nBut when Curiosity took two samples of ancient mudstone, a sedimentary rock containing clay, from patches of the dried-out lake bed, dated to the same time and place (3.5 billion years ago and just 400m apart), researchers found that one patch contained only half the expected amount of clay minerals.\",\n",
              " 'Instead, that patch held a greater quantity of iron oxides, the compounds that give Mars its rusty hue.',\n",
              " 'The team believes the culprit behind this geological disappearing act is brine: supersalty water that leaked into the mineral-rich clay layers and destabilized them, flushing them away and wiping patches of both the geological — and possibly even the biological — record clean.',\n",
              " '\"We used to think that once these layers of clay minerals formed at the bottom of the lake in Gale Crater, they stayed that way, preserving the moment in time they formed for billions of years,\" study lead author Tom Bristow, a researcher at NASA\\'s Ames Research Center in Mountain View, California, said in a statement .',\n",
              " '\"But later brines broke down these clay minerals in some places — essentially resetting the rock record.\"',\n",
              " 'The rover completed its analysis by drilling into the layers of the Martian rock before using its chemistry and mineralogy instrument, known as CheMin, to investigate the samples.',\n",
              " 'The process of chemical transformation in sediments is called diagenesis, and it could have created new life beneath Mars even as it erased some of the evidence of the old life on its surface, according to the study authors.',\n",
              " 'So even though old records of life may have been erased in the brine patches, the chemical conditions brought about by the influx of salty water may have enabled more life to spring up in its place, the scientists said.',\n",
              " '\"These are excellent places to look for evidence of ancient life and gauge habitability,\" study co-author John Grotzinger, a geology professor at the California Institute of Technology, said in the statement.',\n",
              " '\"Even though diagenesis may erase the signs of life in the original lake, it creates the chemical gradients necessary to support subsurface life, so we are really excited to have discovered this.\"',\n",
              " \"Curiosity's mission to Mars began nine years ago, but the rover has continued to study the Red Planet well past its initial two-year mission timeline, to establish the historic habitability of Mars for life.\",\n",
              " 'It is now working in collaboration with the new Perseverance Mars rover, which landed in February 2021 and has been tasked with collecting rock and soil samples for a possible return to Earth .',\n",
              " 'The research done by Curiosity has not only revealed how the Martian climate changed but also helped Perseverance determine which soil samples to collect to increase the odds of finding life.',\n",
              " '\"We\\'ve learned something very important: There are some parts of the Martian rock record that aren\\'t so good at preserving evidence of the planet\\'s past and possible life,\" co-author Ashwin Vasavada, a Curiosity project scientist at NASA\\'s Jet Propulsion Laboratory in California, said in the statement.',\n",
              " '\"The fortunate thing is, we find both close together in Gale Crater and can use mineralogy to tell which is which.\"',\n",
              " 'The search for life on Mars has been given fresh impetus by a new study that could have triangulated the possible location of the six methane emissions detected by the Curiosity rover during its time in Gale crater, Live Science reported .',\n",
              " 'Since all of the methane in Earth’s atmosphere comes from biological sources, scientists are thrilled to find the gas on Mars.',\n",
              " 'The researchers published their findings July 9 in the journal Science.',\n",
              " 'Originally published on Live Science.',\n",
              " \"When imagining locations where extraterrestrial life could potentially dwell, few places inspire the imagination like one of Earth's closest neighbors.\",\n",
              " 'For centuries, man has looked to Mars and imagined it as a home for other beings.',\n",
              " 'Over the last fifty years, various missions to the red planet have sought to determine the probability of such an evolution.',\n",
              " 'But how likely is life on Mars?',\n",
              " \"This image from NASA's Curiosity rover looks south of the rover's landing site on Mars towards Mount Sharp.\",\n",
              " \"This is part of a larger,high-resolution color mosaic made from images obtained by Curiosity's Mast Camera.\",\n",
              " 'Image released August 14, 2012.',\n",
              " '(Image credit: NASA/JPL-Caltech/MSSS)\\n\\nA habitable environment\\n\\nWhen searching for life, most astrobiologists agree that water is key.',\n",
              " 'All forms of terrestrial life require water, and while it is possible that life could evolve without the precious liquid, it is easier to search for conditions that are known to be optimal, rather than conditions we suppose could be.\"',\n",
              " '[5 Bold Claims of Alien Life ]\\n\\nThis raises a problem on Mars.',\n",
              " 'The planet today is dry and barren, with most of its water locked up in the polar ice caps.',\n",
              " \"The planet's thin atmosphere allows radiation from the sun to irradiate the surface of the planet, adding to the environment's challenges.\",\n",
              " \"Evidence for water first showed up in 2000, when images from NASA's Mars Global Surveyor found gullies that appeared to have formed from flowing water.\",\n",
              " \"But Mars wasn't always a desolate wasteland.\",\n",
              " 'Scientists think that, in the past, water may have flowed across the surface in rivers and streams, and that vast oceans covered the planet.',\n",
              " 'Over time, the water was lost into space, but early conditions on the wetter planet could have been right for life to evolve.',\n",
              " \"One estimate suggests that an ancient ocean could have covered as much as 19 percent of the planet's surface, compared to the 17 percent covered by Earth's Atlantic Ocean.\",\n",
              " '\"With Mars losing that much water, the planet was very likely wet for a longer period of time than was previously thought, suggesting it might have been habitable for longer,\" said Michael Mumma, a senior scientist at Goddard, said in a statement.',\n",
              " \"It's also possible that liquid water flows on a modern Mars, either on the surface or beneath.\",\n",
              " 'The debate continues today on whether features known as recurring slope lineae (RSLs) form from ongoing water flows or running sand.',\n",
              " '\"We\\'ve thought of RSL as possible liquid water flows, but the slopes are more like what we expect for dry sand,\" Colin Dundas of the U.S. Geological Survey\\'s Astrogeology Science Center in Flagstaff, Arizona, said in a statement.',\n",
              " '\"This new understanding of RSL supports other evidence that shows that Mars today is very dry.',\n",
              " 'Water beneath the surface may be even better for life.',\n",
              " 'Underground water could shield potential life from harsh radiation.',\n",
              " \"There's evidence for an ice deposit the size of Lake Superior.\",\n",
              " '\"This deposit is probably more accessible than most water ice on Mars, because it is at a relatively low latitude and it lies in a flat, smooth area where landing a spacecraft would be easier than at some of the other areas with buried ice,\" researcher Jack Holt of the University of Texas said in a statement.',\n",
              " 'Tiny UFOs\\n\\nOver the last four billion years, Earth has received a number of visitors from Mars.',\n",
              " 'Our planet has been bombarded by rocks blown from the surface of the red planet, one of the few bodies in the solar system scientists have samples from.',\n",
              " 'Of the 34 Martian meteorites, scientists have determined that three have the potential to carry evidence of past life on Mars.',\n",
              " 'A meteorite found in Antarctica made headlines in 1996 when scientists claimed that it could contain evidence of traces of life on Mars.',\n",
              " 'Known as ALH 84001, the Martian rock contained structures resembled the fossilized remains of bacteria-like lifeforms.',\n",
              " \"Follow-up tests revealed organic material, though the debate over whether or not the material was caused by biological processes wasn't settled until 2012, when it was determined that these vital ingredients had been formed on Mars without the involvement of life.\",\n",
              " '\"Mars apparently has had organic carbon chemistry for a long time,\" study lead author Andrew Steele, a microbiologist at the Carnegie Institution of Washington, told SPACE.com.',\n",
              " 'However, these organic molecules formed not from biology but from volcanism.',\n",
              " 'Despite the rocky origin for the molecules, their organic nature may prove a positive in the hunt for life.',\n",
              " '\"We now find that Mars has organic chemistry, and on Earth, organic chemistry led to life, so what is the fate of this material on Mars, the raw material that the building blocks of life are put together from?\"',\n",
              " 'Steele said.',\n",
              " 'A microscopic view into a thin slice of the Martian meteorite Nakhla.',\n",
              " 'A fracture (tan) and tunnels (in boxes) are similar in size and shape to tunnels associated with DNA in terrestrial rocks.',\n",
              " 'How these were formed is not known, however; no DNA was found.',\n",
              " '(Image credit: Oregon State University)\\n\\nScientists also found structures resembling fossilized nanobacteria on the Nakhla meteorite, a chunk of Mars that landed in Egypt.',\n",
              " 'They determined that as much as three-fourths of the organic material found on the meteorite may not stem from contamination by Earth.',\n",
              " 'However, further examination of the spherical structure, called an ovoid, revealed that it most likely formed through processes other than life.',\n",
              " '\"The consideration of possible biotic scenarios for the origin of the ovoid structure in Nakhla currently lacks any sort of compelling evidence,\" the scientists wrote in a study in the journal Astrobiology.',\n",
              " '\"Therefore, based on the available data that we have obtained on the nature of this conspicuous ovoid structure in Nakhla, we conclude that the most reasonable explanation for its origin is that it formed through abiotic [physical, not biological] processes.\"',\n",
              " 'A third meteorite, the Shergotty, contains features suggestive of biofilm remnants and microbial communities.',\n",
              " '\"Biofilms provide major evidence for bacterial colonies in ancient Earth,\" researchers said in a 1999 conference abstract.',\n",
              " '\"It is possible that some of the clusters of microfossil-like features might be colonies, although that interpretation depends on whether the individual features are truly fossilized microbes.\"',\n",
              " 'All of these samples provide tantalizing hints of the possibility of life in the early history of the red planet.',\n",
              " 'But a fresh examination of the surface has the potential to reveal even more insights into the evolution of life on Mars.',\n",
              " \"Searching for life\\n\\nNASA's Viking probes were the first ever to successfully set footpad on Mars in a powered landing.\",\n",
              " \"The Viking 1 lander set down in July 1976 and didn't go silent until November 1982.\",\n",
              " 'Viking 2 landed in September 1976 and kept working until April 1980. Credit: NASA (Image credit: NASA)\\n\\nWhen NASA set the first lander down on the Martian surface, one of the experiments performed sought traces for life.',\n",
              " \"Though Viking's results were deemed inconclusive, they paved the way for other probes into the planet's environment.\",\n",
              " '[Mars Explored: Landers and Rovers Since 1971 (Infographic)]\\n\\nExploration of Mars was put on hold for more than two decades.',\n",
              " 'When examination of the planet resumed, scientists focused more on the search for habitable environments than for life, and specifically on the search for water.',\n",
              " 'The slew of rovers, orbiters, and landers revealed evidence of water beneath the crust, hot springs — considered an excellent potential environment for life to evolve — and occasional rare precipitation.',\n",
              " \"Although the Curiosity rover isn't a life-finding mission, there are hopes that it could pinpoint locations that later visitors might explore and analyze.\",\n",
              " 'Future mission to Mars could include sample returns, bringing pieces of the Martian crust back to Earth to study.',\n",
              " 'More experiments could be run by hand on Earth than can be performed by a remote robot explorer, and would be more controlled than meteorites that have lain on Earth.',\n",
              " '\"Mars 2020 will gather samples for potential return to Earth in the future.',\n",
              " 'It\\'s time for the sample-analysis community to get serious about defining and prioritizing Mars sample science, and in helping to make the case for the future missions that would get those samples home,\" David Beaty, co-leader of NASA\\'s Returned Sample Science Board and chief scientist for the Mars Exploration Directorate at NASA\\'s Jet Propulsion Laboratory (JPL) in Pasadena, California, said at a 2017 workshop.',\n",
              " 'But the hunt for Martian life may be stymied by concerns over how to prevent infecting the Red Planet with Earth life.',\n",
              " 'Current international policies impose heavy financial burdens that make exploring potentially habitable regions of Mars an extra challenge.',\n",
              " '\"Bottom line is that a thorough cleaning of a spacecraft aimed to in situ search for life on a special region of Mars today would easily cost around $500 million,\" Dirk Schulze-Makuch told SPACE.com via email.',\n",
              " 'Schulze-Makuch, a researcher at Washington State University, and his colleague Alberto Fairen of Cornell University authored a commentary article published in the journal Nature Geoscience arguing for less-strict protection measures for Mars.',\n",
              " '\"With that amount of money, you can entirely finance a \\'Discovery-type\\' mission to Mars, similar to Pathfinder or InSight,\" he added.',\n",
              " '\"Therefore, if we\\'d relax planetary protection concerns in a Viking-like mission today, we could add another low-budget mission to the space program.\"',\n",
              " 'Are we the Martians?',\n",
              " 'The transfer of material from Mars to Earth and presumably back again has sparked some debate about the possibility of contamination early in the history of life.',\n",
              " 'Some scientists argue that a meteorite from Earth could have traveled to Mars — or vice versa.',\n",
              " 'Debates rage over whether or not tiny organisms would be hardy enough to survive the voyage through a freezing, airless, radiation-filled vacuum and kick off life at its new home.',\n",
              " 'The idea of such seeding is not limited to interactions with Mars.',\n",
              " 'Some have proposed that debris from outside the solar system could even be responsible for spawning life on Earth.',\n",
              " 'But in terms of the Red Planet, it is possible that scientists might one day find life on Mars — and it could be a close relation.',\n",
              " '\"If we find life on another planet, will it be truly alien or will it be related to us?',\n",
              " 'And if so, did it spawn us or did we spawn it?\"',\n",
              " 'researcher Dina Pasini, of the University of Kent, questioned in a statement.',\n",
              " '\"We cannot answer these questions just now, but the questions are not as farfetched as one might assume.\"',\n",
              " 'Follow Nola Taylor Redd at @NolaTRedd, Facebook, or Google+.',\n",
              " 'Follow us at @Spacedotcom, Facebook or Google+.',\n",
              " 'Does life exist on Mars now?',\n",
              " 'There is a slim chance that microbial life exists on Mars today, perhaps under the planet’s ice caps or in subsurface lakes detected by spacecraft like the European Space Agency’s Mars Express.',\n",
              " \"Locations like these could protect life from the harsh conditions on the planet's surface.\",\n",
              " 'Because the kind of life that we think could exist on Mars today is microbial, it wouldn’t be spotted by the cameras of an orbiting spacecraft.',\n",
              " 'Instead, there are ways we could detect it indirectly through chemical signatures linked to life called biosignatures.',\n",
              " 'One such biosignature is methane, which can be created by both biological and geological processes.',\n",
              " \"Curiosity has detected methane near its landing site in Gale Crater, but this isn't conclusive; the European Space Agency’s Trace Gas Express Orbiter has not found signs of the chemical in Mars’ atmosphere.\",\n",
              " 'Could humans bring life to Mars?',\n",
              " 'When sending spacecraft to Mars to look for signs of life, it’s extremely important to make sure we don’t bring microbes along with us.',\n",
              " 'Even though it takes months for a spacecraft to travel to Mars, hardy microorganisms could potentially survive the journey.',\n",
              " 'Every mission that lands on Mars must be thoroughly sterilized before it leaves Earth.',\n",
              " 'Otherwise, instruments looking for signs of life might be fooled by life that came along with the spacecraft.',\n",
              " 'Even worse, there is a slim but real possibility that Earthling microbes could survive and thrive on Mars, potentially interfering with any lifeforms that might already exist there.',\n",
              " 'The risk of contaminating Mars with Earthling microbes becomes even greater when considering future human missions to Mars.',\n",
              " 'Human bodies are teeming with microbes, and it would be nearly impossible to contain them within a crewed Martian outpost.',\n",
              " 'NASA, international space agencies, and private companies must work together to create planetary protection guidelines that balance the benefits of human exploration with the risk of contamination.',\n",
              " 'OVERVIEW | SCIENCE | TECHNOLOGY Fourth Planet from the Sun Mars, the fourth rock from the Sun, is named after the Roman God of War.',\n",
              " '1 / 8 The Red Planet People often call Mars the \"Red Planet,\" due to its reddish tint from the dust that kicks up into the atmosphere.',\n",
              " \"2 / 8 Mars is Twice the Size of Earth's Moon!\",\n",
              " 'Mars is half the diameter of Earth but twice the size of Earth’s moon.',\n",
              " 'In fact, if you took all the land mass of Earth, minus our oceans, that land mass would be about the same size of Mars.',\n",
              " '3 / 8 Mars Has Seasons Too Like Earth, Mars has seasons, polar ice caps, volcanoes, canyons, deserts, and weather.',\n",
              " '4 / 8 Burr!',\n",
              " 'Mars is Very Cold The average temperature is -64 degrees F (-53 C).',\n",
              " 'The temperature varies from -199 F (-128 C) during night time to 80 F (27 C) at the equator during midday.',\n",
              " '5 / 8 Mars Has a Thin Atmosphere Mars’ atmosphere is too thin for liquid water to exist for long on the surface.',\n",
              " 'However, several Mars missions have found evidence of past water on Mars in icy soil and thin clouds.',\n",
              " '6 / 8 Mars: Home to the Largest Volcano in the Solar System!',\n",
              " 'Mars has the largest volcano in our Solar System, Olympus Mons, 16 miles (26 km) high and 370 miles (600 km) across.',\n",
              " 'That’s about the same size as the state of Arizona!',\n",
              " '7 / 8 The Deepest Canyon in Our Solar System is on Mars!',\n",
              " 'Mars also has the largest and deepest canyon in our Solar System, Valles Marineris, which extends more than 2,500 miles (4,000 km), and is 3 to 6 miles (5 to 10 km) deep from the canyon floor to top of the plains.',\n",
              " '8 / 8\\n\\n\\n\\n\\n\\nThe Mars Exploration Program Since our first close-up picture of Mars in 1965, spacecraft voyages to the Red Planet have revealed a world strangely familiar, yet different enough to challenge our perceptions of what makes a planet work.',\n",
              " 'Every time we feel close to understanding Mars, new discoveries send us straight back to the drawing board to revise existing theories.',\n",
              " \"You'd think Mars would be easier to understand.\",\n",
              " 'Like Earth, Mars has polar ice caps and clouds in its atmosphere, seasonal weather patterns, volcanoes, canyons and other recognizable features.',\n",
              " 'However, conditions on Mars vary wildly from what we know on our own planet.',\n",
              " 'Over the past three decades, spacecraft have shown us that Mars is rocky, cold, and dry beneath its hazy, pink sky.',\n",
              " \"We've discovered that today's Martian wasteland hints at a formerly volatile world where volcanoes once raged, meteors plowed deep craters, and flash floods rushed over the land.\",\n",
              " 'And Mars continues to throw out new enticements with each landing or orbital pass made by our spacecraft.',\n",
              " 'The Defining Question for Mars Exploration: Life on Mars?',\n",
              " 'Among our discoveries about Mars, one stands out above all others: the possible presence of liquid water on Mars, either in its ancient past or preserved in the subsurface today.',\n",
              " 'Water is key because almost everywhere we find water on Earth, we find life.',\n",
              " \"If Mars once had liquid water, or still does today, it's compelling to ask whether any microscopic life forms could have developed on its surface.\",\n",
              " \"Is there any evidence of life in the planet's past?\",\n",
              " 'If so, could any of these tiny living creatures still exist today?',\n",
              " 'Imagine how exciting it would be to answer, \"Yes!!\"',\n",
              " \"Even if Mars is devoid of past or present life, however, there's still much excitement on the horizon.\",\n",
              " 'We ourselves might become the \"life on Mars\" should humans choose to travel there one day.',\n",
              " 'Meanwhile, we still have a lot to learn about this amazing planet and its extreme environments.',\n",
              " 'Helpful Mars Exploration Resources Mars Science Laboratory Phoenix Mars Reconnaissance Orbiter Mars Exploration Rovers Mars Odyssey\\n\\n\\n\\nOur Exploration Strategy: Seek Signs of Life Credit: NASA/JPL-Caltech Evolving Science Strategies for Mars Exploration Exploration Timeline\\n\\nTo discover the possibilities for past or present life on Mars, NASA\\'s Mars Exploration Program is currently following an exploration strategy known as \"Seek Signs of Life.\"',\n",
              " 'This science theme marks a transition in Mars exploration.',\n",
              " \"It reflects a long-term process of discovery on the red planet, built on strategies to understand Mars' potential as a habitat for past or present microbial life.\",\n",
              " \"Searching for this answer means delving into the planet's geologic and climate history to find out how, when and why Mars underwent dramatic changes to become the forbidding, yet promising, planet we observe today.\",\n",
              " 'About 3.8-3.5 billion years ago, Mars and Earth were much more similar.',\n",
              " 'Evidence from Mars missions suggest Mars may have been much warmer and wetter than we observe it to be today.',\n",
              " 'In this ancient timeframe, scientists find the first evidence of microbial life on Earth.',\n",
              " 'Did Mars provide similar environmental conditions for life long ago?',\n",
              " \"If microbes were present on Mars in the planet's ancient past, could it exist in special regions today?\",\n",
              " 'And, even if microbial life never existed, might Mars provide a future habitat for human explorers someday in the future?',\n",
              " 'Because water is key to life as we know it, earlier Mars missions (2001 Mars Odyssey, Mars Exploration Rovers, Mars Reconnaissance Orbiter, Mars Phoenix Lander) were designed to make discoveries under the previous Mars Exploration Program science theme of \"Follow the Water.\"',\n",
              " 'Progressive discoveries related to evidence of past and present water in the geologic record make it possible to take the next steps toward finding evidence of life itself.',\n",
              " 'The Mars Science Laboratory mission and its Curiosity rover mark a transition between the themes of \"Follow the Water\" and \"Seek Signs of Life.\"',\n",
              " 'In addition to landing in a place with past evidence of water, Curiosity is seeking evidence of organics, the chemical building blocks of life.',\n",
              " 'Places with water and the chemistry needed for life potentially provide habitable conditions.',\n",
              " 'Future Mars missions would likely be designed to search for life itself in places identified as potential past or present habitats.',\n",
              " 'Like all Mars Exploration Program missions, future missions will be driven by rigorous scientific questions that continually evolve from discoveries by prior missions.',\n",
              " 'New and previously developed technologies will enable us to explore Mars in ways we never have before, resulting in higher-resolution images, precision landings, longer-ranging surface mobility and even the return of Martian soil and rock samples for studies in laboratories here on Earth.']"
            ]
          },
          "metadata": {},
          "execution_count": 8
        }
      ]
    },
    {
      "cell_type": "code",
      "metadata": {
        "id": "qpKFFNP6Z9yB"
      },
      "source": [
        "#a function to return a random greeting response to a users greeting\n",
        "def greeting_response(text):\n",
        "    text = text.lower()\n",
        "    \n",
        "    #Bots greeting respone\n",
        "    bot_greetings = [\"hello\",\"hei\",\"what's poppin\",\"welcome to my chat\"]\n",
        "    \n",
        "    #Users greeting\n",
        "    user_greetings = ['hi','hey','hello']\n",
        "    \n",
        "    for word in text.split():\n",
        "        if word in user_greetings:\n",
        "            return random.choice(bot_greetings)\n",
        "        \n",
        "    #Random response to greeting\n",
        "    def gratitude_response(text):\n",
        "        text=text.lower()"
      ],
      "execution_count": 9,
      "outputs": []
    },
    {
      "cell_type": "code",
      "metadata": {
        "id": "1T7QhA8CaCMW"
      },
      "source": [
        "#sorting list\n",
        "def index_sort(list_var):\n",
        "    length = len(list_var)\n",
        "    list_index = list(range(0, length))\n",
        "    \n",
        "    x = list_var        \n",
        "    for i in range(length):\n",
        "        for j in range(length):\n",
        "            if x[list_index[i]] > x[list_index[j]]:\n",
        "                #swap\n",
        "                temp = list_index[i]\n",
        "                list_index[i] = list_index[j]\n",
        "                list_index[j] = temp\n",
        "                \n",
        "    return list_index"
      ],
      "execution_count": 10,
      "outputs": []
    },
    {
      "cell_type": "code",
      "metadata": {
        "id": "-K12FtY1aC3b"
      },
      "source": [
        "#chatbot merespon dengan cosine similarity\n",
        "# Creat Bots Response\n",
        "def bot_response(user_input):\n",
        "    user_input=user_input.lower() #Merubah input dari user menjadi huruf kecil\n",
        "    sentence_list.append(user_input) #Memasukkan input user kedalam corpus yg kita punya (corpus disimpan dalam variabel sentence_list)\n",
        "    bot_response= '' #Inisialisasi variabel bot response\n",
        "\n",
        "    cm=CountVectorizer().fit_transform(sentence_list) #Melakukan ekstraksi fitur pada corpus yg kita punya menggunakan CountVectorizer (Bag of Word)\n",
        "\n",
        "    similarity_scores=cosine_similarity(cm[-1],cm) #Menghitung cosine similarity antara hasil fitur ekstraksi input user (cm[-1]) dengan semua data dalam corpus\n",
        "    similarity_scores_list=similarity_scores.flatten() #Merubah hasil perhitungan cosine similarity menjadi list 1D\n",
        "    index=index_sort(similarity_scores_list) #Melakukan sorting untuk index pada similarity score berdasarkan element yg terbesar, kemudian hasilnya disimpan pada list yg bernama index\n",
        "    index=index[1:] \n",
        "\n",
        "    response_flag=0 \n",
        "    for i in range(len(index)):\n",
        "        if similarity_scores_list[index[i]]>0.0:\n",
        "            bot_response=bot_response+' '+sentence_list[index[i]]\n",
        "            response_flag=1\n",
        "\n",
        "        if response_flag==0:\n",
        "            bot_response=bot_response+\" \"+\"I apologize, I dont understand\" #Jika respon_flag = 0 (tidak ada kata yg cocok) maka akan memberikan response  apologize, I dont understand.\n",
        "\n",
        "        sentence_list.remove(user_input) #Meremove user_input yg sudah dimasukkan kedalam sentence_list (Corpus yg kita punya).\n",
        "\n",
        "        return bot_response"
      ],
      "execution_count": 11,
      "outputs": []
    },
    {
      "cell_type": "code",
      "metadata": {
        "colab": {
          "base_uri": "https://localhost:8080/"
        },
        "id": "nageHtocaIth",
        "outputId": "03a443b7-7c78-4dcd-faf9-e7c7fe16a2f9"
      },
      "source": [
        "#Start Chat\n",
        "print(\"Z Bot:  I am Z bot and I will answer your curiousity about life on Mars, if you want to exit type, done \")\n",
        "\n",
        "exit_list=['exit', 'quit', 'done','finish','stop']\n",
        "\n",
        "while(True):\n",
        "    user_input=input() #mengambil input pada user\n",
        "    if user_input.lower() in exit_list: #kalau input dari user ada didalam exit_list maka program akan berhenti\n",
        "        print('Z Bot: Thank you for using our bot service')\n",
        "        break\n",
        "    else:\n",
        "        if greeting_response(user_input)!= None: #Mengecek apakah input dari user masuk kedalam greeting atau bukan\n",
        "            print('Z Bot: '+ greeting_response(user_input)) #Jika masuk kedalam greeting maka bot akan melakukan response terhadap greeting tersebut\n",
        "        else:\n",
        "            print('Z Bot: '+ bot_response(user_input)) #Jika bukan, maka bot akan memanggil fungsi bot_response untuk menentukan respon apa yg akan ia keluarkan sesuai dengan input dari user"
      ],
      "execution_count": 12,
      "outputs": [
        {
          "output_type": "stream",
          "name": "stdout",
          "text": [
            "Z Bot:  I am Z bot and I will answer your curiousity about life on Mars, if you want to exit type, done \n",
            "why Mars\n",
            "Z Bot:  Because water is key to life as we know it, earlier Mars missions (2001 Mars Odyssey, Mars Exploration Rovers, Mars Reconnaissance Orbiter, Mars Phoenix Lander) were designed to make discoveries under the previous Mars Exploration Program science theme of \"Follow the Water.\"\n",
            "should we life on mars\n",
            "Z Bot:  We ourselves might become the \"life on Mars\" should humans choose to travel there one day.\n",
            "is mars have oxigen\n",
            "Z Bot:  Mars is Very Cold The average temperature is -64 degrees F (-53 C).\n",
            "how we can life on mars\n",
            "Z Bot:  But how likely is life on Mars?\n",
            "what is the name of firs project land on mars\n",
            "Z Bot:  2 / 8 Mars is Twice the Size of Earth's Moon!\n",
            "exit\n",
            "Z Bot: Thank you for using our bot service\n"
          ]
        }
      ]
    }
  ]
}